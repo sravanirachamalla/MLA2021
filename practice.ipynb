{
  "nbformat": 4,
  "nbformat_minor": 0,
  "metadata": {
    "colab": {
      "name": "practice",
      "provenance": [],
      "collapsed_sections": [],
      "authorship_tag": "ABX9TyMp6eXIZCJKLkZtLxrb/281",
      "include_colab_link": true
    },
    "kernelspec": {
      "name": "python3",
      "display_name": "Python 3"
    },
    "language_info": {
      "name": "python"
    }
  },
  "cells": [
    {
      "cell_type": "markdown",
      "metadata": {
        "id": "view-in-github",
        "colab_type": "text"
      },
      "source": [
        "<a href=\"https://colab.research.google.com/github/sravanirachamalla/MLA2021/blob/main/practice.ipynb\" target=\"_parent\"><img src=\"https://colab.research.google.com/assets/colab-badge.svg\" alt=\"Open In Colab\"/></a>"
      ]
    },
    {
      "cell_type": "markdown",
      "metadata": {
        "id": "hf9eGvArMA9_"
      },
      "source": [
        "## **Introduction to machine** **learning**"
      ]
    },
    {
      "cell_type": "code",
      "metadata": {
        "id": "TXSGV61DLH2F"
      },
      "source": [
        "var1=2\n",
        "var2=5.0\n",
        "var3= True\n",
        "var4=\"machine learning\""
      ],
      "execution_count": null,
      "outputs": []
    },
    {
      "cell_type": "code",
      "metadata": {
        "colab": {
          "base_uri": "https://localhost:8080/"
        },
        "id": "kCmdk3ydLpzO",
        "outputId": "ea011d4d-1c95-4ad7-d470-6b3d965160ec"
      },
      "source": [
        "print(\"value of var1:\", var1)\n",
        "print(\"value of var2:\", var2)\n",
        "print(\"value of var1:\", var3)\n",
        "print(\"value of var2:\", var4)"
      ],
      "execution_count": null,
      "outputs": [
        {
          "output_type": "stream",
          "text": [
            "value of var1: 2\n",
            "value of var2: 5.0\n",
            "value of var1: True\n",
            "value of var2: machine learning\n"
          ],
          "name": "stdout"
        }
      ]
    },
    {
      "cell_type": "code",
      "metadata": {
        "colab": {
          "base_uri": "https://localhost:8080/"
        },
        "id": "TktYtPeeMC_d",
        "outputId": "02447de4-8fca-4cc7-b18c-74fa30e19275"
      },
      "source": [
        "type(var1)\n"
      ],
      "execution_count": null,
      "outputs": [
        {
          "output_type": "execute_result",
          "data": {
            "text/plain": [
              "str"
            ]
          },
          "metadata": {},
          "execution_count": 13
        }
      ]
    },
    {
      "cell_type": "code",
      "metadata": {
        "colab": {
          "base_uri": "https://localhost:8080/"
        },
        "id": "nPHHALTLMmIr",
        "outputId": "06774871-a1b0-4294-ebaf-9d4f0e3fb61f"
      },
      "source": [
        "#checking a condition if the variable value is more than 1\n",
        "if var1>1:\n",
        "  print(\"bigger than 1\")"
      ],
      "execution_count": null,
      "outputs": [
        {
          "output_type": "stream",
          "text": [
            "bigger than 1\n"
          ],
          "name": "stdout"
        }
      ]
    },
    {
      "cell_type": "code",
      "metadata": {
        "colab": {
          "base_uri": "https://localhost:8080/"
        },
        "id": "714oWtdFM00A",
        "outputId": "1db5baa9-6571-4d6d-b25f-f4324cb9d963"
      },
      "source": [
        "x=10\n",
        "y=12\n",
        "#if x is greater than y\n",
        "if x>y:\n",
        "  print(\"x>y\")\n",
        "#if x is lesser than y \n",
        "elif x<y:\n",
        "  print(\"x<y\")\n",
        "else:\n",
        "  print(\"x=y\")"
      ],
      "execution_count": null,
      "outputs": [
        {
          "output_type": "stream",
          "text": [
            "x<y\n"
          ],
          "name": "stdout"
        }
      ]
    },
    {
      "cell_type": "code",
      "metadata": {
        "id": "eArf7MnnQwdY"
      },
      "source": [
        "##create an emptylist\n",
        "emptylist=[]"
      ],
      "execution_count": null,
      "outputs": []
    },
    {
      "cell_type": "code",
      "metadata": {
        "id": "CUS-qdZuQQ6h"
      },
      "source": [
        "batsmen=['rohit', 'dhawan', 'kohyli', 'dhoni', 'ishaan']"
      ],
      "execution_count": null,
      "outputs": []
    },
    {
      "cell_type": "code",
      "metadata": {
        "colab": {
          "base_uri": "https://localhost:8080/",
          "height": 35
        },
        "id": "2r6m4MrnQgXU",
        "outputId": "5fde0ce0-09be-4b38-f089-3e71b6becb13"
      },
      "source": [
        "batsmen[0]"
      ],
      "execution_count": null,
      "outputs": [
        {
          "output_type": "execute_result",
          "data": {
            "application/vnd.google.colaboratory.intrinsic+json": {
              "type": "string"
            },
            "text/plain": [
              "'rohit'"
            ]
          },
          "metadata": {},
          "execution_count": 40
        }
      ]
    },
    {
      "cell_type": "markdown",
      "metadata": {
        "id": "u3tDlXVHRFCG"
      },
      "source": [
        "slicing data"
      ]
    },
    {
      "cell_type": "code",
      "metadata": {
        "colab": {
          "base_uri": "https://localhost:8080/"
        },
        "id": "A9Y6F9XQRC-Y",
        "outputId": "f3db1508-fad4-4012-cdce-36168b876f60"
      },
      "source": [
        "##slicing data\n",
        "batsmen[0:2]"
      ],
      "execution_count": null,
      "outputs": [
        {
          "output_type": "execute_result",
          "data": {
            "text/plain": [
              "['rohit', 'dhawan']"
            ]
          },
          "metadata": {},
          "execution_count": 41
        }
      ]
    },
    {
      "cell_type": "code",
      "metadata": {
        "colab": {
          "base_uri": "https://localhost:8080/",
          "height": 35
        },
        "id": "VjD-cH-5RUuu",
        "outputId": "d838a0ae-bc59-40ea-d7a3-0a96fd604dae"
      },
      "source": [
        "batsmen[-1]"
      ],
      "execution_count": null,
      "outputs": [
        {
          "output_type": "execute_result",
          "data": {
            "application/vnd.google.colaboratory.intrinsic+json": {
              "type": "string"
            },
            "text/plain": [
              "'ishaan'"
            ]
          },
          "metadata": {},
          "execution_count": 42
        }
      ]
    },
    {
      "cell_type": "code",
      "metadata": {
        "colab": {
          "base_uri": "https://localhost:8080/"
        },
        "id": "moCEpEYERYCz",
        "outputId": "be2d9ae1-8d63-4063-f8aa-c59fdabd1a25"
      },
      "source": [
        "#how many elemants in the list\n",
        "len(batsmen)"
      ],
      "execution_count": null,
      "outputs": [
        {
          "output_type": "execute_result",
          "data": {
            "text/plain": [
              "5"
            ]
          },
          "metadata": {},
          "execution_count": 44
        }
      ]
    },
    {
      "cell_type": "code",
      "metadata": {
        "id": "19qPQoLmRe8C"
      },
      "source": [
        "bowlers=['bumrah', 'shami', 'bhuvi', 'kuldeep']"
      ],
      "execution_count": null,
      "outputs": []
    },
    {
      "cell_type": "code",
      "metadata": {
        "id": "R2za-NEPRpu-"
      },
      "source": [
        "all_players=batsmen+bowlers"
      ],
      "execution_count": null,
      "outputs": []
    },
    {
      "cell_type": "code",
      "metadata": {
        "colab": {
          "base_uri": "https://localhost:8080/"
        },
        "id": "33YsZ0DkRvjr",
        "outputId": "4a057235-ce16-45e8-b93c-da9c81c694c5"
      },
      "source": [
        "all_players"
      ],
      "execution_count": null,
      "outputs": [
        {
          "output_type": "execute_result",
          "data": {
            "text/plain": [
              "['rohit',\n",
              " 'dhawan',\n",
              " 'kohyli',\n",
              " 'dhoni',\n",
              " 'ishaan',\n",
              " 'bumrah',\n",
              " 'shami',\n",
              " 'bhuvi',\n",
              " 'kuldeep']"
            ]
          },
          "metadata": {},
          "execution_count": 47
        }
      ]
    },
    {
      "cell_type": "markdown",
      "metadata": {
        "id": "bNIotA61R3mN"
      },
      "source": [
        "True if exists,else return false"
      ]
    },
    {
      "cell_type": "code",
      "metadata": {
        "colab": {
          "base_uri": "https://localhost:8080/"
        },
        "id": "Hn_7ZPbxR7cQ",
        "outputId": "2f4cd7cd-ae63-489b-c075-d6731b5ea69f"
      },
      "source": [
        "'bumrah' in bowlers"
      ],
      "execution_count": null,
      "outputs": [
        {
          "output_type": "execute_result",
          "data": {
            "text/plain": [
              "True"
            ]
          },
          "metadata": {},
          "execution_count": 48
        }
      ]
    },
    {
      "cell_type": "code",
      "metadata": {
        "colab": {
          "base_uri": "https://localhost:8080/"
        },
        "id": "7yQc4_1BSBDJ",
        "outputId": "18df849f-52ee-44a9-c6fd-8b30f377d68b"
      },
      "source": [
        "'dhoni' in batsmen"
      ],
      "execution_count": null,
      "outputs": [
        {
          "output_type": "execute_result",
          "data": {
            "text/plain": [
              "True"
            ]
          },
          "metadata": {},
          "execution_count": 49
        }
      ]
    },
    {
      "cell_type": "code",
      "metadata": {
        "colab": {
          "base_uri": "https://localhost:8080/"
        },
        "id": "CjYTAyy4SH7S",
        "outputId": "a749ad56-9b79-4aa3-ed8d-c81fe857a52c"
      },
      "source": [
        "##index is used to find the place in the list\n",
        "all_players.index('dhoni')"
      ],
      "execution_count": null,
      "outputs": [
        {
          "output_type": "execute_result",
          "data": {
            "text/plain": [
              "5"
            ]
          },
          "metadata": {},
          "execution_count": 57
        }
      ]
    },
    {
      "cell_type": "code",
      "metadata": {
        "colab": {
          "base_uri": "https://localhost:8080/"
        },
        "id": "1be8lXQhSRvm",
        "outputId": "651fc198-96bd-4562-a9e0-c86a3c126847"
      },
      "source": [
        "##reverse function\n",
        "all_players.reverse()\n",
        "all_players"
      ],
      "execution_count": null,
      "outputs": [
        {
          "output_type": "execute_result",
          "data": {
            "text/plain": [
              "['kuldeep',\n",
              " 'bhuvi',\n",
              " 'shami',\n",
              " 'bumrah',\n",
              " 'ishaan',\n",
              " 'dhoni',\n",
              " 'kohyli',\n",
              " 'dhawan',\n",
              " 'rohit']"
            ]
          },
          "metadata": {},
          "execution_count": 51
        }
      ]
    },
    {
      "cell_type": "code",
      "metadata": {
        "colab": {
          "base_uri": "https://localhost:8080/"
        },
        "id": "dTlMxuXdSa7i",
        "outputId": "f8b465b9-8e9d-4ca9-e1df-0681b56bbe4a"
      },
      "source": [
        "all_players.index('dhoni')"
      ],
      "execution_count": null,
      "outputs": [
        {
          "output_type": "execute_result",
          "data": {
            "text/plain": [
              "5"
            ]
          },
          "metadata": {},
          "execution_count": 52
        }
      ]
    },
    {
      "cell_type": "code",
      "metadata": {
        "id": "-uqVHhlISf1o"
      },
      "source": [
        "##tuple cannot be changed as the list above, once done is not immutable\n",
        "players=tuple(all_players)"
      ],
      "execution_count": null,
      "outputs": []
    },
    {
      "cell_type": "code",
      "metadata": {
        "colab": {
          "base_uri": "https://localhost:8080/"
        },
        "id": "XkpFyHc-TBEO",
        "outputId": "acbea08f-2804-4700-83c5-7e925e4f19a3"
      },
      "source": [
        "players"
      ],
      "execution_count": null,
      "outputs": [
        {
          "output_type": "execute_result",
          "data": {
            "text/plain": [
              "('kuldeep',\n",
              " 'bhuvi',\n",
              " 'shami',\n",
              " 'bumrah',\n",
              " 'ishaan',\n",
              " 'dhoni',\n",
              " 'kohyli',\n",
              " 'dhawan',\n",
              " 'rohit')"
            ]
          },
          "metadata": {},
          "execution_count": 54
        }
      ]
    },
    {
      "cell_type": "code",
      "metadata": {
        "id": "DAE2LZTZTE5T"
      },
      "source": [
        "##set is collection of elements that values cannot be repeated with flower brackets\n",
        "setofnumbers={6,1,1,3,4,4,5}"
      ],
      "execution_count": null,
      "outputs": []
    },
    {
      "cell_type": "code",
      "metadata": {
        "colab": {
          "base_uri": "https://localhost:8080/"
        },
        "id": "7b3Mw2iTTlyv",
        "outputId": "df49582f-279a-4ca8-f103-229850fd6f16"
      },
      "source": [
        "setofnumbers"
      ],
      "execution_count": null,
      "outputs": [
        {
          "output_type": "execute_result",
          "data": {
            "text/plain": [
              "{1, 3, 4, 5, 6}"
            ]
          },
          "metadata": {},
          "execution_count": 56
        }
      ]
    },
    {
      "cell_type": "code",
      "metadata": {
        "id": "gsje49T2T7Co"
      },
      "source": [
        "bp2011={'sweety', 'sreya', 'bunty', 'milky', 'goldy', 'dolly', 'puppy'}\n",
        "bp2015={'goldy', 'beauty', 'minty', 'puppy', 'dolly', 'sweety', 'bunty'}"
      ],
      "execution_count": null,
      "outputs": []
    },
    {
      "cell_type": "code",
      "metadata": {
        "colab": {
          "base_uri": "https://localhost:8080/"
        },
        "id": "fexLxHCVVmOp",
        "outputId": "fc2b2db2-f336-4484-e464-ea022eb25539"
      },
      "source": [
        "bp2011.union(bp2015)"
      ],
      "execution_count": null,
      "outputs": [
        {
          "output_type": "execute_result",
          "data": {
            "text/plain": [
              "{'beauty',\n",
              " 'bunty',\n",
              " 'dolly',\n",
              " 'goldy',\n",
              " 'milky',\n",
              " 'minty',\n",
              " 'puppy',\n",
              " 'sreya',\n",
              " 'sweety'}"
            ]
          },
          "metadata": {},
          "execution_count": 60
        }
      ]
    },
    {
      "cell_type": "code",
      "metadata": {
        "colab": {
          "base_uri": "https://localhost:8080/"
        },
        "id": "br7bBNfiVtFA",
        "outputId": "01a379da-602c-436a-c31c-99f2ddcee433"
      },
      "source": [
        "bp2011.intersection(bp2015)"
      ],
      "execution_count": null,
      "outputs": [
        {
          "output_type": "execute_result",
          "data": {
            "text/plain": [
              "{'bunty', 'dolly', 'goldy', 'puppy', 'sweety'}"
            ]
          },
          "metadata": {},
          "execution_count": 61
        }
      ]
    },
    {
      "cell_type": "code",
      "metadata": {
        "colab": {
          "base_uri": "https://localhost:8080/"
        },
        "id": "GIz0_2eVVwcD",
        "outputId": "bbb3879c-a2a5-4fbb-a7a8-cfd2d759430f"
      },
      "source": [
        "bp2015.difference(bp2011)"
      ],
      "execution_count": null,
      "outputs": [
        {
          "output_type": "execute_result",
          "data": {
            "text/plain": [
              "{'beauty', 'minty'}"
            ]
          },
          "metadata": {},
          "execution_count": 62
        }
      ]
    },
    {
      "cell_type": "code",
      "metadata": {
        "id": "h2CKHM9IWN_x"
      },
      "source": [
        "##dealing with strings\n",
        "string0='python'\n",
        "string1=\"machine learning\"\n",
        "string3=\"\"\"this is a multiline string\"\"\""
      ],
      "execution_count": null,
      "outputs": []
    },
    {
      "cell_type": "code",
      "metadata": {
        "colab": {
          "base_uri": "https://localhost:8080/",
          "height": 35
        },
        "id": "rNDV5yklWwOz",
        "outputId": "5cae34cf-73fa-4228-a6e9-78aeb3e47d89"
      },
      "source": [
        "string0.upper()"
      ],
      "execution_count": null,
      "outputs": [
        {
          "output_type": "execute_result",
          "data": {
            "application/vnd.google.colaboratory.intrinsic+json": {
              "type": "string"
            },
            "text/plain": [
              "'PYTHON'"
            ]
          },
          "metadata": {},
          "execution_count": 64
        }
      ]
    },
    {
      "cell_type": "code",
      "metadata": {
        "colab": {
          "base_uri": "https://localhost:8080/"
        },
        "id": "qjVJRo2bWzw5",
        "outputId": "639ee4e6-72cd-43de-a12c-e444234da515"
      },
      "source": [
        "###splitting the string\n",
        "tokens=string1.split(' ')\n",
        "tokens"
      ],
      "execution_count": null,
      "outputs": [
        {
          "output_type": "execute_result",
          "data": {
            "text/plain": [
              "['machine', 'learning']"
            ]
          },
          "metadata": {},
          "execution_count": 67
        }
      ]
    },
    {
      "cell_type": "code",
      "metadata": {
        "colab": {
          "base_uri": "https://localhost:8080/"
        },
        "id": "2SUWNAb7XIi6",
        "outputId": "61c73109-3a11-430b-9e7a-298a4f223841"
      },
      "source": [
        "tokens=string3.split(\" \")\n",
        "tokens"
      ],
      "execution_count": null,
      "outputs": [
        {
          "output_type": "execute_result",
          "data": {
            "text/plain": [
              "['this', 'is', 'a', 'multiline', 'string']"
            ]
          },
          "metadata": {},
          "execution_count": 70
        }
      ]
    },
    {
      "cell_type": "markdown",
      "metadata": {
        "id": "Q_m5vA8fClhg"
      },
      "source": [
        "# **Descriptive analysis**"
      ]
    },
    {
      "cell_type": "code",
      "metadata": {
        "id": "MhbeshLaXRaj",
        "colab": {
          "base_uri": "https://localhost:8080/"
        },
        "outputId": "524b1995-2ef1-438b-a24d-08bb92f1d93e"
      },
      "source": [
        "print('welcome')"
      ],
      "execution_count": 3,
      "outputs": [
        {
          "output_type": "stream",
          "text": [
            "welcome\n"
          ],
          "name": "stdout"
        }
      ]
    },
    {
      "cell_type": "code",
      "metadata": {
        "id": "plhiguRtC9aw"
      },
      "source": [
        "import pandas as pd"
      ],
      "execution_count": 4,
      "outputs": []
    },
    {
      "cell_type": "code",
      "metadata": {
        "id": "l_hAF5IqDAQs"
      },
      "source": [
        "pd.read_csv?"
      ],
      "execution_count": 6,
      "outputs": []
    },
    {
      "cell_type": "code",
      "metadata": {
        "id": "WNHW9VIBDKjZ"
      },
      "source": [
        "ipl_df=pd.read_csv('https://raw.githubusercontent.com/sravanirachamalla/MLA2021/main/Data/IPL%20IMB381IPL2013.csv')\n"
      ],
      "execution_count": 13,
      "outputs": []
    },
    {
      "cell_type": "code",
      "metadata": {
        "colab": {
          "base_uri": "https://localhost:8080/"
        },
        "id": "j00wA1OuDVsB",
        "outputId": "55edde48-60b0-4cf9-8237-e85b388dfb87"
      },
      "source": [
        "type(ipl_df)"
      ],
      "execution_count": 14,
      "outputs": [
        {
          "output_type": "execute_result",
          "data": {
            "text/plain": [
              "pandas.core.frame.DataFrame"
            ]
          },
          "metadata": {},
          "execution_count": 14
        }
      ]
    },
    {
      "cell_type": "code",
      "metadata": {
        "id": "qyM5g82kDt6o"
      },
      "source": [
        "##displaying first few records of the dataframe\n",
        "pd.set_option('display.max_columns', 10)\n"
      ],
      "execution_count": 17,
      "outputs": []
    },
    {
      "cell_type": "code",
      "metadata": {
        "colab": {
          "base_uri": "https://localhost:8080/",
          "height": 232
        },
        "id": "zBJieTleES6N",
        "outputId": "6efc44eb-60e8-418c-dfa3-31254e0279f2"
      },
      "source": [
        "ipl_df.head(5)"
      ],
      "execution_count": 18,
      "outputs": [
        {
          "output_type": "execute_result",
          "data": {
            "text/html": [
              "<div>\n",
              "<style scoped>\n",
              "    .dataframe tbody tr th:only-of-type {\n",
              "        vertical-align: middle;\n",
              "    }\n",
              "\n",
              "    .dataframe tbody tr th {\n",
              "        vertical-align: top;\n",
              "    }\n",
              "\n",
              "    .dataframe thead th {\n",
              "        text-align: right;\n",
              "    }\n",
              "</style>\n",
              "<table border=\"1\" class=\"dataframe\">\n",
              "  <thead>\n",
              "    <tr style=\"text-align: right;\">\n",
              "      <th></th>\n",
              "      <th>Sl.NO.</th>\n",
              "      <th>PLAYER NAME</th>\n",
              "      <th>AGE</th>\n",
              "      <th>COUNTRY</th>\n",
              "      <th>TEAM</th>\n",
              "      <th>...</th>\n",
              "      <th>ECON</th>\n",
              "      <th>SR-BL</th>\n",
              "      <th>AUCTION YEAR</th>\n",
              "      <th>BASE PRICE</th>\n",
              "      <th>SOLD PRICE</th>\n",
              "    </tr>\n",
              "  </thead>\n",
              "  <tbody>\n",
              "    <tr>\n",
              "      <th>0</th>\n",
              "      <td>1</td>\n",
              "      <td>Abdulla, YA</td>\n",
              "      <td>2</td>\n",
              "      <td>SA</td>\n",
              "      <td>KXIP</td>\n",
              "      <td>...</td>\n",
              "      <td>8.90</td>\n",
              "      <td>13.93</td>\n",
              "      <td>2009</td>\n",
              "      <td>50000</td>\n",
              "      <td>50000</td>\n",
              "    </tr>\n",
              "    <tr>\n",
              "      <th>1</th>\n",
              "      <td>2</td>\n",
              "      <td>Abdur Razzak</td>\n",
              "      <td>2</td>\n",
              "      <td>BAN</td>\n",
              "      <td>RCB</td>\n",
              "      <td>...</td>\n",
              "      <td>14.50</td>\n",
              "      <td>0.00</td>\n",
              "      <td>2008</td>\n",
              "      <td>50000</td>\n",
              "      <td>50000</td>\n",
              "    </tr>\n",
              "    <tr>\n",
              "      <th>2</th>\n",
              "      <td>3</td>\n",
              "      <td>Agarkar, AB</td>\n",
              "      <td>2</td>\n",
              "      <td>IND</td>\n",
              "      <td>KKR</td>\n",
              "      <td>...</td>\n",
              "      <td>8.81</td>\n",
              "      <td>24.90</td>\n",
              "      <td>2008</td>\n",
              "      <td>200000</td>\n",
              "      <td>350000</td>\n",
              "    </tr>\n",
              "    <tr>\n",
              "      <th>3</th>\n",
              "      <td>4</td>\n",
              "      <td>Ashwin, R</td>\n",
              "      <td>1</td>\n",
              "      <td>IND</td>\n",
              "      <td>CSK</td>\n",
              "      <td>...</td>\n",
              "      <td>6.23</td>\n",
              "      <td>22.14</td>\n",
              "      <td>2011</td>\n",
              "      <td>100000</td>\n",
              "      <td>850000</td>\n",
              "    </tr>\n",
              "    <tr>\n",
              "      <th>4</th>\n",
              "      <td>5</td>\n",
              "      <td>Badrinath, S</td>\n",
              "      <td>2</td>\n",
              "      <td>IND</td>\n",
              "      <td>CSK</td>\n",
              "      <td>...</td>\n",
              "      <td>0.00</td>\n",
              "      <td>0.00</td>\n",
              "      <td>2011</td>\n",
              "      <td>100000</td>\n",
              "      <td>800000</td>\n",
              "    </tr>\n",
              "  </tbody>\n",
              "</table>\n",
              "<p>5 rows × 26 columns</p>\n",
              "</div>"
            ],
            "text/plain": [
              "   Sl.NO.   PLAYER NAME  AGE COUNTRY  TEAM  ...   ECON  SR-BL  AUCTION YEAR  \\\n",
              "0       1   Abdulla, YA    2      SA  KXIP  ...   8.90  13.93          2009   \n",
              "1       2  Abdur Razzak    2     BAN   RCB  ...  14.50   0.00          2008   \n",
              "2       3   Agarkar, AB    2     IND   KKR  ...   8.81  24.90          2008   \n",
              "3       4     Ashwin, R    1     IND   CSK  ...   6.23  22.14          2011   \n",
              "4       5  Badrinath, S    2     IND   CSK  ...   0.00   0.00          2011   \n",
              "\n",
              "   BASE PRICE  SOLD PRICE  \n",
              "0       50000       50000  \n",
              "1       50000       50000  \n",
              "2      200000      350000  \n",
              "3      100000      850000  \n",
              "4      100000      800000  \n",
              "\n",
              "[5 rows x 26 columns]"
            ]
          },
          "metadata": {},
          "execution_count": 18
        }
      ]
    },
    {
      "cell_type": "code",
      "metadata": {
        "colab": {
          "base_uri": "https://localhost:8080/"
        },
        "id": "LN8Ll3WiEuyd",
        "outputId": "0a89b726-d7ff-409b-9dd0-8dbfcd29144e"
      },
      "source": [
        "##Finding the summary of the dataframe\n",
        "list(ipl_df.columns)"
      ],
      "execution_count": 19,
      "outputs": [
        {
          "output_type": "execute_result",
          "data": {
            "text/plain": [
              "['Sl.NO.',\n",
              " 'PLAYER NAME',\n",
              " 'AGE',\n",
              " 'COUNTRY',\n",
              " 'TEAM',\n",
              " 'PLAYING ROLE',\n",
              " 'T-RUNS',\n",
              " 'T-WKTS',\n",
              " 'ODI-RUNS-S',\n",
              " 'ODI-SR-B',\n",
              " 'ODI-WKTS',\n",
              " 'ODI-SR-BL',\n",
              " 'CAPTAINCY EXP',\n",
              " 'RUNS-S',\n",
              " 'HS',\n",
              " 'AVE',\n",
              " 'SR-B',\n",
              " 'SIXERS',\n",
              " 'RUNS-C',\n",
              " 'WKTS',\n",
              " 'AVE-BL',\n",
              " 'ECON',\n",
              " 'SR-BL',\n",
              " 'AUCTION YEAR',\n",
              " 'BASE PRICE',\n",
              " 'SOLD PRICE']"
            ]
          },
          "metadata": {},
          "execution_count": 19
        }
      ]
    },
    {
      "cell_type": "code",
      "metadata": {
        "colab": {
          "base_uri": "https://localhost:8080/",
          "height": 850
        },
        "id": "r_dYPrFXFOHi",
        "outputId": "7b7f37a0-1703-47c1-d10c-5701287ec2c3"
      },
      "source": [
        "##to convert rows to columns and viceversa\n",
        "ipl_df.head(5).transpose()"
      ],
      "execution_count": 21,
      "outputs": [
        {
          "output_type": "execute_result",
          "data": {
            "text/html": [
              "<div>\n",
              "<style scoped>\n",
              "    .dataframe tbody tr th:only-of-type {\n",
              "        vertical-align: middle;\n",
              "    }\n",
              "\n",
              "    .dataframe tbody tr th {\n",
              "        vertical-align: top;\n",
              "    }\n",
              "\n",
              "    .dataframe thead th {\n",
              "        text-align: right;\n",
              "    }\n",
              "</style>\n",
              "<table border=\"1\" class=\"dataframe\">\n",
              "  <thead>\n",
              "    <tr style=\"text-align: right;\">\n",
              "      <th></th>\n",
              "      <th>0</th>\n",
              "      <th>1</th>\n",
              "      <th>2</th>\n",
              "      <th>3</th>\n",
              "      <th>4</th>\n",
              "    </tr>\n",
              "  </thead>\n",
              "  <tbody>\n",
              "    <tr>\n",
              "      <th>Sl.NO.</th>\n",
              "      <td>1</td>\n",
              "      <td>2</td>\n",
              "      <td>3</td>\n",
              "      <td>4</td>\n",
              "      <td>5</td>\n",
              "    </tr>\n",
              "    <tr>\n",
              "      <th>PLAYER NAME</th>\n",
              "      <td>Abdulla, YA</td>\n",
              "      <td>Abdur Razzak</td>\n",
              "      <td>Agarkar, AB</td>\n",
              "      <td>Ashwin, R</td>\n",
              "      <td>Badrinath, S</td>\n",
              "    </tr>\n",
              "    <tr>\n",
              "      <th>AGE</th>\n",
              "      <td>2</td>\n",
              "      <td>2</td>\n",
              "      <td>2</td>\n",
              "      <td>1</td>\n",
              "      <td>2</td>\n",
              "    </tr>\n",
              "    <tr>\n",
              "      <th>COUNTRY</th>\n",
              "      <td>SA</td>\n",
              "      <td>BAN</td>\n",
              "      <td>IND</td>\n",
              "      <td>IND</td>\n",
              "      <td>IND</td>\n",
              "    </tr>\n",
              "    <tr>\n",
              "      <th>TEAM</th>\n",
              "      <td>KXIP</td>\n",
              "      <td>RCB</td>\n",
              "      <td>KKR</td>\n",
              "      <td>CSK</td>\n",
              "      <td>CSK</td>\n",
              "    </tr>\n",
              "    <tr>\n",
              "      <th>PLAYING ROLE</th>\n",
              "      <td>Allrounder</td>\n",
              "      <td>Bowler</td>\n",
              "      <td>Bowler</td>\n",
              "      <td>Bowler</td>\n",
              "      <td>Batsman</td>\n",
              "    </tr>\n",
              "    <tr>\n",
              "      <th>T-RUNS</th>\n",
              "      <td>0</td>\n",
              "      <td>214</td>\n",
              "      <td>571</td>\n",
              "      <td>284</td>\n",
              "      <td>63</td>\n",
              "    </tr>\n",
              "    <tr>\n",
              "      <th>T-WKTS</th>\n",
              "      <td>0</td>\n",
              "      <td>18</td>\n",
              "      <td>58</td>\n",
              "      <td>31</td>\n",
              "      <td>0</td>\n",
              "    </tr>\n",
              "    <tr>\n",
              "      <th>ODI-RUNS-S</th>\n",
              "      <td>0</td>\n",
              "      <td>657</td>\n",
              "      <td>1269</td>\n",
              "      <td>241</td>\n",
              "      <td>79</td>\n",
              "    </tr>\n",
              "    <tr>\n",
              "      <th>ODI-SR-B</th>\n",
              "      <td>0</td>\n",
              "      <td>71.41</td>\n",
              "      <td>80.62</td>\n",
              "      <td>84.56</td>\n",
              "      <td>45.93</td>\n",
              "    </tr>\n",
              "    <tr>\n",
              "      <th>ODI-WKTS</th>\n",
              "      <td>0</td>\n",
              "      <td>185</td>\n",
              "      <td>288</td>\n",
              "      <td>51</td>\n",
              "      <td>0</td>\n",
              "    </tr>\n",
              "    <tr>\n",
              "      <th>ODI-SR-BL</th>\n",
              "      <td>0</td>\n",
              "      <td>37.6</td>\n",
              "      <td>32.9</td>\n",
              "      <td>36.8</td>\n",
              "      <td>0</td>\n",
              "    </tr>\n",
              "    <tr>\n",
              "      <th>CAPTAINCY EXP</th>\n",
              "      <td>0</td>\n",
              "      <td>0</td>\n",
              "      <td>0</td>\n",
              "      <td>0</td>\n",
              "      <td>0</td>\n",
              "    </tr>\n",
              "    <tr>\n",
              "      <th>RUNS-S</th>\n",
              "      <td>0</td>\n",
              "      <td>0</td>\n",
              "      <td>167</td>\n",
              "      <td>58</td>\n",
              "      <td>1317</td>\n",
              "    </tr>\n",
              "    <tr>\n",
              "      <th>HS</th>\n",
              "      <td>0</td>\n",
              "      <td>0</td>\n",
              "      <td>39</td>\n",
              "      <td>11</td>\n",
              "      <td>71</td>\n",
              "    </tr>\n",
              "    <tr>\n",
              "      <th>AVE</th>\n",
              "      <td>0</td>\n",
              "      <td>0</td>\n",
              "      <td>18.56</td>\n",
              "      <td>5.8</td>\n",
              "      <td>32.93</td>\n",
              "    </tr>\n",
              "    <tr>\n",
              "      <th>SR-B</th>\n",
              "      <td>0</td>\n",
              "      <td>0</td>\n",
              "      <td>121.01</td>\n",
              "      <td>76.32</td>\n",
              "      <td>120.71</td>\n",
              "    </tr>\n",
              "    <tr>\n",
              "      <th>SIXERS</th>\n",
              "      <td>0</td>\n",
              "      <td>0</td>\n",
              "      <td>5</td>\n",
              "      <td>0</td>\n",
              "      <td>28</td>\n",
              "    </tr>\n",
              "    <tr>\n",
              "      <th>RUNS-C</th>\n",
              "      <td>307</td>\n",
              "      <td>29</td>\n",
              "      <td>1059</td>\n",
              "      <td>1125</td>\n",
              "      <td>0</td>\n",
              "    </tr>\n",
              "    <tr>\n",
              "      <th>WKTS</th>\n",
              "      <td>15</td>\n",
              "      <td>0</td>\n",
              "      <td>29</td>\n",
              "      <td>49</td>\n",
              "      <td>0</td>\n",
              "    </tr>\n",
              "    <tr>\n",
              "      <th>AVE-BL</th>\n",
              "      <td>20.47</td>\n",
              "      <td>0</td>\n",
              "      <td>36.52</td>\n",
              "      <td>22.96</td>\n",
              "      <td>0</td>\n",
              "    </tr>\n",
              "    <tr>\n",
              "      <th>ECON</th>\n",
              "      <td>8.9</td>\n",
              "      <td>14.5</td>\n",
              "      <td>8.81</td>\n",
              "      <td>6.23</td>\n",
              "      <td>0</td>\n",
              "    </tr>\n",
              "    <tr>\n",
              "      <th>SR-BL</th>\n",
              "      <td>13.93</td>\n",
              "      <td>0</td>\n",
              "      <td>24.9</td>\n",
              "      <td>22.14</td>\n",
              "      <td>0</td>\n",
              "    </tr>\n",
              "    <tr>\n",
              "      <th>AUCTION YEAR</th>\n",
              "      <td>2009</td>\n",
              "      <td>2008</td>\n",
              "      <td>2008</td>\n",
              "      <td>2011</td>\n",
              "      <td>2011</td>\n",
              "    </tr>\n",
              "    <tr>\n",
              "      <th>BASE PRICE</th>\n",
              "      <td>50000</td>\n",
              "      <td>50000</td>\n",
              "      <td>200000</td>\n",
              "      <td>100000</td>\n",
              "      <td>100000</td>\n",
              "    </tr>\n",
              "    <tr>\n",
              "      <th>SOLD PRICE</th>\n",
              "      <td>50000</td>\n",
              "      <td>50000</td>\n",
              "      <td>350000</td>\n",
              "      <td>850000</td>\n",
              "      <td>800000</td>\n",
              "    </tr>\n",
              "  </tbody>\n",
              "</table>\n",
              "</div>"
            ],
            "text/plain": [
              "                         0             1            2          3             4\n",
              "Sl.NO.                   1             2            3          4             5\n",
              "PLAYER NAME    Abdulla, YA  Abdur Razzak  Agarkar, AB  Ashwin, R  Badrinath, S\n",
              "AGE                      2             2            2          1             2\n",
              "COUNTRY                 SA           BAN          IND        IND           IND\n",
              "TEAM                  KXIP           RCB          KKR        CSK           CSK\n",
              "PLAYING ROLE    Allrounder        Bowler       Bowler     Bowler       Batsman\n",
              "T-RUNS                   0           214          571        284            63\n",
              "T-WKTS                   0            18           58         31             0\n",
              "ODI-RUNS-S               0           657         1269        241            79\n",
              "ODI-SR-B                 0         71.41        80.62      84.56         45.93\n",
              "ODI-WKTS                 0           185          288         51             0\n",
              "ODI-SR-BL                0          37.6         32.9       36.8             0\n",
              "CAPTAINCY EXP            0             0            0          0             0\n",
              "RUNS-S                   0             0          167         58          1317\n",
              "HS                       0             0           39         11            71\n",
              "AVE                      0             0        18.56        5.8         32.93\n",
              "SR-B                     0             0       121.01      76.32        120.71\n",
              "SIXERS                   0             0            5          0            28\n",
              "RUNS-C                 307            29         1059       1125             0\n",
              "WKTS                    15             0           29         49             0\n",
              "AVE-BL               20.47             0        36.52      22.96             0\n",
              "ECON                   8.9          14.5         8.81       6.23             0\n",
              "SR-BL                13.93             0         24.9      22.14             0\n",
              "AUCTION YEAR          2009          2008         2008       2011          2011\n",
              "BASE PRICE           50000         50000       200000     100000        100000\n",
              "SOLD PRICE           50000         50000       350000     850000        800000"
            ]
          },
          "metadata": {},
          "execution_count": 21
        }
      ]
    },
    {
      "cell_type": "code",
      "metadata": {
        "colab": {
          "base_uri": "https://localhost:8080/"
        },
        "id": "_m9oMnYqFhdd",
        "outputId": "29090281-82aa-4b06-da81-b5b9355d3486"
      },
      "source": [
        "##to determine the dimension andf shape of the df\n",
        "ipl_df.shape"
      ],
      "execution_count": 22,
      "outputs": [
        {
          "output_type": "execute_result",
          "data": {
            "text/plain": [
              "(130, 26)"
            ]
          },
          "metadata": {},
          "execution_count": 22
        }
      ]
    },
    {
      "cell_type": "code",
      "metadata": {
        "colab": {
          "base_uri": "https://localhost:8080/"
        },
        "id": "KrHagkgYF1xv",
        "outputId": "0b16877f-030b-4e8c-951d-86ccb5e73739"
      },
      "source": [
        "##more information about the dataset\n",
        "ipl_df.info()"
      ],
      "execution_count": 23,
      "outputs": [
        {
          "output_type": "stream",
          "text": [
            "<class 'pandas.core.frame.DataFrame'>\n",
            "RangeIndex: 130 entries, 0 to 129\n",
            "Data columns (total 26 columns):\n",
            " #   Column         Non-Null Count  Dtype  \n",
            "---  ------         --------------  -----  \n",
            " 0   Sl.NO.         130 non-null    int64  \n",
            " 1   PLAYER NAME    130 non-null    object \n",
            " 2   AGE            130 non-null    int64  \n",
            " 3   COUNTRY        130 non-null    object \n",
            " 4   TEAM           130 non-null    object \n",
            " 5   PLAYING ROLE   130 non-null    object \n",
            " 6   T-RUNS         130 non-null    int64  \n",
            " 7   T-WKTS         130 non-null    int64  \n",
            " 8   ODI-RUNS-S     130 non-null    int64  \n",
            " 9   ODI-SR-B       130 non-null    float64\n",
            " 10  ODI-WKTS       130 non-null    int64  \n",
            " 11  ODI-SR-BL      130 non-null    float64\n",
            " 12  CAPTAINCY EXP  130 non-null    int64  \n",
            " 13  RUNS-S         130 non-null    int64  \n",
            " 14  HS             130 non-null    int64  \n",
            " 15  AVE            130 non-null    float64\n",
            " 16  SR-B           130 non-null    float64\n",
            " 17  SIXERS         130 non-null    int64  \n",
            " 18  RUNS-C         130 non-null    int64  \n",
            " 19  WKTS           130 non-null    int64  \n",
            " 20  AVE-BL         130 non-null    float64\n",
            " 21  ECON           130 non-null    float64\n",
            " 22  SR-BL          130 non-null    float64\n",
            " 23  AUCTION YEAR   130 non-null    int64  \n",
            " 24  BASE PRICE     130 non-null    int64  \n",
            " 25  SOLD PRICE     130 non-null    int64  \n",
            "dtypes: float64(7), int64(15), object(4)\n",
            "memory usage: 26.5+ KB\n"
          ],
          "name": "stdout"
        }
      ]
    },
    {
      "cell_type": "code",
      "metadata": {
        "colab": {
          "base_uri": "https://localhost:8080/",
          "height": 232
        },
        "id": "mGCKOZL_GRo4",
        "outputId": "0a523691-99ff-4f32-e979-37d51c20e6b8"
      },
      "source": [
        "#slicing and indexing of df- to choose selected columns and rows\n",
        "ipl_df[0:5]"
      ],
      "execution_count": 24,
      "outputs": [
        {
          "output_type": "execute_result",
          "data": {
            "text/html": [
              "<div>\n",
              "<style scoped>\n",
              "    .dataframe tbody tr th:only-of-type {\n",
              "        vertical-align: middle;\n",
              "    }\n",
              "\n",
              "    .dataframe tbody tr th {\n",
              "        vertical-align: top;\n",
              "    }\n",
              "\n",
              "    .dataframe thead th {\n",
              "        text-align: right;\n",
              "    }\n",
              "</style>\n",
              "<table border=\"1\" class=\"dataframe\">\n",
              "  <thead>\n",
              "    <tr style=\"text-align: right;\">\n",
              "      <th></th>\n",
              "      <th>Sl.NO.</th>\n",
              "      <th>PLAYER NAME</th>\n",
              "      <th>AGE</th>\n",
              "      <th>COUNTRY</th>\n",
              "      <th>TEAM</th>\n",
              "      <th>...</th>\n",
              "      <th>ECON</th>\n",
              "      <th>SR-BL</th>\n",
              "      <th>AUCTION YEAR</th>\n",
              "      <th>BASE PRICE</th>\n",
              "      <th>SOLD PRICE</th>\n",
              "    </tr>\n",
              "  </thead>\n",
              "  <tbody>\n",
              "    <tr>\n",
              "      <th>0</th>\n",
              "      <td>1</td>\n",
              "      <td>Abdulla, YA</td>\n",
              "      <td>2</td>\n",
              "      <td>SA</td>\n",
              "      <td>KXIP</td>\n",
              "      <td>...</td>\n",
              "      <td>8.90</td>\n",
              "      <td>13.93</td>\n",
              "      <td>2009</td>\n",
              "      <td>50000</td>\n",
              "      <td>50000</td>\n",
              "    </tr>\n",
              "    <tr>\n",
              "      <th>1</th>\n",
              "      <td>2</td>\n",
              "      <td>Abdur Razzak</td>\n",
              "      <td>2</td>\n",
              "      <td>BAN</td>\n",
              "      <td>RCB</td>\n",
              "      <td>...</td>\n",
              "      <td>14.50</td>\n",
              "      <td>0.00</td>\n",
              "      <td>2008</td>\n",
              "      <td>50000</td>\n",
              "      <td>50000</td>\n",
              "    </tr>\n",
              "    <tr>\n",
              "      <th>2</th>\n",
              "      <td>3</td>\n",
              "      <td>Agarkar, AB</td>\n",
              "      <td>2</td>\n",
              "      <td>IND</td>\n",
              "      <td>KKR</td>\n",
              "      <td>...</td>\n",
              "      <td>8.81</td>\n",
              "      <td>24.90</td>\n",
              "      <td>2008</td>\n",
              "      <td>200000</td>\n",
              "      <td>350000</td>\n",
              "    </tr>\n",
              "    <tr>\n",
              "      <th>3</th>\n",
              "      <td>4</td>\n",
              "      <td>Ashwin, R</td>\n",
              "      <td>1</td>\n",
              "      <td>IND</td>\n",
              "      <td>CSK</td>\n",
              "      <td>...</td>\n",
              "      <td>6.23</td>\n",
              "      <td>22.14</td>\n",
              "      <td>2011</td>\n",
              "      <td>100000</td>\n",
              "      <td>850000</td>\n",
              "    </tr>\n",
              "    <tr>\n",
              "      <th>4</th>\n",
              "      <td>5</td>\n",
              "      <td>Badrinath, S</td>\n",
              "      <td>2</td>\n",
              "      <td>IND</td>\n",
              "      <td>CSK</td>\n",
              "      <td>...</td>\n",
              "      <td>0.00</td>\n",
              "      <td>0.00</td>\n",
              "      <td>2011</td>\n",
              "      <td>100000</td>\n",
              "      <td>800000</td>\n",
              "    </tr>\n",
              "  </tbody>\n",
              "</table>\n",
              "<p>5 rows × 26 columns</p>\n",
              "</div>"
            ],
            "text/plain": [
              "   Sl.NO.   PLAYER NAME  AGE COUNTRY  TEAM  ...   ECON  SR-BL  AUCTION YEAR  \\\n",
              "0       1   Abdulla, YA    2      SA  KXIP  ...   8.90  13.93          2009   \n",
              "1       2  Abdur Razzak    2     BAN   RCB  ...  14.50   0.00          2008   \n",
              "2       3   Agarkar, AB    2     IND   KKR  ...   8.81  24.90          2008   \n",
              "3       4     Ashwin, R    1     IND   CSK  ...   6.23  22.14          2011   \n",
              "4       5  Badrinath, S    2     IND   CSK  ...   0.00   0.00          2011   \n",
              "\n",
              "   BASE PRICE  SOLD PRICE  \n",
              "0       50000       50000  \n",
              "1       50000       50000  \n",
              "2      200000      350000  \n",
              "3      100000      850000  \n",
              "4      100000      800000  \n",
              "\n",
              "[5 rows x 26 columns]"
            ]
          },
          "metadata": {},
          "execution_count": 24
        }
      ]
    },
    {
      "cell_type": "code",
      "metadata": {
        "colab": {
          "base_uri": "https://localhost:8080/",
          "height": 232
        },
        "id": "0AvwawUSILfV",
        "outputId": "2bfa1de4-ac77-4a9d-fa7f-f8a01688983c"
      },
      "source": [
        "ipl_df[-5:]"
      ],
      "execution_count": 26,
      "outputs": [
        {
          "output_type": "execute_result",
          "data": {
            "text/html": [
              "<div>\n",
              "<style scoped>\n",
              "    .dataframe tbody tr th:only-of-type {\n",
              "        vertical-align: middle;\n",
              "    }\n",
              "\n",
              "    .dataframe tbody tr th {\n",
              "        vertical-align: top;\n",
              "    }\n",
              "\n",
              "    .dataframe thead th {\n",
              "        text-align: right;\n",
              "    }\n",
              "</style>\n",
              "<table border=\"1\" class=\"dataframe\">\n",
              "  <thead>\n",
              "    <tr style=\"text-align: right;\">\n",
              "      <th></th>\n",
              "      <th>Sl.NO.</th>\n",
              "      <th>PLAYER NAME</th>\n",
              "      <th>AGE</th>\n",
              "      <th>COUNTRY</th>\n",
              "      <th>TEAM</th>\n",
              "      <th>...</th>\n",
              "      <th>ECON</th>\n",
              "      <th>SR-BL</th>\n",
              "      <th>AUCTION YEAR</th>\n",
              "      <th>BASE PRICE</th>\n",
              "      <th>SOLD PRICE</th>\n",
              "    </tr>\n",
              "  </thead>\n",
              "  <tbody>\n",
              "    <tr>\n",
              "      <th>125</th>\n",
              "      <td>126</td>\n",
              "      <td>Yadav, AS</td>\n",
              "      <td>2</td>\n",
              "      <td>IND</td>\n",
              "      <td>DC</td>\n",
              "      <td>...</td>\n",
              "      <td>0.00</td>\n",
              "      <td>0.00</td>\n",
              "      <td>2010</td>\n",
              "      <td>50000</td>\n",
              "      <td>750000</td>\n",
              "    </tr>\n",
              "    <tr>\n",
              "      <th>126</th>\n",
              "      <td>127</td>\n",
              "      <td>Younis Khan</td>\n",
              "      <td>2</td>\n",
              "      <td>PAK</td>\n",
              "      <td>RR</td>\n",
              "      <td>...</td>\n",
              "      <td>0.00</td>\n",
              "      <td>0.00</td>\n",
              "      <td>2008</td>\n",
              "      <td>225000</td>\n",
              "      <td>225000</td>\n",
              "    </tr>\n",
              "    <tr>\n",
              "      <th>127</th>\n",
              "      <td>128</td>\n",
              "      <td>Yuvraj Singh</td>\n",
              "      <td>2</td>\n",
              "      <td>IND</td>\n",
              "      <td>KXIP+</td>\n",
              "      <td>...</td>\n",
              "      <td>7.02</td>\n",
              "      <td>21.13</td>\n",
              "      <td>2011</td>\n",
              "      <td>400000</td>\n",
              "      <td>1800000</td>\n",
              "    </tr>\n",
              "    <tr>\n",
              "      <th>128</th>\n",
              "      <td>129</td>\n",
              "      <td>Zaheer Khan</td>\n",
              "      <td>2</td>\n",
              "      <td>IND</td>\n",
              "      <td>MI+</td>\n",
              "      <td>...</td>\n",
              "      <td>7.75</td>\n",
              "      <td>21.26</td>\n",
              "      <td>2008</td>\n",
              "      <td>200000</td>\n",
              "      <td>450000</td>\n",
              "    </tr>\n",
              "    <tr>\n",
              "      <th>129</th>\n",
              "      <td>130</td>\n",
              "      <td>Zoysa, DNT</td>\n",
              "      <td>2</td>\n",
              "      <td>SL</td>\n",
              "      <td>DC</td>\n",
              "      <td>...</td>\n",
              "      <td>9.00</td>\n",
              "      <td>33.00</td>\n",
              "      <td>2008</td>\n",
              "      <td>100000</td>\n",
              "      <td>110000</td>\n",
              "    </tr>\n",
              "  </tbody>\n",
              "</table>\n",
              "<p>5 rows × 26 columns</p>\n",
              "</div>"
            ],
            "text/plain": [
              "     Sl.NO.   PLAYER NAME  AGE COUNTRY   TEAM  ...  ECON  SR-BL  AUCTION YEAR  \\\n",
              "125     126     Yadav, AS    2     IND     DC  ...  0.00   0.00          2010   \n",
              "126     127   Younis Khan    2     PAK     RR  ...  0.00   0.00          2008   \n",
              "127     128  Yuvraj Singh    2     IND  KXIP+  ...  7.02  21.13          2011   \n",
              "128     129   Zaheer Khan    2     IND    MI+  ...  7.75  21.26          2008   \n",
              "129     130    Zoysa, DNT    2      SL     DC  ...  9.00  33.00          2008   \n",
              "\n",
              "     BASE PRICE  SOLD PRICE  \n",
              "125       50000      750000  \n",
              "126      225000      225000  \n",
              "127      400000     1800000  \n",
              "128      200000      450000  \n",
              "129      100000      110000  \n",
              "\n",
              "[5 rows x 26 columns]"
            ]
          },
          "metadata": {},
          "execution_count": 26
        }
      ]
    },
    {
      "cell_type": "code",
      "metadata": {
        "colab": {
          "base_uri": "https://localhost:8080/"
        },
        "id": "8FP_53rNIPxF",
        "outputId": "f3a84256-552f-4c42-9a48-7d4934aca632"
      },
      "source": [
        "ipl_df['PLAYER NAME'][0:5]"
      ],
      "execution_count": 27,
      "outputs": [
        {
          "output_type": "execute_result",
          "data": {
            "text/plain": [
              "0     Abdulla, YA\n",
              "1    Abdur Razzak\n",
              "2     Agarkar, AB\n",
              "3       Ashwin, R\n",
              "4    Badrinath, S\n",
              "Name: PLAYER NAME, dtype: object"
            ]
          },
          "metadata": {},
          "execution_count": 27
        }
      ]
    },
    {
      "cell_type": "code",
      "metadata": {
        "colab": {
          "base_uri": "https://localhost:8080/",
          "height": 203
        },
        "id": "kZofjms7IYj3",
        "outputId": "b5e9f7b2-47f7-45d7-f408-e9301ecc29b2"
      },
      "source": [
        "ipl_df[['PLAYER NAME','COUNTRY']][0:5]"
      ],
      "execution_count": 30,
      "outputs": [
        {
          "output_type": "execute_result",
          "data": {
            "text/html": [
              "<div>\n",
              "<style scoped>\n",
              "    .dataframe tbody tr th:only-of-type {\n",
              "        vertical-align: middle;\n",
              "    }\n",
              "\n",
              "    .dataframe tbody tr th {\n",
              "        vertical-align: top;\n",
              "    }\n",
              "\n",
              "    .dataframe thead th {\n",
              "        text-align: right;\n",
              "    }\n",
              "</style>\n",
              "<table border=\"1\" class=\"dataframe\">\n",
              "  <thead>\n",
              "    <tr style=\"text-align: right;\">\n",
              "      <th></th>\n",
              "      <th>PLAYER NAME</th>\n",
              "      <th>COUNTRY</th>\n",
              "    </tr>\n",
              "  </thead>\n",
              "  <tbody>\n",
              "    <tr>\n",
              "      <th>0</th>\n",
              "      <td>Abdulla, YA</td>\n",
              "      <td>SA</td>\n",
              "    </tr>\n",
              "    <tr>\n",
              "      <th>1</th>\n",
              "      <td>Abdur Razzak</td>\n",
              "      <td>BAN</td>\n",
              "    </tr>\n",
              "    <tr>\n",
              "      <th>2</th>\n",
              "      <td>Agarkar, AB</td>\n",
              "      <td>IND</td>\n",
              "    </tr>\n",
              "    <tr>\n",
              "      <th>3</th>\n",
              "      <td>Ashwin, R</td>\n",
              "      <td>IND</td>\n",
              "    </tr>\n",
              "    <tr>\n",
              "      <th>4</th>\n",
              "      <td>Badrinath, S</td>\n",
              "      <td>IND</td>\n",
              "    </tr>\n",
              "  </tbody>\n",
              "</table>\n",
              "</div>"
            ],
            "text/plain": [
              "    PLAYER NAME COUNTRY\n",
              "0   Abdulla, YA      SA\n",
              "1  Abdur Razzak     BAN\n",
              "2   Agarkar, AB     IND\n",
              "3     Ashwin, R     IND\n",
              "4  Badrinath, S     IND"
            ]
          },
          "metadata": {},
          "execution_count": 30
        }
      ]
    },
    {
      "cell_type": "code",
      "metadata": {
        "colab": {
          "base_uri": "https://localhost:8080/",
          "height": 203
        },
        "id": "5Ejxc-zsIpEG",
        "outputId": "ae311ac7-b38e-4a8a-be78-c3f3feaf0d58"
      },
      "source": [
        "##Specific rows and colums\n",
        "ipl_df.iloc[4:9, 1:4]"
      ],
      "execution_count": 31,
      "outputs": [
        {
          "output_type": "execute_result",
          "data": {
            "text/html": [
              "<div>\n",
              "<style scoped>\n",
              "    .dataframe tbody tr th:only-of-type {\n",
              "        vertical-align: middle;\n",
              "    }\n",
              "\n",
              "    .dataframe tbody tr th {\n",
              "        vertical-align: top;\n",
              "    }\n",
              "\n",
              "    .dataframe thead th {\n",
              "        text-align: right;\n",
              "    }\n",
              "</style>\n",
              "<table border=\"1\" class=\"dataframe\">\n",
              "  <thead>\n",
              "    <tr style=\"text-align: right;\">\n",
              "      <th></th>\n",
              "      <th>PLAYER NAME</th>\n",
              "      <th>AGE</th>\n",
              "      <th>COUNTRY</th>\n",
              "    </tr>\n",
              "  </thead>\n",
              "  <tbody>\n",
              "    <tr>\n",
              "      <th>4</th>\n",
              "      <td>Badrinath, S</td>\n",
              "      <td>2</td>\n",
              "      <td>IND</td>\n",
              "    </tr>\n",
              "    <tr>\n",
              "      <th>5</th>\n",
              "      <td>Bailey, GJ</td>\n",
              "      <td>2</td>\n",
              "      <td>AUS</td>\n",
              "    </tr>\n",
              "    <tr>\n",
              "      <th>6</th>\n",
              "      <td>Balaji, L</td>\n",
              "      <td>2</td>\n",
              "      <td>IND</td>\n",
              "    </tr>\n",
              "    <tr>\n",
              "      <th>7</th>\n",
              "      <td>Bollinger, DE</td>\n",
              "      <td>2</td>\n",
              "      <td>AUS</td>\n",
              "    </tr>\n",
              "    <tr>\n",
              "      <th>8</th>\n",
              "      <td>Botha, J</td>\n",
              "      <td>2</td>\n",
              "      <td>SA</td>\n",
              "    </tr>\n",
              "  </tbody>\n",
              "</table>\n",
              "</div>"
            ],
            "text/plain": [
              "     PLAYER NAME  AGE COUNTRY\n",
              "4   Badrinath, S    2     IND\n",
              "5     Bailey, GJ    2     AUS\n",
              "6      Balaji, L    2     IND\n",
              "7  Bollinger, DE    2     AUS\n",
              "8       Botha, J    2      SA"
            ]
          },
          "metadata": {},
          "execution_count": 31
        }
      ]
    },
    {
      "cell_type": "code",
      "metadata": {
        "colab": {
          "base_uri": "https://localhost:8080/"
        },
        "id": "HEzXqn-TI5W3",
        "outputId": "cd977639-3e68-4ce2-831b-19318e380380"
      },
      "source": [
        "#Value counts and cross tabulations- occurence of each unique value\n",
        "ipl_df.COUNTRY.value_counts()\n"
      ],
      "execution_count": 32,
      "outputs": [
        {
          "output_type": "execute_result",
          "data": {
            "text/plain": [
              "IND    53\n",
              "AUS    22\n",
              "SA     16\n",
              "SL     12\n",
              "PAK     9\n",
              "NZ      7\n",
              "WI      6\n",
              "ENG     3\n",
              "BAN     1\n",
              "ZIM     1\n",
              "Name: COUNTRY, dtype: int64"
            ]
          },
          "metadata": {},
          "execution_count": 32
        }
      ]
    },
    {
      "cell_type": "code",
      "metadata": {
        "colab": {
          "base_uri": "https://localhost:8080/"
        },
        "id": "WJW-R8F1JQ1i",
        "outputId": "a46c8ef7-7ab3-430c-be0b-bcb49e11c161"
      },
      "source": [
        "##normalizes is used to measure the percentage of occurence \n",
        "ipl_df.COUNTRY.value_counts(normalize=True)*100"
      ],
      "execution_count": 33,
      "outputs": [
        {
          "output_type": "execute_result",
          "data": {
            "text/plain": [
              "IND    40.769231\n",
              "AUS    16.923077\n",
              "SA     12.307692\n",
              "SL      9.230769\n",
              "PAK     6.923077\n",
              "NZ      5.384615\n",
              "WI      4.615385\n",
              "ENG     2.307692\n",
              "BAN     0.769231\n",
              "ZIM     0.769231\n",
              "Name: COUNTRY, dtype: float64"
            ]
          },
          "metadata": {},
          "execution_count": 33
        }
      ]
    },
    {
      "cell_type": "code",
      "metadata": {
        "colab": {
          "base_uri": "https://localhost:8080/",
          "height": 172
        },
        "id": "D5UCJziSLyd9",
        "outputId": "cbaeb238-da10-49f4-8085-452d2d533ca4"
      },
      "source": [
        "#crosstabulation for the combination of values of two columns\n",
        "pd.crosstab(ipl_df['AGE'], ipl_df['PLAYING ROLE'])\n"
      ],
      "execution_count": 34,
      "outputs": [
        {
          "output_type": "execute_result",
          "data": {
            "text/html": [
              "<div>\n",
              "<style scoped>\n",
              "    .dataframe tbody tr th:only-of-type {\n",
              "        vertical-align: middle;\n",
              "    }\n",
              "\n",
              "    .dataframe tbody tr th {\n",
              "        vertical-align: top;\n",
              "    }\n",
              "\n",
              "    .dataframe thead th {\n",
              "        text-align: right;\n",
              "    }\n",
              "</style>\n",
              "<table border=\"1\" class=\"dataframe\">\n",
              "  <thead>\n",
              "    <tr style=\"text-align: right;\">\n",
              "      <th>PLAYING ROLE</th>\n",
              "      <th>Allrounder</th>\n",
              "      <th>Batsman</th>\n",
              "      <th>Bowler</th>\n",
              "      <th>W. Keeper</th>\n",
              "    </tr>\n",
              "    <tr>\n",
              "      <th>AGE</th>\n",
              "      <th></th>\n",
              "      <th></th>\n",
              "      <th></th>\n",
              "      <th></th>\n",
              "    </tr>\n",
              "  </thead>\n",
              "  <tbody>\n",
              "    <tr>\n",
              "      <th>1</th>\n",
              "      <td>4</td>\n",
              "      <td>5</td>\n",
              "      <td>7</td>\n",
              "      <td>0</td>\n",
              "    </tr>\n",
              "    <tr>\n",
              "      <th>2</th>\n",
              "      <td>25</td>\n",
              "      <td>21</td>\n",
              "      <td>29</td>\n",
              "      <td>11</td>\n",
              "    </tr>\n",
              "    <tr>\n",
              "      <th>3</th>\n",
              "      <td>6</td>\n",
              "      <td>13</td>\n",
              "      <td>8</td>\n",
              "      <td>1</td>\n",
              "    </tr>\n",
              "  </tbody>\n",
              "</table>\n",
              "</div>"
            ],
            "text/plain": [
              "PLAYING ROLE  Allrounder  Batsman  Bowler  W. Keeper\n",
              "AGE                                                 \n",
              "1                      4        5       7          0\n",
              "2                     25       21      29         11\n",
              "3                      6       13       8          1"
            ]
          },
          "metadata": {},
          "execution_count": 34
        }
      ]
    },
    {
      "cell_type": "code",
      "metadata": {
        "colab": {
          "base_uri": "https://localhost:8080/",
          "height": 203
        },
        "id": "kiuIsjVFMoLH",
        "outputId": "fad6c696-1c9b-4b27-dd95-114c4e4f7936"
      },
      "source": [
        "#Sorting data frames by column values- default by ascending order\n",
        "ipl_df[['PLAYER NAME', 'SOLD PRICE']].sort_values ('SOLD PRICE') [0:5]"
      ],
      "execution_count": 39,
      "outputs": [
        {
          "output_type": "execute_result",
          "data": {
            "text/html": [
              "<div>\n",
              "<style scoped>\n",
              "    .dataframe tbody tr th:only-of-type {\n",
              "        vertical-align: middle;\n",
              "    }\n",
              "\n",
              "    .dataframe tbody tr th {\n",
              "        vertical-align: top;\n",
              "    }\n",
              "\n",
              "    .dataframe thead th {\n",
              "        text-align: right;\n",
              "    }\n",
              "</style>\n",
              "<table border=\"1\" class=\"dataframe\">\n",
              "  <thead>\n",
              "    <tr style=\"text-align: right;\">\n",
              "      <th></th>\n",
              "      <th>PLAYER NAME</th>\n",
              "      <th>SOLD PRICE</th>\n",
              "    </tr>\n",
              "  </thead>\n",
              "  <tbody>\n",
              "    <tr>\n",
              "      <th>73</th>\n",
              "      <td>Noffke, AA</td>\n",
              "      <td>20000</td>\n",
              "    </tr>\n",
              "    <tr>\n",
              "      <th>46</th>\n",
              "      <td>Kamran Khan</td>\n",
              "      <td>24000</td>\n",
              "    </tr>\n",
              "    <tr>\n",
              "      <th>0</th>\n",
              "      <td>Abdulla, YA</td>\n",
              "      <td>50000</td>\n",
              "    </tr>\n",
              "    <tr>\n",
              "      <th>1</th>\n",
              "      <td>Abdur Razzak</td>\n",
              "      <td>50000</td>\n",
              "    </tr>\n",
              "    <tr>\n",
              "      <th>118</th>\n",
              "      <td>Van der Merwe</td>\n",
              "      <td>50000</td>\n",
              "    </tr>\n",
              "  </tbody>\n",
              "</table>\n",
              "</div>"
            ],
            "text/plain": [
              "       PLAYER NAME  SOLD PRICE\n",
              "73      Noffke, AA       20000\n",
              "46     Kamran Khan       24000\n",
              "0      Abdulla, YA       50000\n",
              "1     Abdur Razzak       50000\n",
              "118  Van der Merwe       50000"
            ]
          },
          "metadata": {},
          "execution_count": 39
        }
      ]
    },
    {
      "cell_type": "code",
      "metadata": {
        "colab": {
          "base_uri": "https://localhost:8080/",
          "height": 203
        },
        "id": "YDLsn0QHN63l",
        "outputId": "419633b6-93dc-4b5b-97f0-51b1fa9f7fca"
      },
      "source": [
        "##For descending order\n",
        "ipl_df[['PLAYER NAME', 'SOLD PRICE']].sort_values ('SOLD PRICE', ascending=False) [0:5]"
      ],
      "execution_count": 40,
      "outputs": [
        {
          "output_type": "execute_result",
          "data": {
            "text/html": [
              "<div>\n",
              "<style scoped>\n",
              "    .dataframe tbody tr th:only-of-type {\n",
              "        vertical-align: middle;\n",
              "    }\n",
              "\n",
              "    .dataframe tbody tr th {\n",
              "        vertical-align: top;\n",
              "    }\n",
              "\n",
              "    .dataframe thead th {\n",
              "        text-align: right;\n",
              "    }\n",
              "</style>\n",
              "<table border=\"1\" class=\"dataframe\">\n",
              "  <thead>\n",
              "    <tr style=\"text-align: right;\">\n",
              "      <th></th>\n",
              "      <th>PLAYER NAME</th>\n",
              "      <th>SOLD PRICE</th>\n",
              "    </tr>\n",
              "  </thead>\n",
              "  <tbody>\n",
              "    <tr>\n",
              "      <th>93</th>\n",
              "      <td>Sehwag, V</td>\n",
              "      <td>1800000</td>\n",
              "    </tr>\n",
              "    <tr>\n",
              "      <th>127</th>\n",
              "      <td>Yuvraj Singh</td>\n",
              "      <td>1800000</td>\n",
              "    </tr>\n",
              "    <tr>\n",
              "      <th>50</th>\n",
              "      <td>Kohli, V</td>\n",
              "      <td>1800000</td>\n",
              "    </tr>\n",
              "    <tr>\n",
              "      <th>111</th>\n",
              "      <td>Tendulkar, SR</td>\n",
              "      <td>1800000</td>\n",
              "    </tr>\n",
              "    <tr>\n",
              "      <th>113</th>\n",
              "      <td>Tiwary, SS</td>\n",
              "      <td>1600000</td>\n",
              "    </tr>\n",
              "  </tbody>\n",
              "</table>\n",
              "</div>"
            ],
            "text/plain": [
              "       PLAYER NAME  SOLD PRICE\n",
              "93       Sehwag, V     1800000\n",
              "127   Yuvraj Singh     1800000\n",
              "50        Kohli, V     1800000\n",
              "111  Tendulkar, SR     1800000\n",
              "113     Tiwary, SS     1600000"
            ]
          },
          "metadata": {},
          "execution_count": 40
        }
      ]
    },
    {
      "cell_type": "code",
      "metadata": {
        "id": "3ef0Xw34OIc-"
      },
      "source": [
        "##creating new columns\n"
      ],
      "execution_count": null,
      "outputs": []
    }
  ]
}