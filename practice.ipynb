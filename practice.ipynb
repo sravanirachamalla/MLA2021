{
  "nbformat": 4,
  "nbformat_minor": 0,
  "metadata": {
    "colab": {
      "name": "practice",
      "provenance": [],
      "collapsed_sections": [],
      "authorship_tag": "ABX9TyNpKI6f5kDrHWna9ZwIMh4D",
      "include_colab_link": true
    },
    "kernelspec": {
      "name": "python3",
      "display_name": "Python 3"
    },
    "language_info": {
      "name": "python"
    }
  },
  "cells": [
    {
      "cell_type": "markdown",
      "metadata": {
        "id": "view-in-github",
        "colab_type": "text"
      },
      "source": [
        "<a href=\"https://colab.research.google.com/github/sravanirachamalla/MLA2021/blob/main/practice.ipynb\" target=\"_parent\"><img src=\"https://colab.research.google.com/assets/colab-badge.svg\" alt=\"Open In Colab\"/></a>"
      ]
    },
    {
      "cell_type": "code",
      "metadata": {
        "id": "TXSGV61DLH2F"
      },
      "source": [
        "var1=2\n",
        "var2=5.0\n",
        "var3= True\n",
        "var4=\"machine learning\""
      ],
      "execution_count": 7,
      "outputs": []
    },
    {
      "cell_type": "code",
      "metadata": {
        "colab": {
          "base_uri": "https://localhost:8080/"
        },
        "id": "kCmdk3ydLpzO",
        "outputId": "ea011d4d-1c95-4ad7-d470-6b3d965160ec"
      },
      "source": [
        "print(\"value of var1:\", var1)\n",
        "print(\"value of var2:\", var2)\n",
        "print(\"value of var1:\", var3)\n",
        "print(\"value of var2:\", var4)"
      ],
      "execution_count": 8,
      "outputs": [
        {
          "output_type": "stream",
          "text": [
            "value of var1: 2\n",
            "value of var2: 5.0\n",
            "value of var1: True\n",
            "value of var2: machine learning\n"
          ],
          "name": "stdout"
        }
      ]
    },
    {
      "cell_type": "code",
      "metadata": {
        "colab": {
          "base_uri": "https://localhost:8080/"
        },
        "id": "TktYtPeeMC_d",
        "outputId": "02447de4-8fca-4cc7-b18c-74fa30e19275"
      },
      "source": [
        "type(var1)\n"
      ],
      "execution_count": 13,
      "outputs": [
        {
          "output_type": "execute_result",
          "data": {
            "text/plain": [
              "str"
            ]
          },
          "metadata": {},
          "execution_count": 13
        }
      ]
    },
    {
      "cell_type": "code",
      "metadata": {
        "colab": {
          "base_uri": "https://localhost:8080/"
        },
        "id": "nPHHALTLMmIr",
        "outputId": "06774871-a1b0-4294-ebaf-9d4f0e3fb61f"
      },
      "source": [
        "#checking a condition if the variable value is more than 1\n",
        "if var1>1:\n",
        "  print(\"bigger than 1\")"
      ],
      "execution_count": 14,
      "outputs": [
        {
          "output_type": "stream",
          "text": [
            "bigger than 1\n"
          ],
          "name": "stdout"
        }
      ]
    },
    {
      "cell_type": "code",
      "metadata": {
        "colab": {
          "base_uri": "https://localhost:8080/"
        },
        "id": "714oWtdFM00A",
        "outputId": "1db5baa9-6571-4d6d-b25f-f4324cb9d963"
      },
      "source": [
        "x=10\n",
        "y=12\n",
        "#if x is greater than y\n",
        "if x>y:\n",
        "  print(\"x>y\")\n",
        "#if x is lesser than y \n",
        "elif x<y:\n",
        "  print(\"x<y\")\n",
        "else:\n",
        "  print(\"x=y\")"
      ],
      "execution_count": 15,
      "outputs": [
        {
          "output_type": "stream",
          "text": [
            "x<y\n"
          ],
          "name": "stdout"
        }
      ]
    },
    {
      "cell_type": "code",
      "metadata": {
        "id": "eArf7MnnQwdY"
      },
      "source": [
        "##create an emptylist\n",
        "emptylist=[]"
      ],
      "execution_count": 35,
      "outputs": []
    },
    {
      "cell_type": "code",
      "metadata": {
        "id": "CUS-qdZuQQ6h"
      },
      "source": [
        "batsmen=['rohit', 'dhawan', 'kohyli', 'dhoni', 'ishaan']"
      ],
      "execution_count": 36,
      "outputs": []
    },
    {
      "cell_type": "code",
      "metadata": {
        "colab": {
          "base_uri": "https://localhost:8080/",
          "height": 35
        },
        "id": "2r6m4MrnQgXU",
        "outputId": "5fde0ce0-09be-4b38-f089-3e71b6becb13"
      },
      "source": [
        "batsmen[0]"
      ],
      "execution_count": 40,
      "outputs": [
        {
          "output_type": "execute_result",
          "data": {
            "application/vnd.google.colaboratory.intrinsic+json": {
              "type": "string"
            },
            "text/plain": [
              "'rohit'"
            ]
          },
          "metadata": {},
          "execution_count": 40
        }
      ]
    },
    {
      "cell_type": "markdown",
      "metadata": {
        "id": "u3tDlXVHRFCG"
      },
      "source": [
        "slicing data"
      ]
    },
    {
      "cell_type": "code",
      "metadata": {
        "colab": {
          "base_uri": "https://localhost:8080/"
        },
        "id": "A9Y6F9XQRC-Y",
        "outputId": "f3db1508-fad4-4012-cdce-36168b876f60"
      },
      "source": [
        "##slicing data\n",
        "batsmen[0:2]"
      ],
      "execution_count": 41,
      "outputs": [
        {
          "output_type": "execute_result",
          "data": {
            "text/plain": [
              "['rohit', 'dhawan']"
            ]
          },
          "metadata": {},
          "execution_count": 41
        }
      ]
    },
    {
      "cell_type": "code",
      "metadata": {
        "colab": {
          "base_uri": "https://localhost:8080/",
          "height": 35
        },
        "id": "VjD-cH-5RUuu",
        "outputId": "d838a0ae-bc59-40ea-d7a3-0a96fd604dae"
      },
      "source": [
        "batsmen[-1]"
      ],
      "execution_count": 42,
      "outputs": [
        {
          "output_type": "execute_result",
          "data": {
            "application/vnd.google.colaboratory.intrinsic+json": {
              "type": "string"
            },
            "text/plain": [
              "'ishaan'"
            ]
          },
          "metadata": {},
          "execution_count": 42
        }
      ]
    },
    {
      "cell_type": "code",
      "metadata": {
        "colab": {
          "base_uri": "https://localhost:8080/"
        },
        "id": "moCEpEYERYCz",
        "outputId": "be2d9ae1-8d63-4063-f8aa-c59fdabd1a25"
      },
      "source": [
        "#how many elemants in the list\n",
        "len(batsmen)"
      ],
      "execution_count": 44,
      "outputs": [
        {
          "output_type": "execute_result",
          "data": {
            "text/plain": [
              "5"
            ]
          },
          "metadata": {},
          "execution_count": 44
        }
      ]
    },
    {
      "cell_type": "code",
      "metadata": {
        "id": "19qPQoLmRe8C"
      },
      "source": [
        "bowlers=['bumrah', 'shami', 'bhuvi', 'kuldeep']"
      ],
      "execution_count": 45,
      "outputs": []
    },
    {
      "cell_type": "code",
      "metadata": {
        "id": "R2za-NEPRpu-"
      },
      "source": [
        "all_players=batsmen+bowlers"
      ],
      "execution_count": 46,
      "outputs": []
    },
    {
      "cell_type": "code",
      "metadata": {
        "colab": {
          "base_uri": "https://localhost:8080/"
        },
        "id": "33YsZ0DkRvjr",
        "outputId": "4a057235-ce16-45e8-b93c-da9c81c694c5"
      },
      "source": [
        "all_players"
      ],
      "execution_count": 47,
      "outputs": [
        {
          "output_type": "execute_result",
          "data": {
            "text/plain": [
              "['rohit',\n",
              " 'dhawan',\n",
              " 'kohyli',\n",
              " 'dhoni',\n",
              " 'ishaan',\n",
              " 'bumrah',\n",
              " 'shami',\n",
              " 'bhuvi',\n",
              " 'kuldeep']"
            ]
          },
          "metadata": {},
          "execution_count": 47
        }
      ]
    },
    {
      "cell_type": "markdown",
      "metadata": {
        "id": "bNIotA61R3mN"
      },
      "source": [
        "True if exists,else return false"
      ]
    },
    {
      "cell_type": "code",
      "metadata": {
        "colab": {
          "base_uri": "https://localhost:8080/"
        },
        "id": "Hn_7ZPbxR7cQ",
        "outputId": "2f4cd7cd-ae63-489b-c075-d6731b5ea69f"
      },
      "source": [
        "'bumrah' in bowlers"
      ],
      "execution_count": 48,
      "outputs": [
        {
          "output_type": "execute_result",
          "data": {
            "text/plain": [
              "True"
            ]
          },
          "metadata": {},
          "execution_count": 48
        }
      ]
    },
    {
      "cell_type": "code",
      "metadata": {
        "colab": {
          "base_uri": "https://localhost:8080/"
        },
        "id": "7yQc4_1BSBDJ",
        "outputId": "18df849f-52ee-44a9-c6fd-8b30f377d68b"
      },
      "source": [
        "'dhoni' in batsmen"
      ],
      "execution_count": 49,
      "outputs": [
        {
          "output_type": "execute_result",
          "data": {
            "text/plain": [
              "True"
            ]
          },
          "metadata": {},
          "execution_count": 49
        }
      ]
    },
    {
      "cell_type": "code",
      "metadata": {
        "colab": {
          "base_uri": "https://localhost:8080/"
        },
        "id": "CjYTAyy4SH7S",
        "outputId": "a749ad56-9b79-4aa3-ed8d-c81fe857a52c"
      },
      "source": [
        "##index is used to find the place in the list\n",
        "all_players.index('dhoni')"
      ],
      "execution_count": 57,
      "outputs": [
        {
          "output_type": "execute_result",
          "data": {
            "text/plain": [
              "5"
            ]
          },
          "metadata": {},
          "execution_count": 57
        }
      ]
    },
    {
      "cell_type": "code",
      "metadata": {
        "colab": {
          "base_uri": "https://localhost:8080/"
        },
        "id": "1be8lXQhSRvm",
        "outputId": "651fc198-96bd-4562-a9e0-c86a3c126847"
      },
      "source": [
        "##reverse function\n",
        "all_players.reverse()\n",
        "all_players"
      ],
      "execution_count": 51,
      "outputs": [
        {
          "output_type": "execute_result",
          "data": {
            "text/plain": [
              "['kuldeep',\n",
              " 'bhuvi',\n",
              " 'shami',\n",
              " 'bumrah',\n",
              " 'ishaan',\n",
              " 'dhoni',\n",
              " 'kohyli',\n",
              " 'dhawan',\n",
              " 'rohit']"
            ]
          },
          "metadata": {},
          "execution_count": 51
        }
      ]
    },
    {
      "cell_type": "code",
      "metadata": {
        "colab": {
          "base_uri": "https://localhost:8080/"
        },
        "id": "dTlMxuXdSa7i",
        "outputId": "f8b465b9-8e9d-4ca9-e1df-0681b56bbe4a"
      },
      "source": [
        "all_players.index('dhoni')"
      ],
      "execution_count": 52,
      "outputs": [
        {
          "output_type": "execute_result",
          "data": {
            "text/plain": [
              "5"
            ]
          },
          "metadata": {},
          "execution_count": 52
        }
      ]
    },
    {
      "cell_type": "code",
      "metadata": {
        "id": "-uqVHhlISf1o"
      },
      "source": [
        "##tuple cannot be changed as the list above, once done is not immutable\n",
        "players=tuple(all_players)"
      ],
      "execution_count": 58,
      "outputs": []
    },
    {
      "cell_type": "code",
      "metadata": {
        "colab": {
          "base_uri": "https://localhost:8080/"
        },
        "id": "XkpFyHc-TBEO",
        "outputId": "acbea08f-2804-4700-83c5-7e925e4f19a3"
      },
      "source": [
        "players"
      ],
      "execution_count": 54,
      "outputs": [
        {
          "output_type": "execute_result",
          "data": {
            "text/plain": [
              "('kuldeep',\n",
              " 'bhuvi',\n",
              " 'shami',\n",
              " 'bumrah',\n",
              " 'ishaan',\n",
              " 'dhoni',\n",
              " 'kohyli',\n",
              " 'dhawan',\n",
              " 'rohit')"
            ]
          },
          "metadata": {},
          "execution_count": 54
        }
      ]
    },
    {
      "cell_type": "code",
      "metadata": {
        "id": "DAE2LZTZTE5T"
      },
      "source": [
        "##set is collection of elements that values cannot be repeated with flower brackets\n",
        "setofnumbers={6,1,1,3,4,4,5}"
      ],
      "execution_count": 55,
      "outputs": []
    },
    {
      "cell_type": "code",
      "metadata": {
        "colab": {
          "base_uri": "https://localhost:8080/"
        },
        "id": "7b3Mw2iTTlyv",
        "outputId": "df49582f-279a-4ca8-f103-229850fd6f16"
      },
      "source": [
        "setofnumbers"
      ],
      "execution_count": 56,
      "outputs": [
        {
          "output_type": "execute_result",
          "data": {
            "text/plain": [
              "{1, 3, 4, 5, 6}"
            ]
          },
          "metadata": {},
          "execution_count": 56
        }
      ]
    },
    {
      "cell_type": "code",
      "metadata": {
        "id": "gsje49T2T7Co"
      },
      "source": [
        "bp2011={'sweety', 'sreya', 'bunty', 'milky', 'goldy', 'dolly', 'puppy'}\n",
        "bp2015={'goldy', 'beauty', 'minty', 'puppy', 'dolly', 'sweety', 'bunty'}"
      ],
      "execution_count": 59,
      "outputs": []
    },
    {
      "cell_type": "code",
      "metadata": {
        "colab": {
          "base_uri": "https://localhost:8080/"
        },
        "id": "fexLxHCVVmOp",
        "outputId": "fc2b2db2-f336-4484-e464-ea022eb25539"
      },
      "source": [
        "bp2011.union(bp2015)"
      ],
      "execution_count": 60,
      "outputs": [
        {
          "output_type": "execute_result",
          "data": {
            "text/plain": [
              "{'beauty',\n",
              " 'bunty',\n",
              " 'dolly',\n",
              " 'goldy',\n",
              " 'milky',\n",
              " 'minty',\n",
              " 'puppy',\n",
              " 'sreya',\n",
              " 'sweety'}"
            ]
          },
          "metadata": {},
          "execution_count": 60
        }
      ]
    },
    {
      "cell_type": "code",
      "metadata": {
        "colab": {
          "base_uri": "https://localhost:8080/"
        },
        "id": "br7bBNfiVtFA",
        "outputId": "01a379da-602c-436a-c31c-99f2ddcee433"
      },
      "source": [
        "bp2011.intersection(bp2015)"
      ],
      "execution_count": 61,
      "outputs": [
        {
          "output_type": "execute_result",
          "data": {
            "text/plain": [
              "{'bunty', 'dolly', 'goldy', 'puppy', 'sweety'}"
            ]
          },
          "metadata": {},
          "execution_count": 61
        }
      ]
    },
    {
      "cell_type": "code",
      "metadata": {
        "colab": {
          "base_uri": "https://localhost:8080/"
        },
        "id": "GIz0_2eVVwcD",
        "outputId": "bbb3879c-a2a5-4fbb-a7a8-cfd2d759430f"
      },
      "source": [
        "bp2015.difference(bp2011)"
      ],
      "execution_count": 62,
      "outputs": [
        {
          "output_type": "execute_result",
          "data": {
            "text/plain": [
              "{'beauty', 'minty'}"
            ]
          },
          "metadata": {},
          "execution_count": 62
        }
      ]
    },
    {
      "cell_type": "code",
      "metadata": {
        "id": "h2CKHM9IWN_x"
      },
      "source": [
        "##dealing with strings\n",
        "string0='python'\n",
        "string1=\"machine learning\"\n",
        "string3=\"\"\"this is a multiline string\"\"\""
      ],
      "execution_count": 63,
      "outputs": []
    },
    {
      "cell_type": "code",
      "metadata": {
        "colab": {
          "base_uri": "https://localhost:8080/",
          "height": 35
        },
        "id": "rNDV5yklWwOz",
        "outputId": "5cae34cf-73fa-4228-a6e9-78aeb3e47d89"
      },
      "source": [
        "string0.upper()"
      ],
      "execution_count": 64,
      "outputs": [
        {
          "output_type": "execute_result",
          "data": {
            "application/vnd.google.colaboratory.intrinsic+json": {
              "type": "string"
            },
            "text/plain": [
              "'PYTHON'"
            ]
          },
          "metadata": {},
          "execution_count": 64
        }
      ]
    },
    {
      "cell_type": "code",
      "metadata": {
        "colab": {
          "base_uri": "https://localhost:8080/"
        },
        "id": "qjVJRo2bWzw5",
        "outputId": "639ee4e6-72cd-43de-a12c-e444234da515"
      },
      "source": [
        "###splitting the string\n",
        "tokens=string1.split(' ')\n",
        "tokens"
      ],
      "execution_count": 67,
      "outputs": [
        {
          "output_type": "execute_result",
          "data": {
            "text/plain": [
              "['machine', 'learning']"
            ]
          },
          "metadata": {},
          "execution_count": 67
        }
      ]
    },
    {
      "cell_type": "code",
      "metadata": {
        "colab": {
          "base_uri": "https://localhost:8080/"
        },
        "id": "2SUWNAb7XIi6",
        "outputId": "61c73109-3a11-430b-9e7a-298a4f223841"
      },
      "source": [
        "tokens=string3.split(\" \")\n",
        "tokens"
      ],
      "execution_count": 70,
      "outputs": [
        {
          "output_type": "execute_result",
          "data": {
            "text/plain": [
              "['this', 'is', 'a', 'multiline', 'string']"
            ]
          },
          "metadata": {},
          "execution_count": 70
        }
      ]
    },
    {
      "cell_type": "code",
      "metadata": {
        "id": "MhbeshLaXRaj"
      },
      "source": [
        ""
      ],
      "execution_count": null,
      "outputs": []
    }
  ]
}