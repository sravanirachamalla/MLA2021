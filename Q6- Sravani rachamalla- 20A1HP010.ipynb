{
  "nbformat": 4,
  "nbformat_minor": 0,
  "metadata": {
    "colab": {
      "name": "Untitled8.ipynb",
      "private_outputs": true,
      "provenance": []
    },
    "kernelspec": {
      "name": "python3",
      "display_name": "Python 3"
    },
    "language_info": {
      "name": "python"
    }
  },
  "cells": [
    {
      "cell_type": "markdown",
      "metadata": {
        "id": "2k-xMfBub_TK"
      },
      "source": [
        "Q6 - Sravani rachamalla - 20A1HP010"
      ]
    },
    {
      "cell_type": "markdown",
      "metadata": {
        "id": "CwAnmNSeTQL9"
      },
      "source": [
        "# Recommender Systems with Python  \n",
        "Import Libraries"
      ]
    },
    {
      "cell_type": "code",
      "metadata": {
        "id": "TmhgU9wJTT7O"
      },
      "source": [
        "import numpy as np\n",
        "import pandas as pd\n",
        "## loading files as Data frames, data manipulation and analysis."
      ],
      "execution_count": null,
      "outputs": []
    },
    {
      "cell_type": "markdown",
      "metadata": {
        "id": "djv9KwntTvh2"
      },
      "source": [
        "## Get the Data"
      ]
    },
    {
      "cell_type": "code",
      "metadata": {
        "id": "oAy5uoR2TUKW"
      },
      "source": [
        "\n",
        "df = pd.read_csv('https://raw.githubusercontent.com/rssmahesh1/MLAP2021Exam/main/MALP2021%20Question%20paper/ratings.csv')\n",
        "# Importing the dataset"
      ],
      "execution_count": null,
      "outputs": []
    },
    {
      "cell_type": "code",
      "metadata": {
        "id": "gb5ZcrY5TUG6"
      },
      "source": [
        "df.head()\n",
        "# To get the first n rows"
      ],
      "execution_count": null,
      "outputs": []
    },
    {
      "cell_type": "markdown",
      "metadata": {
        "id": "AuxMgvEdVh_F"
      },
      "source": [
        "Now let's get the movie titles"
      ]
    },
    {
      "cell_type": "code",
      "metadata": {
        "id": "QblX1Q5xTUDB"
      },
      "source": [
        "movie_titles = pd.read_csv(\"https://raw.githubusercontent.com/rssmahesh1/MLAP2021Exam/main/MALP2021%20Question%20paper/movies.csv\")\n",
        "movie_titles.head()"
      ],
      "execution_count": null,
      "outputs": []
    },
    {
      "cell_type": "markdown",
      "metadata": {
        "id": "L2CwaORgWXPr"
      },
      "source": [
        "We can merge them together"
      ]
    },
    {
      "cell_type": "code",
      "metadata": {
        "id": "YvMAeUqoTUA-"
      },
      "source": [
        "df = pd.merge(df,movie_titles,on='movieId')\n",
        "df.head()"
      ],
      "execution_count": null,
      "outputs": []
    },
    {
      "cell_type": "markdown",
      "metadata": {
        "id": "dKk8cQTdWr9d"
      },
      "source": [
        "EDA"
      ]
    },
    {
      "cell_type": "markdown",
      "metadata": {
        "id": "95qo0LXFWwI3"
      },
      "source": [
        "Let's explore the data a bit and get a look at some of the best rated movies.\n",
        "\n",
        "# Visualization Imports"
      ]
    },
    {
      "cell_type": "code",
      "metadata": {
        "id": "cOkO0SHcTT_H"
      },
      "source": [
        "import matplotlib.pyplot as plt\n",
        "import seaborn as sns\n",
        "sns.set_style('white')\n",
        "%matplotlib inline"
      ],
      "execution_count": null,
      "outputs": []
    },
    {
      "cell_type": "markdown",
      "metadata": {
        "id": "oA5hs4iMW2we"
      },
      "source": [
        "Let's create a ratings dataframe with average rating and number of ratings:"
      ]
    },
    {
      "cell_type": "code",
      "metadata": {
        "id": "QeONd6kcWt1F"
      },
      "source": [
        "df.groupby('title')['rating'].mean().sort_values(ascending=False).head()"
      ],
      "execution_count": null,
      "outputs": []
    },
    {
      "cell_type": "code",
      "metadata": {
        "id": "DPX10CLMWtxk"
      },
      "source": [
        "df.groupby('title')['rating'].count().sort_values(ascending=False).head()"
      ],
      "execution_count": null,
      "outputs": []
    },
    {
      "cell_type": "code",
      "metadata": {
        "id": "Ikt6wTSVWtvn"
      },
      "source": [
        "ratings = pd.DataFrame(df.groupby('title')['rating'].mean())\n",
        "ratings.head()"
      ],
      "execution_count": null,
      "outputs": []
    },
    {
      "cell_type": "markdown",
      "metadata": {
        "id": "BFOv_-c9XCqS"
      },
      "source": [
        "Now set the number of ratings column:"
      ]
    },
    {
      "cell_type": "code",
      "metadata": {
        "id": "9iZZkc3EWttB"
      },
      "source": [
        "ratings['num of ratings'] = pd.DataFrame(df.groupby('title')['rating'].count())\n",
        "ratings.head()"
      ],
      "execution_count": null,
      "outputs": []
    },
    {
      "cell_type": "markdown",
      "metadata": {
        "id": "c_Nd4kLeXKQS"
      },
      "source": [
        "Now a few histograms:"
      ]
    },
    {
      "cell_type": "code",
      "metadata": {
        "id": "8Ni5e0cFWtpd"
      },
      "source": [
        "plt.figure(figsize=(10,4))\n",
        "ratings['num of ratings'].hist(bins=70)"
      ],
      "execution_count": null,
      "outputs": []
    },
    {
      "cell_type": "code",
      "metadata": {
        "id": "2hmp302YWtnk"
      },
      "source": [
        "plt.figure(figsize=(10,4))\n",
        "ratings['rating'].hist(bins=70)"
      ],
      "execution_count": null,
      "outputs": []
    },
    {
      "cell_type": "code",
      "metadata": {
        "id": "dxQddiDHWtls"
      },
      "source": [
        "sns.jointplot(x='rating',y='num of ratings',data=ratings,alpha=0.5)"
      ],
      "execution_count": null,
      "outputs": []
    },
    {
      "cell_type": "markdown",
      "metadata": {
        "id": "C41XoJXUXVN7"
      },
      "source": [
        "Okay! Now that we have a general idea of what the data looks like, let's move on to creating a simple recommendation system"
      ]
    },
    {
      "cell_type": "markdown",
      "metadata": {
        "id": "g2BAgCSoXYTI"
      },
      "source": [
        "# Recommending Similar Movies"
      ]
    },
    {
      "cell_type": "markdown",
      "metadata": {
        "id": "T1hbweiWXizx"
      },
      "source": [
        "Now let's create a matrix that has the user ids on one access and the movie title on another axis. Each cell will then consist of the rating the user gave to that movie. Note there will be a lot of NaN values, because most people have not seen most of the movies"
      ]
    },
    {
      "cell_type": "code",
      "metadata": {
        "id": "-4g3q-3DXWYu"
      },
      "source": [
        "moviemat = df.pivot_table(index='userId',columns='title',values='rating')\n",
        "moviemat.head()"
      ],
      "execution_count": null,
      "outputs": []
    },
    {
      "cell_type": "markdown",
      "metadata": {
        "id": "jnR4thtZX3fH"
      },
      "source": [
        "Most rated movie:\n"
      ]
    },
    {
      "cell_type": "code",
      "metadata": {
        "id": "KzE67j21XWWw"
      },
      "source": [
        "ratings.sort_values('num of ratings',ascending=False).head(10)"
      ],
      "execution_count": null,
      "outputs": []
    },
    {
      "cell_type": "markdown",
      "metadata": {
        "id": "b_WB4_xSX8dz"
      },
      "source": [
        "Let's choose two movies: Forrest Gump, comedy drama and romance genre and Pulp Fiction a crime, thriller comedy and draqma movie"
      ]
    },
    {
      "cell_type": "code",
      "metadata": {
        "id": "W7ryb8_wXWUq"
      },
      "source": [
        "ratings.head()"
      ],
      "execution_count": null,
      "outputs": []
    },
    {
      "cell_type": "markdown",
      "metadata": {
        "id": "Fu0qXOicYCj7"
      },
      "source": [
        "Now let's grab the user ratings for those two movies"
      ]
    },
    {
      "cell_type": "code",
      "metadata": {
        "id": "wRuqBydjXWS8"
      },
      "source": [
        "ForrestGump_user_ratings = moviemat['Forrest Gump (1994)']\n",
        "PulpFiction_user_ratings = moviemat['Pulp Fiction (1994)']\n",
        "ForrestGump_user_ratings.head()"
      ],
      "execution_count": null,
      "outputs": []
    },
    {
      "cell_type": "markdown",
      "metadata": {
        "id": "-g6EBbDKacgk"
      },
      "source": [
        "We can then use corrwith() method to get correlations between two pandas series:"
      ]
    },
    {
      "cell_type": "code",
      "metadata": {
        "id": "JdKcX2nSXWQ2"
      },
      "source": [
        "similar_to_ForrestGump = moviemat.corrwith(ForrestGump_user_ratings)\n",
        "similar_to_PulpFiction = moviemat.corrwith(PulpFiction_user_ratings)"
      ],
      "execution_count": null,
      "outputs": []
    },
    {
      "cell_type": "markdown",
      "metadata": {
        "id": "TpNdJ0g6asjC"
      },
      "source": [
        "Let's clean this by removing NaN values and using a DataFrame instead of a series"
      ]
    },
    {
      "cell_type": "code",
      "metadata": {
        "id": "ko5OfojoWthp"
      },
      "source": [
        "corr_ForrestGump = pd.DataFrame(similar_to_ForrestGump,columns=['Correlation'])\n",
        "corr_ForrestGump.dropna(inplace=True)\n",
        "corr_ForrestGump.head()"
      ],
      "execution_count": null,
      "outputs": []
    },
    {
      "cell_type": "markdown",
      "metadata": {
        "id": "wvfTQrt3a5nQ"
      },
      "source": [
        "Now if we sort the dataframe by correlation, we should get the most similar movies, however note that we get some results that don't really make sense. This is because there are a lot of movies only watched once by users who also watched star wars (it was the most popular movie)"
      ]
    },
    {
      "cell_type": "code",
      "metadata": {
        "id": "Fdgfzv2aWtfu"
      },
      "source": [
        "corr_ForrestGump.sort_values('Correlation',ascending=False).head(10)"
      ],
      "execution_count": null,
      "outputs": []
    },
    {
      "cell_type": "markdown",
      "metadata": {
        "id": "0CPYJ52RbBM4"
      },
      "source": [
        "Let's fix this by filtering out movies that have less than 100 reviews (this value was chosen based off the histogram from earlier)."
      ]
    },
    {
      "cell_type": "code",
      "metadata": {
        "id": "Zyx1-TKia6_i"
      },
      "source": [
        "corr_ForrestGump = corr_ForrestGump.join(ratings['num of ratings'])\n",
        "corr_ForrestGump.head()"
      ],
      "execution_count": null,
      "outputs": []
    },
    {
      "cell_type": "markdown",
      "metadata": {
        "id": "P6n9AdidbLnO"
      },
      "source": [
        "Now sort the values and notice how the titles make a lot more sense:"
      ]
    },
    {
      "cell_type": "code",
      "metadata": {
        "id": "5m9rLaKga68G"
      },
      "source": [
        "corr_ForrestGump[corr_ForrestGump['num of ratings']>100].sort_values('Correlation',ascending=False).head()"
      ],
      "execution_count": null,
      "outputs": []
    },
    {
      "cell_type": "markdown",
      "metadata": {
        "id": "c6O9qK1KbWl6"
      },
      "source": [
        "Now the same for the crime and thriller Pulp Fiction"
      ]
    },
    {
      "cell_type": "code",
      "metadata": {
        "id": "96XYZAHka66C"
      },
      "source": [
        "corr_PulpFiction = pd.DataFrame(similar_to_PulpFiction,columns=['Correlation'])\n",
        "corr_PulpFiction.dropna(inplace=True)\n",
        "corr_PulpFiction = corr_PulpFiction.join(ratings['num of ratings'])\n",
        "corr_PulpFiction[corr_PulpFiction['num of ratings']>100].sort_values('Correlation',ascending=False).head()"
      ],
      "execution_count": null,
      "outputs": []
    },
    {
      "cell_type": "code",
      "metadata": {
        "id": "QtYNN3Wia64L"
      },
      "source": [
        ""
      ],
      "execution_count": null,
      "outputs": []
    }
  ]
}