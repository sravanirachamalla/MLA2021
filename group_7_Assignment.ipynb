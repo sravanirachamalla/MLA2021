{
  "nbformat": 4,
  "nbformat_minor": 0,
  "metadata": {
    "colab": {
      "name": "group-7 Assignment",
      "provenance": [],
      "collapsed_sections": [],
      "include_colab_link": true
    },
    "kernelspec": {
      "name": "python3",
      "display_name": "Python 3"
    },
    "language_info": {
      "name": "python"
    }
  },
  "cells": [
    {
      "cell_type": "markdown",
      "metadata": {
        "id": "view-in-github",
        "colab_type": "text"
      },
      "source": [
        "<a href=\"https://colab.research.google.com/github/sravanirachamalla/MLA2021/blob/main/group_7_Assignment.ipynb\" target=\"_parent\"><img src=\"https://colab.research.google.com/assets/colab-badge.svg\" alt=\"Open In Colab\"/></a>"
      ]
    },
    {
      "cell_type": "code",
      "metadata": {
        "id": "Ix6LVXyHjo03"
      },
      "source": [
        "import pandas as pd\n",
        "import numpy as np\n",
        "import seaborn as sns\n",
        "import matplotlib.pyplot as plt\n",
        "%matplotlib inline"
      ],
      "execution_count": null,
      "outputs": []
    },
    {
      "cell_type": "code",
      "metadata": {
        "id": "db4qzwS1j1WA"
      },
      "source": [
        "df=pd.read_excel(\"/content/drive/MyDrive/car_data.xls\")"
      ],
      "execution_count": null,
      "outputs": []
    },
    {
      "cell_type": "code",
      "metadata": {
        "id": "VG6lIyb-kFKv"
      },
      "source": [
        "features=df.columns #creating list of features\n",
        "features=features.drop('S. No.') #dropping serial no."
      ],
      "execution_count": null,
      "outputs": []
    },
    {
      "cell_type": "code",
      "metadata": {
        "colab": {
          "base_uri": "https://localhost:8080/"
        },
        "id": "93NpM4dckXV6",
        "outputId": "9a82954c-9cc1-4e0e-f655-80398b2f9ebd"
      },
      "source": [
        "features_num=[i for i in features if df[i].dtype!='O'] #creating list of only numerical features\n",
        "features_num"
      ],
      "execution_count": null,
      "outputs": [
        {
          "output_type": "execute_result",
          "data": {
            "text/plain": [
              "['wheel_base',\n",
              " 'length',\n",
              " 'width',\n",
              " 'height',\n",
              " 'curb_weight',\n",
              " 'engine_size',\n",
              " 'compression_ratio',\n",
              " 'horsepower',\n",
              " 'peak_rpm',\n",
              " 'city_mpg',\n",
              " 'highway_mpg',\n",
              " 'price']"
            ]
          },
          "metadata": {},
          "execution_count": 6
        }
      ]
    },
    {
      "cell_type": "code",
      "metadata": {
        "id": "LxCUCiqSkXSg"
      },
      "source": [
        "features_cat=[i for i in features if df[i].dtype=='O']"
      ],
      "execution_count": null,
      "outputs": []
    },
    {
      "cell_type": "code",
      "metadata": {
        "id": "UK_CimnwkXP8"
      },
      "source": [
        "df_encoded=pd.get_dummies(df[features],columns=list(features_cat)) #encoding all categorical features"
      ],
      "execution_count": null,
      "outputs": []
    },
    {
      "cell_type": "code",
      "metadata": {
        "colab": {
          "base_uri": "https://localhost:8080/"
        },
        "id": "cVeWq2k4kXNL",
        "outputId": "328958ed-926f-41e9-dea9-3f7521785fca"
      },
      "source": [
        "encoded_features=df_encoded.columns #creating series of features of encoded\n",
        "len(encoded_features)"
      ],
      "execution_count": null,
      "outputs": [
        {
          "output_type": "execute_result",
          "data": {
            "text/plain": [
              "73"
            ]
          },
          "metadata": {},
          "execution_count": 9
        }
      ]
    },
    {
      "cell_type": "code",
      "metadata": {
        "colab": {
          "base_uri": "https://localhost:8080/"
        },
        "id": "aS0dA48CkXKu",
        "outputId": "24c8f725-5b0c-4799-cf22-ef75d89597ed"
      },
      "source": [
        "for i in features_num:\n",
        "  for j in features_num:\n",
        "    print(df[[i,j]].corr())\n",
        " "
      ],
      "execution_count": null,
      "outputs": [
        {
          "output_type": "stream",
          "text": [
            "            wheel_base  wheel_base\n",
            "wheel_base         1.0         1.0\n",
            "wheel_base         1.0         1.0\n",
            "            wheel_base    length\n",
            "wheel_base    1.000000  0.874587\n",
            "length        0.874587  1.000000\n",
            "            wheel_base     width\n",
            "wheel_base    1.000000  0.795144\n",
            "width         0.795144  1.000000\n",
            "            wheel_base    height\n",
            "wheel_base    1.000000  0.589435\n",
            "height        0.589435  1.000000\n",
            "             wheel_base  curb_weight\n",
            "wheel_base     1.000000     0.776386\n",
            "curb_weight    0.776386     1.000000\n",
            "             wheel_base  engine_size\n",
            "wheel_base     1.000000     0.569329\n",
            "engine_size    0.569329     1.000000\n",
            "                   wheel_base  compression_ratio\n",
            "wheel_base           1.000000           0.249786\n",
            "compression_ratio    0.249786           1.000000\n",
            "            wheel_base  horsepower\n",
            "wheel_base    1.000000    0.353477\n",
            "horsepower    0.353477    1.000000\n",
            "            wheel_base  peak_rpm\n",
            "wheel_base    1.000000 -0.343619\n",
            "peak_rpm     -0.343619  1.000000\n",
            "            wheel_base  city_mpg\n",
            "wheel_base    1.000000 -0.470414\n",
            "city_mpg     -0.470414  1.000000\n",
            "             wheel_base  highway_mpg\n",
            "wheel_base     1.000000    -0.544082\n",
            "highway_mpg   -0.544082     1.000000\n",
            "            wheel_base     price\n",
            "wheel_base    1.000000  0.584425\n",
            "price         0.584425  1.000000\n",
            "              length  wheel_base\n",
            "length      1.000000    0.874587\n",
            "wheel_base  0.874587    1.000000\n",
            "        length  length\n",
            "length     1.0     1.0\n",
            "length     1.0     1.0\n",
            "          length     width\n",
            "length  1.000000  0.841118\n",
            "width   0.841118  1.000000\n",
            "          length    height\n",
            "length  1.000000  0.491029\n",
            "height  0.491029  1.000000\n",
            "               length  curb_weight\n",
            "length       1.000000     0.877728\n",
            "curb_weight  0.877728     1.000000\n",
            "              length  engine_size\n",
            "length       1.00000      0.68336\n",
            "engine_size  0.68336      1.00000\n",
            "                     length  compression_ratio\n",
            "length             1.000000           0.158414\n",
            "compression_ratio  0.158414           1.000000\n",
            "              length  horsepower\n",
            "length      1.000000    0.552221\n",
            "horsepower  0.552221    1.000000\n",
            "            length  peak_rpm\n",
            "length    1.000000 -0.288617\n",
            "peak_rpm -0.288617  1.000000\n",
            "            length  city_mpg\n",
            "length    1.000000 -0.670909\n",
            "city_mpg -0.670909  1.000000\n",
            "               length  highway_mpg\n",
            "length       1.000000    -0.704662\n",
            "highway_mpg -0.704662     1.000000\n",
            "          length     price\n",
            "length  1.000000  0.689134\n",
            "price   0.689134  1.000000\n",
            "               width  wheel_base\n",
            "width       1.000000    0.795144\n",
            "wheel_base  0.795144    1.000000\n",
            "           width    length\n",
            "width   1.000000  0.841118\n",
            "length  0.841118  1.000000\n",
            "       width  width\n",
            "width    1.0    1.0\n",
            "width    1.0    1.0\n",
            "          width   height\n",
            "width   1.00000  0.27921\n",
            "height  0.27921  1.00000\n",
            "                width  curb_weight\n",
            "width        1.000000     0.867032\n",
            "curb_weight  0.867032     1.000000\n",
            "                width  engine_size\n",
            "width        1.000000     0.735433\n",
            "engine_size  0.735433     1.000000\n",
            "                      width  compression_ratio\n",
            "width              1.000000           0.181129\n",
            "compression_ratio  0.181129           1.000000\n",
            "               width  horsepower\n",
            "width       1.000000    0.639772\n",
            "horsepower  0.639772    1.000000\n",
            "             width  peak_rpm\n",
            "width     1.000000 -0.221227\n",
            "peak_rpm -0.221227  1.000000\n",
            "             width  city_mpg\n",
            "width     1.000000 -0.642704\n",
            "city_mpg -0.642704  1.000000\n",
            "                width  highway_mpg\n",
            "width        1.000000    -0.677218\n",
            "highway_mpg -0.677218     1.000000\n",
            "          width     price\n",
            "width  1.000000  0.746452\n",
            "price  0.746452  1.000000\n",
            "              height  wheel_base\n",
            "height      1.000000    0.589435\n",
            "wheel_base  0.589435    1.000000\n",
            "          height    length\n",
            "height  1.000000  0.491029\n",
            "length  0.491029  1.000000\n",
            "         height    width\n",
            "height  1.00000  0.27921\n",
            "width   0.27921  1.00000\n",
            "        height  height\n",
            "height     1.0     1.0\n",
            "height     1.0     1.0\n",
            "               height  curb_weight\n",
            "height       1.000000     0.295572\n",
            "curb_weight  0.295572     1.000000\n",
            "               height  engine_size\n",
            "height       1.000000     0.067149\n",
            "engine_size  0.067149     1.000000\n",
            "                     height  compression_ratio\n",
            "height             1.000000           0.261214\n",
            "compression_ratio  0.261214           1.000000\n",
            "              height  horsepower\n",
            "height      1.000000   -0.105568\n",
            "horsepower -0.105568    1.000000\n",
            "           height  peak_rpm\n",
            "height    1.00000  -0.30322\n",
            "peak_rpm -0.30322   1.00000\n",
            "           height  city_mpg\n",
            "height    1.00000  -0.04864\n",
            "city_mpg -0.04864   1.00000\n",
            "               height  highway_mpg\n",
            "height       1.000000    -0.107358\n",
            "highway_mpg -0.107358     1.000000\n",
            "          height     price\n",
            "height  1.000000  0.130387\n",
            "price   0.130387  1.000000\n",
            "             curb_weight  wheel_base\n",
            "curb_weight     1.000000    0.776386\n",
            "wheel_base      0.776386    1.000000\n",
            "             curb_weight    length\n",
            "curb_weight     1.000000  0.877728\n",
            "length          0.877728  1.000000\n",
            "             curb_weight     width\n",
            "curb_weight     1.000000  0.867032\n",
            "width           0.867032  1.000000\n",
            "             curb_weight    height\n",
            "curb_weight     1.000000  0.295572\n",
            "height          0.295572  1.000000\n",
            "             curb_weight  curb_weight\n",
            "curb_weight          1.0          1.0\n",
            "curb_weight          1.0          1.0\n",
            "             curb_weight  engine_size\n",
            "curb_weight     1.000000     0.850594\n",
            "engine_size     0.850594     1.000000\n",
            "                   curb_weight  compression_ratio\n",
            "curb_weight           1.000000           0.151362\n",
            "compression_ratio     0.151362           1.000000\n",
            "             curb_weight  horsepower\n",
            "curb_weight     1.000000    0.750485\n",
            "horsepower      0.750485    1.000000\n",
            "             curb_weight  peak_rpm\n",
            "curb_weight     1.000000 -0.258611\n",
            "peak_rpm       -0.258611  1.000000\n",
            "             curb_weight  city_mpg\n",
            "curb_weight     1.000000 -0.757414\n",
            "city_mpg       -0.757414  1.000000\n",
            "             curb_weight  highway_mpg\n",
            "curb_weight     1.000000    -0.797465\n",
            "highway_mpg    -0.797465     1.000000\n",
            "             curb_weight     price\n",
            "curb_weight     1.000000  0.832771\n",
            "price           0.832771  1.000000\n",
            "             engine_size  wheel_base\n",
            "engine_size     1.000000    0.569329\n",
            "wheel_base      0.569329    1.000000\n",
            "             engine_size   length\n",
            "engine_size      1.00000  0.68336\n",
            "length           0.68336  1.00000\n",
            "             engine_size     width\n",
            "engine_size     1.000000  0.735433\n",
            "width           0.735433  1.000000\n",
            "             engine_size    height\n",
            "engine_size     1.000000  0.067149\n",
            "height          0.067149  1.000000\n",
            "             engine_size  curb_weight\n",
            "engine_size     1.000000     0.850594\n",
            "curb_weight     0.850594     1.000000\n",
            "             engine_size  engine_size\n",
            "engine_size          1.0          1.0\n",
            "engine_size          1.0          1.0\n",
            "                   engine_size  compression_ratio\n",
            "engine_size           1.000000           0.028971\n",
            "compression_ratio     0.028971           1.000000\n",
            "             engine_size  horsepower\n",
            "engine_size     1.000000    0.808924\n",
            "horsepower      0.808924    1.000000\n",
            "             engine_size  peak_rpm\n",
            "engine_size       1.0000   -0.2417\n",
            "peak_rpm         -0.2417    1.0000\n",
            "             engine_size  city_mpg\n",
            "engine_size     1.000000 -0.653658\n",
            "city_mpg       -0.653658  1.000000\n",
            "             engine_size  highway_mpg\n",
            "engine_size      1.00000     -0.67747\n",
            "highway_mpg     -0.67747      1.00000\n",
            "             engine_size     price\n",
            "engine_size     1.000000  0.871284\n",
            "price           0.871284  1.000000\n",
            "                   compression_ratio  wheel_base\n",
            "compression_ratio           1.000000    0.249786\n",
            "wheel_base                  0.249786    1.000000\n",
            "                   compression_ratio    length\n",
            "compression_ratio           1.000000  0.158414\n",
            "length                      0.158414  1.000000\n",
            "                   compression_ratio     width\n",
            "compression_ratio           1.000000  0.181129\n",
            "width                       0.181129  1.000000\n",
            "                   compression_ratio    height\n",
            "compression_ratio           1.000000  0.261214\n",
            "height                      0.261214  1.000000\n",
            "                   compression_ratio  curb_weight\n",
            "compression_ratio           1.000000     0.151362\n",
            "curb_weight                 0.151362     1.000000\n",
            "                   compression_ratio  engine_size\n",
            "compression_ratio           1.000000     0.028971\n",
            "engine_size                 0.028971     1.000000\n",
            "                   compression_ratio  compression_ratio\n",
            "compression_ratio                1.0                1.0\n",
            "compression_ratio                1.0                1.0\n",
            "                   compression_ratio  horsepower\n",
            "compression_ratio           1.000000   -0.203743\n",
            "horsepower                 -0.203743    1.000000\n",
            "                   compression_ratio  peak_rpm\n",
            "compression_ratio           1.000000 -0.418792\n",
            "peak_rpm                   -0.418792  1.000000\n",
            "                   compression_ratio  city_mpg\n",
            "compression_ratio           1.000000  0.324701\n",
            "city_mpg                    0.324701  1.000000\n",
            "                   compression_ratio  highway_mpg\n",
            "compression_ratio           1.000000     0.265201\n",
            "highway_mpg                 0.265201     1.000000\n",
            "                   compression_ratio     price\n",
            "compression_ratio           1.000000  0.069886\n",
            "price                       0.069886  1.000000\n",
            "            horsepower  wheel_base\n",
            "horsepower    1.000000    0.353477\n",
            "wheel_base    0.353477    1.000000\n",
            "            horsepower    length\n",
            "horsepower    1.000000  0.552221\n",
            "length        0.552221  1.000000\n",
            "            horsepower     width\n",
            "horsepower    1.000000  0.639772\n",
            "width         0.639772  1.000000\n",
            "            horsepower    height\n",
            "horsepower    1.000000 -0.105568\n",
            "height       -0.105568  1.000000\n",
            "             horsepower  curb_weight\n",
            "horsepower     1.000000     0.750485\n",
            "curb_weight    0.750485     1.000000\n",
            "             horsepower  engine_size\n",
            "horsepower     1.000000     0.808924\n",
            "engine_size    0.808924     1.000000\n",
            "                   horsepower  compression_ratio\n",
            "horsepower           1.000000          -0.203743\n",
            "compression_ratio   -0.203743           1.000000\n",
            "            horsepower  horsepower\n",
            "horsepower         1.0         1.0\n",
            "horsepower         1.0         1.0\n",
            "            horsepower  peak_rpm\n",
            "horsepower    1.000000  0.138423\n",
            "peak_rpm      0.138423  1.000000\n",
            "            horsepower  city_mpg\n",
            "horsepower    1.000000 -0.800377\n",
            "city_mpg     -0.800377  1.000000\n",
            "             horsepower  highway_mpg\n",
            "horsepower      1.00000     -0.76991\n",
            "highway_mpg    -0.76991      1.00000\n",
            "            horsepower     price\n",
            "horsepower    1.000000  0.783665\n",
            "price         0.783665  1.000000\n",
            "            peak_rpm  wheel_base\n",
            "peak_rpm    1.000000   -0.343619\n",
            "wheel_base -0.343619    1.000000\n",
            "          peak_rpm    length\n",
            "peak_rpm  1.000000 -0.288617\n",
            "length   -0.288617  1.000000\n",
            "          peak_rpm     width\n",
            "peak_rpm  1.000000 -0.221227\n",
            "width    -0.221227  1.000000\n",
            "          peak_rpm   height\n",
            "peak_rpm   1.00000 -0.30322\n",
            "height    -0.30322  1.00000\n",
            "             peak_rpm  curb_weight\n",
            "peak_rpm     1.000000    -0.258611\n",
            "curb_weight -0.258611     1.000000\n",
            "             peak_rpm  engine_size\n",
            "peak_rpm       1.0000      -0.2417\n",
            "engine_size   -0.2417       1.0000\n",
            "                   peak_rpm  compression_ratio\n",
            "peak_rpm           1.000000          -0.418792\n",
            "compression_ratio -0.418792           1.000000\n",
            "            peak_rpm  horsepower\n",
            "peak_rpm    1.000000    0.138423\n",
            "horsepower  0.138423    1.000000\n",
            "          peak_rpm  peak_rpm\n",
            "peak_rpm       1.0       1.0\n",
            "peak_rpm       1.0       1.0\n",
            "          peak_rpm  city_mpg\n",
            "peak_rpm  1.000000 -0.104211\n",
            "city_mpg -0.104211  1.000000\n",
            "             peak_rpm  highway_mpg\n",
            "peak_rpm     1.000000    -0.053799\n",
            "highway_mpg -0.053799     1.000000\n",
            "          peak_rpm     price\n",
            "peak_rpm  1.000000 -0.084753\n",
            "price    -0.084753  1.000000\n",
            "            city_mpg  wheel_base\n",
            "city_mpg    1.000000   -0.470414\n",
            "wheel_base -0.470414    1.000000\n",
            "          city_mpg    length\n",
            "city_mpg  1.000000 -0.670909\n",
            "length   -0.670909  1.000000\n",
            "          city_mpg     width\n",
            "city_mpg  1.000000 -0.642704\n",
            "width    -0.642704  1.000000\n",
            "          city_mpg   height\n",
            "city_mpg   1.00000 -0.04864\n",
            "height    -0.04864  1.00000\n",
            "             city_mpg  curb_weight\n",
            "city_mpg     1.000000    -0.757414\n",
            "curb_weight -0.757414     1.000000\n",
            "             city_mpg  engine_size\n",
            "city_mpg     1.000000    -0.653658\n",
            "engine_size -0.653658     1.000000\n",
            "                   city_mpg  compression_ratio\n",
            "city_mpg           1.000000           0.324701\n",
            "compression_ratio  0.324701           1.000000\n",
            "            city_mpg  horsepower\n",
            "city_mpg    1.000000   -0.800377\n",
            "horsepower -0.800377    1.000000\n",
            "          city_mpg  peak_rpm\n",
            "city_mpg  1.000000 -0.104211\n",
            "peak_rpm -0.104211  1.000000\n",
            "          city_mpg  city_mpg\n",
            "city_mpg       1.0       1.0\n",
            "city_mpg       1.0       1.0\n",
            "             city_mpg  highway_mpg\n",
            "city_mpg     1.000000     0.971337\n",
            "highway_mpg  0.971337     1.000000\n",
            "          city_mpg     price\n",
            "city_mpg  1.000000 -0.683168\n",
            "price    -0.683168  1.000000\n",
            "             highway_mpg  wheel_base\n",
            "highway_mpg     1.000000   -0.544082\n",
            "wheel_base     -0.544082    1.000000\n",
            "             highway_mpg    length\n",
            "highway_mpg     1.000000 -0.704662\n",
            "length         -0.704662  1.000000\n",
            "             highway_mpg     width\n",
            "highway_mpg     1.000000 -0.677218\n",
            "width          -0.677218  1.000000\n",
            "             highway_mpg    height\n",
            "highway_mpg     1.000000 -0.107358\n",
            "height         -0.107358  1.000000\n",
            "             highway_mpg  curb_weight\n",
            "highway_mpg     1.000000    -0.797465\n",
            "curb_weight    -0.797465     1.000000\n",
            "             highway_mpg  engine_size\n",
            "highway_mpg      1.00000     -0.67747\n",
            "engine_size     -0.67747      1.00000\n",
            "                   highway_mpg  compression_ratio\n",
            "highway_mpg           1.000000           0.265201\n",
            "compression_ratio     0.265201           1.000000\n",
            "             highway_mpg  horsepower\n",
            "highway_mpg      1.00000    -0.76991\n",
            "horsepower      -0.76991     1.00000\n",
            "             highway_mpg  peak_rpm\n",
            "highway_mpg     1.000000 -0.053799\n",
            "peak_rpm       -0.053799  1.000000\n",
            "             highway_mpg  city_mpg\n",
            "highway_mpg     1.000000  0.971337\n",
            "city_mpg        0.971337  1.000000\n",
            "             highway_mpg  highway_mpg\n",
            "highway_mpg          1.0          1.0\n",
            "highway_mpg          1.0          1.0\n",
            "             highway_mpg   price\n",
            "highway_mpg       1.0000 -0.7011\n",
            "price            -0.7011  1.0000\n",
            "               price  wheel_base\n",
            "price       1.000000    0.584425\n",
            "wheel_base  0.584425    1.000000\n",
            "           price    length\n",
            "price   1.000000  0.689134\n",
            "length  0.689134  1.000000\n",
            "          price     width\n",
            "price  1.000000  0.746452\n",
            "width  0.746452  1.000000\n",
            "           price    height\n",
            "price   1.000000  0.130387\n",
            "height  0.130387  1.000000\n",
            "                price  curb_weight\n",
            "price        1.000000     0.832771\n",
            "curb_weight  0.832771     1.000000\n",
            "                price  engine_size\n",
            "price        1.000000     0.871284\n",
            "engine_size  0.871284     1.000000\n",
            "                      price  compression_ratio\n",
            "price              1.000000           0.069886\n",
            "compression_ratio  0.069886           1.000000\n",
            "               price  horsepower\n",
            "price       1.000000    0.783665\n",
            "horsepower  0.783665    1.000000\n",
            "             price  peak_rpm\n",
            "price     1.000000 -0.084753\n",
            "peak_rpm -0.084753  1.000000\n",
            "             price  city_mpg\n",
            "price     1.000000 -0.683168\n",
            "city_mpg -0.683168  1.000000\n",
            "              price  highway_mpg\n",
            "price        1.0000      -0.7011\n",
            "highway_mpg -0.7011       1.0000\n",
            "       price  price\n",
            "price    1.0    1.0\n",
            "price    1.0    1.0\n"
          ],
          "name": "stdout"
        }
      ]
    },
    {
      "cell_type": "code",
      "metadata": {
        "colab": {
          "base_uri": "https://localhost:8080/"
        },
        "id": "GddmpImWk3P6",
        "outputId": "1348fa20-0ae6-4a0c-9c45-03dbe7e8f4e1"
      },
      "source": [
        "encoded_features=df_encoded.columns\n",
        "type(encoded_features)"
      ],
      "execution_count": null,
      "outputs": [
        {
          "output_type": "execute_result",
          "data": {
            "text/plain": [
              "pandas.core.indexes.base.Index"
            ]
          },
          "metadata": {},
          "execution_count": 45
        }
      ]
    },
    {
      "cell_type": "code",
      "metadata": {
        "id": "iwfFh_vJnhqk"
      },
      "source": [
        "encoded_features_ind=list((set(encoded_features))-(set('price')))\n",
        "encoded_features_ind.remove('price')"
      ],
      "execution_count": null,
      "outputs": []
    },
    {
      "cell_type": "code",
      "metadata": {
        "id": "buwCwG09nPqr"
      },
      "source": [
        "for i in encoded_features_ind:\n",
        "  if i=='price':\n",
        "    print('found')"
      ],
      "execution_count": null,
      "outputs": []
    },
    {
      "cell_type": "code",
      "metadata": {
        "id": "wupME8l2lIZC"
      },
      "source": [
        "features_ind_num=[i for i in features if df[i].dtype !='O']"
      ],
      "execution_count": null,
      "outputs": []
    },
    {
      "cell_type": "code",
      "metadata": {
        "colab": {
          "base_uri": "https://localhost:8080/",
          "height": 1000
        },
        "id": "6wpyafBIkXH6",
        "outputId": "8df5eef9-e53c-447d-990b-04a62f81ccb0"
      },
      "source": [
        " for i in features_ind_num: #for exploring the relationship between independent numeric variables to the outcome\n",
        "  dataset=df.copy()\n",
        "  plt.scatter(df[i],df['price'])\n",
        "  plt.xlabel('i')\n",
        "  plt.ylabel('price')\n",
        "  plt.show()"
      ],
      "execution_count": null,
      "outputs": [
        {
          "output_type": "display_data",
          "data": {
            "image/png": "[encoded data removed]",
            "text/plain": [
              "<Figure size 432x288 with 1 Axes>"
            ]
          },
          "metadata": {
            "needs_background": "light"
          }
        },
        {
          "output_type": "display_data",
          "data": {
            "image/png": "[encoded data removed]",
            "text/plain": [
              "<Figure size 432x288 with 1 Axes>"
            ]
          },
          "metadata": {
            "needs_background": "light"
          }
        },
        {
          "output_type": "display_data",
          "data": {
            "image/png": "[encoded data removed]",
            "text/plain": [
              "<Figure size 432x288 with 1 Axes>"
            ]
          },
          "metadata": {
            "needs_background": "light"
          }
        },
        {
          "output_type": "display_data",
          "data": {
            "image/png": "[encoded data removed]",
            "text/plain": [
              "<Figure size 432x288 with 1 Axes>"
            ]
          },
          "metadata": {
            "needs_background": "light"
          }
        },
        {
          "output_type": "display_data",
          "data": {
            "image/png": "[encoded data removed]",
            "text/plain": [
              "<Figure size 432x288 with 1 Axes>"
            ]
          },
          "metadata": {
            "needs_background": "light"
          }
        },
        {
          "output_type": "display_data",
          "data": {
            "image/png": "[encoded data removed]",
            "text/plain": [
              "<Figure size 432x288 with 1 Axes>"
            ]
          },
          "metadata": {
            "needs_background": "light"
          }
        },
        {
          "output_type": "display_data",
          "data": {
            "image/png": "[encoded data removed]",
            "text/plain": [
              "<Figure size 432x288 with 1 Axes>"
            ]
          },
          "metadata": {
            "needs_background": "light"
          }
        },
        {
          "output_type": "display_data",
          "data": {
            "image/png": "[encoded data removed]",
            "text/plain": [
              "<Figure size 432x288 with 1 Axes>"
            ]
          },
          "metadata": {
            "needs_background": "light"
          }
        },
        {
          "output_type": "display_data",
          "data": {
            "image/png": "[encoded data removed]",
            "text/plain": [
              "<Figure size 432x288 with 1 Axes>"
            ]
          },
          "metadata": {
            "needs_background": "light"
          }
        },
        {
          "output_type": "display_data",
          "data": {
            "image/png": "[encoded data removed]",
            "text/plain": [
              "<Figure size 432x288 with 1 Axes>"
            ]
          },
          "metadata": {
            "needs_background": "light"
          }
        },
        {
          "output_type": "display_data",
          "data": {
            "image/png": "[encoded data removed]",
            "text/plain": [
              "<Figure size 432x288 with 1 Axes>"
            ]
          },
          "metadata": {
            "needs_background": "light"
          }
        },
        {
          "output_type": "display_data",
          "data": {
            "image/png": "[encoded data removed]",
            "text/plain": [
              "<Figure size 432x288 with 1 Axes>"
            ]
          },
          "metadata": {
            "needs_background": "light"
          }
        }
      ]
    },
    {
      "cell_type": "code",
      "metadata": {
        "id": "JFFIUv5ykXFA"
      },
      "source": [
        "import statsmodels.api as sm\n",
        "from sklearn.model_selection import train_test_split"
      ],
      "execution_count": null,
      "outputs": []
    },
    {
      "cell_type": "code",
      "metadata": {
        "id": "aPql05PHkXCL"
      },
      "source": [
        "X=sm.add_constant(df_encoded[encoded_features_ind]) #independent encoded variables"
      ],
      "execution_count": null,
      "outputs": []
    },
    {
      "cell_type": "code",
      "metadata": {
        "id": "L0IWRcMzkW_L"
      },
      "source": [
        "Y=df_encoded['price']\n",
        "X_train,X_test,y_train,y_test=train_test_split(X,Y,train_size=0.7) #creating train and test datasets"
      ],
      "execution_count": null,
      "outputs": []
    },
    {
      "cell_type": "code",
      "metadata": {
        "id": "RBHgZFGskW8a"
      },
      "source": [
        "mod_1=sm.OLS(y_train, X_train).fit() #fitting the model"
      ],
      "execution_count": null,
      "outputs": []
    },
    {
      "cell_type": "code",
      "metadata": {
        "colab": {
          "base_uri": "https://localhost:8080/",
          "height": 1000
        },
        "id": "813STTr4kW5u",
        "outputId": "76e10013-3289-4039-e33d-9545086db91e"
      },
      "source": [
        "mod_1.summary2()"
      ],
      "execution_count": null,
      "outputs": [
        {
          "output_type": "stream",
          "text": [
            "/usr/local/lib/python3.7/dist-packages/statsmodels/base/model.py:1294: RuntimeWarning: invalid value encountered in true_divide\n",
            "  return self.params / self.bse\n"
          ],
          "name": "stderr"
        },
        {
          "output_type": "execute_result",
          "data": {
            "text/html": [
              "<table class=\"simpletable\">\n",
              "<tr>\n",
              "        <td>Model:</td>               <td>OLS</td>         <td>Adj. R-squared:</td>      <td>0.945</td>  \n",
              "</tr>\n",
              "<tr>\n",
              "  <td>Dependent Variable:</td>       <td>price</td>             <td>AIC:</td>          <td>2618.5015</td>\n",
              "</tr>\n",
              "<tr>\n",
              "         <td>Date:</td>        <td>2021-08-29 11:21</td>        <td>BIC:</td>          <td>2775.5323</td>\n",
              "</tr>\n",
              "<tr>\n",
              "   <td>No. Observations:</td>         <td>143</td>         <td>Log-Likelihood:</td>     <td>-1256.3</td> \n",
              "</tr>\n",
              "<tr>\n",
              "       <td>Df Model:</td>             <td>52</td>           <td>F-statistic:</td>        <td>47.60</td>  \n",
              "</tr>\n",
              "<tr>\n",
              "     <td>Df Residuals:</td>           <td>90</td>        <td>Prob (F-statistic):</td>  <td>9.17e-48</td> \n",
              "</tr>\n",
              "<tr>\n",
              "      <td>R-squared:</td>            <td>0.965</td>            <td>Scale:</td>        <td>3.9733e+06</td>\n",
              "</tr>\n",
              "</table>\n",
              "<table class=\"simpletable\">\n",
              "<tr>\n",
              "             <td></td>                <th>Coef.</th>    <th>Std.Err.</th>     <th>t</th>     <th>P>|t|</th>   <th>[0.025</th>      <th>0.975]</th>  \n",
              "</tr>\n",
              "<tr>\n",
              "  <th>const</th>                   <td>-11801.8493</td> <td>5920.7549</td> <td>-1.9933</td> <td>0.0493</td> <td>-23564.4622</td>  <td>-39.2363</td> \n",
              "</tr>\n",
              "<tr>\n",
              "  <th>make_peugot</th>             <td>-2382.2152</td>  <td>1289.5187</td> <td>-1.8474</td> <td>0.0680</td> <td>-4944.0691</td>   <td>179.6388</td> \n",
              "</tr>\n",
              "<tr>\n",
              "  <th>engine_type_l</th>           <td>-3238.5727</td>  <td>1315.7537</td> <td>-2.4614</td> <td>0.0157</td> <td>-5852.5471</td>   <td>-624.5982</td>\n",
              "</tr>\n",
              "<tr>\n",
              "  <th>engine_type_ohcf</th>         <td>-980.1646</td>  <td>1842.7853</td> <td>-0.5319</td> <td>0.5961</td> <td>-4641.1792</td>   <td>2680.8500</td>\n",
              "</tr>\n",
              "<tr>\n",
              "  <th>make_toyota</th>             <td>-1737.5346</td>  <td>735.7323</td>  <td>-2.3616</td> <td>0.0204</td> <td>-3199.1952</td>   <td>-275.8741</td>\n",
              "</tr>\n",
              "<tr>\n",
              "  <th>make_isuzu</th>              <td>-2485.9949</td>  <td>1672.9506</td> <td>-1.4860</td> <td>0.1408</td> <td>-5809.6033</td>   <td>837.6136</td> \n",
              "</tr>\n",
              "<tr>\n",
              "  <th>engine_type_ohcv</th>        <td>-4758.6872</td>  <td>1499.8892</td> <td>-3.1727</td> <td>0.0021</td> <td>-7738.4788</td>  <td>-1778.8955</td>\n",
              "</tr>\n",
              "<tr>\n",
              "  <th>length</th>                   <td>-176.5941</td>   <td>77.7624</td>  <td>-2.2709</td> <td>0.0255</td>  <td>-331.0826</td>   <td>-22.1056</td> \n",
              "</tr>\n",
              "<tr>\n",
              "  <th>fuel_system_spdi</th>        <td>-2660.4770</td>  <td>1523.1753</td> <td>-1.7467</td> <td>0.0841</td> <td>-5686.5307</td>   <td>365.5766</td> \n",
              "</tr>\n",
              "<tr>\n",
              "  <th>make_bmw</th>                 <td>6175.5575</td>  <td>1472.9856</td> <td>4.1925</td>  <td>0.0001</td>  <td>3249.2145</td>   <td>9101.9004</td>\n",
              "</tr>\n",
              "<tr>\n",
              "  <th>body_style_convertible</th>   <td>-963.0418</td>  <td>1395.1474</td> <td>-0.6903</td> <td>0.4918</td> <td>-3734.7457</td>   <td>1808.6621</td>\n",
              "</tr>\n",
              "<tr>\n",
              "  <th>num_of_cylinders_five</th>   <td>-6265.9161</td>  <td>1862.4338</td> <td>-3.3644</td> <td>0.0011</td> <td>-9965.9659</td>  <td>-2565.8663</td>\n",
              "</tr>\n",
              "<tr>\n",
              "  <th>fuel_system_4bbl</th>        <td>-3184.9673</td>  <td>2459.7872</td> <td>-1.2948</td> <td>0.1987</td> <td>-8071.7639</td>   <td>1701.8293</td>\n",
              "</tr>\n",
              "<tr>\n",
              "  <th>aspiration_turbo</th>        <td>-4775.8335</td>  <td>3005.7147</td> <td>-1.5889</td> <td>0.1156</td> <td>-10747.2102</td>  <td>1195.5433</td>\n",
              "</tr>\n",
              "<tr>\n",
              "  <th>body_style_hatchback</th>    <td>-3461.7891</td>  <td>1318.8392</td> <td>-2.6249</td> <td>0.0102</td> <td>-6081.8934</td>   <td>-841.6848</td>\n",
              "</tr>\n",
              "<tr>\n",
              "  <th>num_of_cylinders_six</th>    <td>-4218.7060</td>  <td>1540.3587</td> <td>-2.7388</td> <td>0.0074</td> <td>-7278.8974</td>  <td>-1158.5146</td>\n",
              "</tr>\n",
              "<tr>\n",
              "  <th>drive_wheels_fwd</th>        <td>-4255.7212</td>  <td>2246.3607</td> <td>-1.8945</td> <td>0.0614</td> <td>-8718.5089</td>   <td>207.0664</td> \n",
              "</tr>\n",
              "<tr>\n",
              "  <th>body_style_sedan</th>        <td>-2598.3196</td>  <td>1447.0294</td> <td>-1.7956</td> <td>0.0759</td> <td>-5473.0960</td>   <td>276.4569</td> \n",
              "</tr>\n",
              "<tr>\n",
              "  <th>make_saab</th>                <td>6468.4654</td>  <td>2192.2774</td> <td>2.9506</td>  <td>0.0040</td>  <td>2113.1237</td>  <td>10823.8071</td>\n",
              "</tr>\n",
              "<tr>\n",
              "  <th>height</th>                   <td>-223.0506</td>  <td>182.2608</td>  <td>-1.2238</td> <td>0.2242</td>  <td>-585.1435</td>   <td>139.0423</td> \n",
              "</tr>\n",
              "<tr>\n",
              "  <th>num_of_cylinders_two</th>     <td>-293.5476</td>  <td>1467.7759</td> <td>-0.2000</td> <td>0.8419</td> <td>-3209.5406</td>   <td>2622.4455</td>\n",
              "</tr>\n",
              "<tr>\n",
              "  <th>engine_type_dohc</th>        <td>-2504.9588</td>  <td>1335.3180</td> <td>-1.8759</td> <td>0.0639</td> <td>-5157.8011</td>   <td>147.8835</td> \n",
              "</tr>\n",
              "<tr>\n",
              "  <th>num_of_cylinders_four</th>   <td>-7025.4362</td>  <td>2048.9242</td> <td>-3.4288</td> <td>0.0009</td> <td>-11095.9818</td> <td>-2954.8906</td>\n",
              "</tr>\n",
              "<tr>\n",
              "  <th>fuel_system_1bbl</th>        <td>-2770.5053</td>  <td>1902.8301</td> <td>-1.4560</td> <td>0.1489</td> <td>-6550.8094</td>   <td>1009.7989</td>\n",
              "</tr>\n",
              "<tr>\n",
              "  <th>make_dodge</th>              <td>-3553.7673</td>  <td>1324.9203</td> <td>-2.6822</td> <td>0.0087</td> <td>-6185.9527</td>   <td>-921.5818</td>\n",
              "</tr>\n",
              "<tr>\n",
              "  <th>fuel_system_mfi</th>         <td>-3422.9971</td>  <td>2338.6373</td> <td>-1.4637</td> <td>0.1468</td> <td>-8069.1083</td>   <td>1223.1140</td>\n",
              "</tr>\n",
              "<tr>\n",
              "  <th>engine_location_front</th>   <td>-11983.6385</td> <td>3774.5054</td> <td>-3.1749</td> <td>0.0021</td> <td>-19482.3523</td> <td>-4484.9246</td>\n",
              "</tr>\n",
              "<tr>\n",
              "  <th>make_jaguar</th>             <td>-1788.8323</td>  <td>3100.3464</td> <td>-0.5770</td> <td>0.5654</td> <td>-7948.2116</td>   <td>4370.5470</td>\n",
              "</tr>\n",
              "<tr>\n",
              "  <th>make_porsche</th>             <td>3601.0349</td>  <td>2633.5599</td> <td>1.3674</td>  <td>0.1749</td> <td>-1630.9915</td>   <td>8833.0613</td>\n",
              "</tr>\n",
              "<tr>\n",
              "  <th>num_of_doors_two</th>        <td>-5939.4434</td>  <td>2996.9754</td> <td>-1.9818</td> <td>0.0506</td> <td>-11893.4583</td>   <td>14.5714</td> \n",
              "</tr>\n",
              "<tr>\n",
              "  <th>width</th>                    <td>987.1594</td>   <td>392.3523</td>  <td>2.5160</td>  <td>0.0136</td>  <td>207.6831</td>    <td>1766.6358</td>\n",
              "</tr>\n",
              "<tr>\n",
              "  <th>num_of_cylinders_twelve</th>  <td>3575.3489</td>  <td>5180.8486</td> <td>0.6901</td>  <td>0.4919</td> <td>-6717.3111</td>  <td>13868.0090</td>\n",
              "</tr>\n",
              "<tr>\n",
              "  <th>drive_wheels_rwd</th>        <td>-3519.8486</td>  <td>2139.6844</td> <td>-1.6450</td> <td>0.1035</td> <td>-7770.7052</td>   <td>731.0080</td> \n",
              "</tr>\n",
              "<tr>\n",
              "  <th>make_volvo</th>              <td>-1521.2390</td>  <td>1380.6456</td> <td>-1.1018</td> <td>0.2735</td> <td>-4264.1325</td>   <td>1221.6544</td>\n",
              "</tr>\n",
              "<tr>\n",
              "  <th>fuel_system_mpfi</th>         <td>-461.6687</td>  <td>1132.2004</td> <td>-0.4078</td> <td>0.6844</td> <td>-2710.9825</td>   <td>1787.6451</td>\n",
              "</tr>\n",
              "<tr>\n",
              "  <th>make_subaru</th>             <td>-1161.9538</td>  <td>1217.6785</td> <td>-0.9542</td> <td>0.3425</td> <td>-3581.0847</td>   <td>1257.1771</td>\n",
              "</tr>\n",
              "<tr>\n",
              "  <th>make_nissan</th>             <td>-1356.4881</td>  <td>869.1404</td>  <td>-1.5607</td> <td>0.1221</td> <td>-3083.1872</td>   <td>370.2110</td> \n",
              "</tr>\n",
              "<tr>\n",
              "  <th>body_style_hardtop</th>      <td>-2330.5193</td>  <td>1473.9693</td> <td>-1.5811</td> <td>0.1174</td> <td>-5258.8165</td>   <td>597.7779</td> \n",
              "</tr>\n",
              "<tr>\n",
              "  <th>engine_type_dohcv</th>         <td>0.0000</td>     <td>0.0000</td>   <td>1.2515</td>  <td>0.2140</td>   <td>-0.0000</td>     <td>0.0000</td>  \n",
              "</tr>\n",
              "<tr>\n",
              "  <th>highway_mpg</th>               <td>38.5371</td>   <td>196.2470</td>  <td>0.1964</td>  <td>0.8448</td>  <td>-351.3417</td>   <td>428.4160</td> \n",
              "</tr>\n",
              "<tr>\n",
              "  <th>fuel_system_idi</th>          <td>789.2885</td>   <td>4132.0638</td> <td>0.1910</td>  <td>0.8489</td> <td>-7419.7774</td>   <td>8998.3544</td>\n",
              "</tr>\n",
              "<tr>\n",
              "  <th>horsepower</th>               <td>-38.3314</td>    <td>35.4418</td>  <td>-1.0815</td> <td>0.2824</td>  <td>-108.7427</td>    <td>32.0800</td> \n",
              "</tr>\n",
              "<tr>\n",
              "  <th>make_alfa-romero</th>         <td>4533.6536</td>  <td>1813.0613</td> <td>2.5006</td>  <td>0.0142</td>  <td>931.6910</td>    <td>8135.6163</td>\n",
              "</tr>\n",
              "<tr>\n",
              "  <th>engine_location_rear</th>     <td>181.7892</td>   <td>2732.4845</td> <td>0.0665</td>  <td>0.9471</td> <td>-5246.7681</td>   <td>5610.3465</td>\n",
              "</tr>\n",
              "<tr>\n",
              "  <th>make_volkswagen</th>         <td>-1226.6617</td>  <td>1238.2289</td> <td>-0.9907</td> <td>0.3245</td> <td>-3686.6196</td>   <td>1233.2961</td>\n",
              "</tr>\n",
              "<tr>\n",
              "  <th>fuel_system_2bbl</th>         <td>-90.5223</td>   <td>1062.7748</td> <td>-0.0852</td> <td>0.9323</td> <td>-2201.9099</td>   <td>2020.8652</td>\n",
              "</tr>\n",
              "<tr>\n",
              "  <th>make_mitsubishi</th>         <td>-4429.4706</td>  <td>1014.5976</td> <td>-4.3657</td> <td>0.0000</td> <td>-6445.1457</td>  <td>-2413.7954</td>\n",
              "</tr>\n",
              "<tr>\n",
              "  <th>num_of_cylinders_three</th>   <td>-856.3575</td>  <td>1177.5818</td> <td>-0.7272</td> <td>0.4690</td> <td>-3195.8293</td>   <td>1483.1142</td>\n",
              "</tr>\n",
              "<tr>\n",
              "  <th>city_mpg</th>                  <td>84.7123</td>   <td>215.0169</td>  <td>0.3940</td>  <td>0.6945</td>  <td>-342.4563</td>   <td>511.8810</td> \n",
              "</tr>\n",
              "<tr>\n",
              "  <th>engine_size</th>               <td>76.2078</td>    <td>25.7841</td>  <td>2.9556</td>  <td>0.0040</td>   <td>24.9831</td>    <td>127.4325</td> \n",
              "</tr>\n",
              "<tr>\n",
              "  <th>make_mercury</th>              <td>-0.0000</td>    <td>0.0000</td>   <td>-1.6035</td> <td>0.1123</td>   <td>-0.0000</td>     <td>0.0000</td>  \n",
              "</tr>\n",
              "<tr>\n",
              "  <th>fuel_type_gas</th>           <td>-12591.1378</td> <td>4432.5117</td> <td>-2.8406</td> <td>0.0056</td> <td>-21397.0959</td> <td>-3785.1796</td>\n",
              "</tr>\n",
              "<tr>\n",
              "  <th>make_renault</th>            <td>-1201.7953</td>  <td>1958.3560</td> <td>-0.6137</td> <td>0.5410</td> <td>-5092.4114</td>   <td>2688.8208</td>\n",
              "</tr>\n",
              "<tr>\n",
              "  <th>num_of_cylinders_eight</th>   <td>3282.7651</td>  <td>1886.7290</td> <td>1.7399</td>  <td>0.0853</td>  <td>-465.5513</td>   <td>7031.0816</td>\n",
              "</tr>\n",
              "<tr>\n",
              "  <th>fuel_type_diesel</th>         <td>789.2885</td>   <td>4132.0638</td> <td>0.1910</td>  <td>0.8489</td> <td>-7419.7774</td>   <td>8998.3544</td>\n",
              "</tr>\n",
              "<tr>\n",
              "  <th>make_chevrolet</th>           <td>-856.3575</td>  <td>1177.5818</td> <td>-0.7272</td> <td>0.4690</td> <td>-3195.8293</td>   <td>1483.1142</td>\n",
              "</tr>\n",
              "<tr>\n",
              "  <th>make_mazda</th>              <td>-1170.4336</td>  <td>941.6550</td>  <td>-1.2430</td> <td>0.2171</td> <td>-3041.1957</td>   <td>700.3284</td> \n",
              "</tr>\n",
              "<tr>\n",
              "  <th>peak_rpm</th>                  <td>2.9568</td>     <td>0.8825</td>   <td>3.3504</td>  <td>0.0012</td>   <td>1.2035</td>      <td>4.7100</td>  \n",
              "</tr>\n",
              "<tr>\n",
              "  <th>compression_ratio</th>       <td>-1199.9629</td>  <td>760.7795</td>  <td>-1.5773</td> <td>0.1182</td> <td>-2711.3842</td>   <td>311.4583</td> \n",
              "</tr>\n",
              "<tr>\n",
              "  <th>aspiration_std</th>          <td>-7026.0158</td>  <td>3029.9598</td> <td>-2.3188</td> <td>0.0227</td> <td>-13045.5598</td> <td>-1006.4718</td>\n",
              "</tr>\n",
              "<tr>\n",
              "  <th>make_plymouth</th>           <td>-3563.2335</td>  <td>1259.8992</td> <td>-2.8282</td> <td>0.0058</td> <td>-6066.2431</td>  <td>-1060.2239</td>\n",
              "</tr>\n",
              "<tr>\n",
              "  <th>num_of_doors_?</th>            <td>0.0000</td>     <td>0.0000</td>     <td>nan</td>     <td>nan</td>    <td>0.0000</td>      <td>0.0000</td>  \n",
              "</tr>\n",
              "<tr>\n",
              "  <th>drive_wheels_4wd</th>        <td>-4026.2795</td>  <td>1979.1023</td> <td>-2.0344</td> <td>0.0449</td> <td>-7958.1116</td>   <td>-94.4473</td> \n",
              "</tr>\n",
              "<tr>\n",
              "  <th>make_honda</th>              <td>-1161.4322</td>  <td>1643.1589</td> <td>-0.7068</td> <td>0.4815</td> <td>-4425.8542</td>   <td>2102.9897</td>\n",
              "</tr>\n",
              "<tr>\n",
              "  <th>make_audi</th>               <td>-2262.8928</td>  <td>1639.5971</td> <td>-1.3802</td> <td>0.1710</td> <td>-5520.2386</td>   <td>994.4529</td> \n",
              "</tr>\n",
              "<tr>\n",
              "  <th>num_of_doors_four</th>       <td>-5862.4058</td>  <td>2959.7372</td> <td>-1.9807</td> <td>0.0507</td> <td>-11742.4405</td>   <td>17.6288</td> \n",
              "</tr>\n",
              "<tr>\n",
              "  <th>engine_type_ohc</th>          <td>-25.9185</td>   <td>1151.2110</td> <td>-0.0225</td> <td>0.9821</td> <td>-2313.0001</td>   <td>2261.1631</td>\n",
              "</tr>\n",
              "<tr>\n",
              "  <th>curb_weight</th>               <td>6.8307</td>     <td>3.1193</td>   <td>2.1898</td>  <td>0.0311</td>   <td>0.6336</td>      <td>13.0277</td> \n",
              "</tr>\n",
              "<tr>\n",
              "  <th>wheel_base</th>               <td>246.9899</td>   <td>115.6790</td>  <td>2.1351</td>  <td>0.0355</td>   <td>17.1734</td>    <td>476.8064</td> \n",
              "</tr>\n",
              "<tr>\n",
              "  <th>engine_type_rotor</th>        <td>-293.5476</td>  <td>1467.7759</td> <td>-0.2000</td> <td>0.8419</td> <td>-3209.5406</td>   <td>2622.4455</td>\n",
              "</tr>\n",
              "<tr>\n",
              "  <th>body_style_wagon</th>        <td>-2448.1795</td>  <td>1540.1465</td> <td>-1.5896</td> <td>0.1154</td> <td>-5507.9494</td>   <td>611.5903</td> \n",
              "</tr>\n",
              "<tr>\n",
              "  <th>fuel_system_spfi</th>          <td>0.0000</td>     <td>0.0000</td>     <td>nan</td>     <td>nan</td>    <td>0.0000</td>      <td>0.0000</td>  \n",
              "</tr>\n",
              "<tr>\n",
              "  <th>make_mercedes-benz</th>       <td>-720.2581</td>  <td>1913.9237</td> <td>-0.3763</td> <td>0.7076</td> <td>-4522.6015</td>   <td>3082.0853</td>\n",
              "</tr>\n",
              "</table>\n",
              "<table class=\"simpletable\">\n",
              "<tr>\n",
              "     <td>Omnibus:</td>    <td>41.211</td>  <td>Durbin-Watson:</td>         <td>2.152</td>      \n",
              "</tr>\n",
              "<tr>\n",
              "  <td>Prob(Omnibus):</td>  <td>0.000</td> <td>Jarque-Bera (JB):</td>      <td>160.631</td>     \n",
              "</tr>\n",
              "<tr>\n",
              "       <td>Skew:</td>      <td>0.972</td>     <td>Prob(JB):</td>           <td>0.000</td>      \n",
              "</tr>\n",
              "<tr>\n",
              "     <td>Kurtosis:</td>    <td>7.815</td>  <td>Condition No.:</td>   <td>15819419053898796</td>\n",
              "</tr>\n",
              "</table>"
            ],
            "text/plain": [
              "<class 'statsmodels.iolib.summary2.Summary'>\n",
              "\"\"\"\n",
              "                          Results: Ordinary least squares\n",
              "===================================================================================\n",
              "Model:                    OLS                   Adj. R-squared:          0.945     \n",
              "Dependent Variable:       price                 AIC:                     2618.5015 \n",
              "Date:                     2021-08-29 11:21      BIC:                     2775.5323 \n",
              "No. Observations:         143                   Log-Likelihood:          -1256.3   \n",
              "Df Model:                 52                    F-statistic:             47.60     \n",
              "Df Residuals:             90                    Prob (F-statistic):      9.17e-48  \n",
              "R-squared:                0.965                 Scale:                   3.9733e+06\n",
              "-----------------------------------------------------------------------------------\n",
              "                           Coef.     Std.Err.    t    P>|t|     [0.025     0.975]  \n",
              "-----------------------------------------------------------------------------------\n",
              "const                   -11801.8493 5920.7549 -1.9933 0.0493 -23564.4622   -39.2363\n",
              "make_peugot              -2382.2152 1289.5187 -1.8474 0.0680  -4944.0691   179.6388\n",
              "engine_type_l            -3238.5727 1315.7537 -2.4614 0.0157  -5852.5471  -624.5982\n",
              "engine_type_ohcf          -980.1646 1842.7853 -0.5319 0.5961  -4641.1792  2680.8500\n",
              "make_toyota              -1737.5346  735.7323 -2.3616 0.0204  -3199.1952  -275.8741\n",
              "make_isuzu               -2485.9949 1672.9506 -1.4860 0.1408  -5809.6033   837.6136\n",
              "engine_type_ohcv         -4758.6872 1499.8892 -3.1727 0.0021  -7738.4788 -1778.8955\n",
              "length                    -176.5941   77.7624 -2.2709 0.0255   -331.0826   -22.1056\n",
              "fuel_system_spdi         -2660.4770 1523.1753 -1.7467 0.0841  -5686.5307   365.5766\n",
              "make_bmw                  6175.5575 1472.9856  4.1925 0.0001   3249.2145  9101.9004\n",
              "body_style_convertible    -963.0418 1395.1474 -0.6903 0.4918  -3734.7457  1808.6621\n",
              "num_of_cylinders_five    -6265.9161 1862.4338 -3.3644 0.0011  -9965.9659 -2565.8663\n",
              "fuel_system_4bbl         -3184.9673 2459.7872 -1.2948 0.1987  -8071.7639  1701.8293\n",
              "aspiration_turbo         -4775.8335 3005.7147 -1.5889 0.1156 -10747.2102  1195.5433\n",
              "body_style_hatchback     -3461.7891 1318.8392 -2.6249 0.0102  -6081.8934  -841.6848\n",
              "num_of_cylinders_six     -4218.7060 1540.3587 -2.7388 0.0074  -7278.8974 -1158.5146\n",
              "drive_wheels_fwd         -4255.7212 2246.3607 -1.8945 0.0614  -8718.5089   207.0664\n",
              "body_style_sedan         -2598.3196 1447.0294 -1.7956 0.0759  -5473.0960   276.4569\n",
              "make_saab                 6468.4654 2192.2774  2.9506 0.0040   2113.1237 10823.8071\n",
              "height                    -223.0506  182.2608 -1.2238 0.2242   -585.1435   139.0423\n",
              "num_of_cylinders_two      -293.5476 1467.7759 -0.2000 0.8419  -3209.5406  2622.4455\n",
              "engine_type_dohc         -2504.9588 1335.3180 -1.8759 0.0639  -5157.8011   147.8835\n",
              "num_of_cylinders_four    -7025.4362 2048.9242 -3.4288 0.0009 -11095.9818 -2954.8906\n",
              "fuel_system_1bbl         -2770.5053 1902.8301 -1.4560 0.1489  -6550.8094  1009.7989\n",
              "make_dodge               -3553.7673 1324.9203 -2.6822 0.0087  -6185.9527  -921.5818\n",
              "fuel_system_mfi          -3422.9971 2338.6373 -1.4637 0.1468  -8069.1083  1223.1140\n",
              "engine_location_front   -11983.6385 3774.5054 -3.1749 0.0021 -19482.3523 -4484.9246\n",
              "make_jaguar              -1788.8323 3100.3464 -0.5770 0.5654  -7948.2116  4370.5470\n",
              "make_porsche              3601.0349 2633.5599  1.3674 0.1749  -1630.9915  8833.0613\n",
              "num_of_doors_two         -5939.4434 2996.9754 -1.9818 0.0506 -11893.4583    14.5714\n",
              "width                      987.1594  392.3523  2.5160 0.0136    207.6831  1766.6358\n",
              "num_of_cylinders_twelve   3575.3489 5180.8486  0.6901 0.4919  -6717.3111 13868.0090\n",
              "drive_wheels_rwd         -3519.8486 2139.6844 -1.6450 0.1035  -7770.7052   731.0080\n",
              "make_volvo               -1521.2390 1380.6456 -1.1018 0.2735  -4264.1325  1221.6544\n",
              "fuel_system_mpfi          -461.6687 1132.2004 -0.4078 0.6844  -2710.9825  1787.6451\n",
              "make_subaru              -1161.9538 1217.6785 -0.9542 0.3425  -3581.0847  1257.1771\n",
              "make_nissan              -1356.4881  869.1404 -1.5607 0.1221  -3083.1872   370.2110\n",
              "body_style_hardtop       -2330.5193 1473.9693 -1.5811 0.1174  -5258.8165   597.7779\n",
              "engine_type_dohcv            0.0000    0.0000  1.2515 0.2140     -0.0000     0.0000\n",
              "highway_mpg                 38.5371  196.2470  0.1964 0.8448   -351.3417   428.4160\n",
              "fuel_system_idi            789.2885 4132.0638  0.1910 0.8489  -7419.7774  8998.3544\n",
              "horsepower                 -38.3314   35.4418 -1.0815 0.2824   -108.7427    32.0800\n",
              "make_alfa-romero          4533.6536 1813.0613  2.5006 0.0142    931.6910  8135.6163\n",
              "engine_location_rear       181.7892 2732.4845  0.0665 0.9471  -5246.7681  5610.3465\n",
              "make_volkswagen          -1226.6617 1238.2289 -0.9907 0.3245  -3686.6196  1233.2961\n",
              "fuel_system_2bbl           -90.5223 1062.7748 -0.0852 0.9323  -2201.9099  2020.8652\n",
              "make_mitsubishi          -4429.4706 1014.5976 -4.3657 0.0000  -6445.1457 -2413.7954\n",
              "num_of_cylinders_three    -856.3575 1177.5818 -0.7272 0.4690  -3195.8293  1483.1142\n",
              "city_mpg                    84.7123  215.0169  0.3940 0.6945   -342.4563   511.8810\n",
              "engine_size                 76.2078   25.7841  2.9556 0.0040     24.9831   127.4325\n",
              "make_mercury                -0.0000    0.0000 -1.6035 0.1123     -0.0000     0.0000\n",
              "fuel_type_gas           -12591.1378 4432.5117 -2.8406 0.0056 -21397.0959 -3785.1796\n",
              "make_renault             -1201.7953 1958.3560 -0.6137 0.5410  -5092.4114  2688.8208\n",
              "num_of_cylinders_eight    3282.7651 1886.7290  1.7399 0.0853   -465.5513  7031.0816\n",
              "fuel_type_diesel           789.2885 4132.0638  0.1910 0.8489  -7419.7774  8998.3544\n",
              "make_chevrolet            -856.3575 1177.5818 -0.7272 0.4690  -3195.8293  1483.1142\n",
              "make_mazda               -1170.4336  941.6550 -1.2430 0.2171  -3041.1957   700.3284\n",
              "peak_rpm                     2.9568    0.8825  3.3504 0.0012      1.2035     4.7100\n",
              "compression_ratio        -1199.9629  760.7795 -1.5773 0.1182  -2711.3842   311.4583\n",
              "aspiration_std           -7026.0158 3029.9598 -2.3188 0.0227 -13045.5598 -1006.4718\n",
              "make_plymouth            -3563.2335 1259.8992 -2.8282 0.0058  -6066.2431 -1060.2239\n",
              "num_of_doors_?               0.0000    0.0000     nan    nan      0.0000     0.0000\n",
              "drive_wheels_4wd         -4026.2795 1979.1023 -2.0344 0.0449  -7958.1116   -94.4473\n",
              "make_honda               -1161.4322 1643.1589 -0.7068 0.4815  -4425.8542  2102.9897\n",
              "make_audi                -2262.8928 1639.5971 -1.3802 0.1710  -5520.2386   994.4529\n",
              "num_of_doors_four        -5862.4058 2959.7372 -1.9807 0.0507 -11742.4405    17.6288\n",
              "engine_type_ohc            -25.9185 1151.2110 -0.0225 0.9821  -2313.0001  2261.1631\n",
              "curb_weight                  6.8307    3.1193  2.1898 0.0311      0.6336    13.0277\n",
              "wheel_base                 246.9899  115.6790  2.1351 0.0355     17.1734   476.8064\n",
              "engine_type_rotor         -293.5476 1467.7759 -0.2000 0.8419  -3209.5406  2622.4455\n",
              "body_style_wagon         -2448.1795 1540.1465 -1.5896 0.1154  -5507.9494   611.5903\n",
              "fuel_system_spfi             0.0000    0.0000     nan    nan      0.0000     0.0000\n",
              "make_mercedes-benz        -720.2581 1913.9237 -0.3763 0.7076  -4522.6015  3082.0853\n",
              "-----------------------------------------------------------------------------------\n",
              "Omnibus:                 41.211         Durbin-Watson:            2.152            \n",
              "Prob(Omnibus):           0.000          Jarque-Bera (JB):         160.631          \n",
              "Skew:                    0.972          Prob(JB):                 0.000            \n",
              "Kurtosis:                7.815          Condition No.:            15819419053898796\n",
              "===================================================================================\n",
              "* The condition number is large (2e+16). This might indicate             strong\n",
              "multicollinearity or other numerical problems.\n",
              "\"\"\""
            ]
          },
          "metadata": {},
          "execution_count": 53
        }
      ]
    },
    {
      "cell_type": "code",
      "metadata": {
        "id": "N4-zpk6n6S_b"
      },
      "source": [
        "sig_Features=['price','wheel_base','curb_weight','drive_wheels_4wd','make_plymouth','aspiration_std','peak_rpm','fuel_type_gas','engine_size','make_mitsubishi','make_alfa-romero','width','engine_location_front','make_dodge','num_of_cylinders_four','engine_type_l','make_toyota','length','make_bmw']"
      ],
      "execution_count": null,
      "outputs": []
    },
    {
      "cell_type": "code",
      "metadata": {
        "id": "2IeBXfv-kW28"
      },
      "source": [
        "from sklearn.metrics import r2_score,mean_squared_error\n",
        "y_pred=mod_1.predict(X_test)"
      ],
      "execution_count": null,
      "outputs": []
    },
    {
      "cell_type": "code",
      "metadata": {
        "colab": {
          "base_uri": "https://localhost:8080/"
        },
        "id": "lwnXzFB3kW0E",
        "outputId": "fc71bf5c-fd26-4272-90d1-b27f539c9cb0"
      },
      "source": [
        "print(r2_score(y_test,y_pred))"
      ],
      "execution_count": null,
      "outputs": [
        {
          "output_type": "stream",
          "text": [
            "0.7027786969725371\n"
          ],
          "name": "stdout"
        }
      ]
    },
    {
      "cell_type": "code",
      "metadata": {
        "colab": {
          "base_uri": "https://localhost:8080/"
        },
        "id": "2KH79DkqkWxL",
        "outputId": "224026f9-255b-4afe-dc0a-42e1d4945c2e"
      },
      "source": [
        "np.sqrt(mean_squared_error(y_test,y_pred))"
      ],
      "execution_count": null,
      "outputs": [
        {
          "output_type": "execute_result",
          "data": {
            "text/plain": [
              "3309.248892878459"
            ]
          },
          "metadata": {},
          "execution_count": 56
        }
      ]
    },
    {
      "cell_type": "markdown",
      "metadata": {
        "id": "NWeYuKW0vJGB"
      },
      "source": [
        "**Model Diagnostics**"
      ]
    },
    {
      "cell_type": "code",
      "metadata": {
        "id": "Xrh7qefYkWuW"
      },
      "source": [
        "model_1_resid=mod_1.resid"
      ],
      "execution_count": null,
      "outputs": []
    },
    {
      "cell_type": "code",
      "metadata": {
        "id": "22YfIXjekWre"
      },
      "source": [
        "probplot=sm.ProbPlot(model_1_resid)\n"
      ],
      "execution_count": null,
      "outputs": []
    },
    {
      "cell_type": "code",
      "metadata": {
        "colab": {
          "base_uri": "https://localhost:8080/",
          "height": 330
        },
        "id": "njwpAcRBkWon",
        "outputId": "1c2dc880-830c-4bb3-9c3f-7aa294563549"
      },
      "source": [
        "plt.figure(figsize=(8,6))\n",
        "probplot.ppplot(line='45')\n",
        "plt.title(\"Normal P-P plot of regression standardized residuals\")"
      ],
      "execution_count": null,
      "outputs": [
        {
          "output_type": "execute_result",
          "data": {
            "text/plain": [
              "Text(0.5, 1.0, 'Normal P-P plot of regression standardized residuals')"
            ]
          },
          "metadata": {},
          "execution_count": 65
        },
        {
          "output_type": "display_data",
          "data": {
            "text/plain": [
              "<Figure size 576x432 with 0 Axes>"
            ]
          },
          "metadata": {}
        },
        {
          "output_type": "display_data",
          "data": {
            "image/png": "[encoded data removed]",
            "text/plain": [
              "<Figure size 432x288 with 1 Axes>"
            ]
          },
          "metadata": {
            "needs_background": "light"
          }
        }
      ]
    },
    {
      "cell_type": "markdown",
      "metadata": {
        "id": "ckjLDWCsyhM4"
      },
      "source": [
        "**Test of Homoscedasticity**"
      ]
    },
    {
      "cell_type": "code",
      "metadata": {
        "id": "ORnw32jMkWly"
      },
      "source": [
        "def standardized_values(vals):\n",
        "  return (vals-vals.mean())/vals.std()\n"
      ],
      "execution_count": null,
      "outputs": []
    },
    {
      "cell_type": "code",
      "metadata": {
        "colab": {
          "base_uri": "https://localhost:8080/",
          "height": 313
        },
        "id": "3cL0n8ExkWiz",
        "outputId": "09b9ae50-da1d-4e80-996f-1eefbe681fc3"
      },
      "source": [
        "plt.scatter(standardized_values(mod_1.fittedvalues),standardized_values(mod_1.resid))\n",
        "plt.xlabel('standardized predicted values')\n",
        "plt.ylabel('standardized residuals')\n",
        "plt.title('Residual Plot')"
      ],
      "execution_count": null,
      "outputs": [
        {
          "output_type": "execute_result",
          "data": {
            "text/plain": [
              "Text(0.5, 1.0, 'Residual Plot')"
            ]
          },
          "metadata": {},
          "execution_count": 69
        },
        {
          "output_type": "display_data",
          "data": {
            "image/png": "[encoded data removed]",
            "text/plain": [
              "<Figure size 432x288 with 1 Axes>"
            ]
          },
          "metadata": {
            "needs_background": "light"
          }
        }
      ]
    },
    {
      "cell_type": "markdown",
      "metadata": {
        "id": "6Fy-qcKb0hSd"
      },
      "source": [
        "**Outlier analysis**"
      ]
    },
    {
      "cell_type": "code",
      "metadata": {
        "id": "ADxR3Umc53ad"
      },
      "source": [
        "import warnings\n",
        "warnings.filterwarnings('ignore')"
      ],
      "execution_count": null,
      "outputs": []
    },
    {
      "cell_type": "markdown",
      "metadata": {
        "id": "k_MyhBmx529R"
      },
      "source": [
        ""
      ]
    },
    {
      "cell_type": "code",
      "metadata": {
        "colab": {
          "base_uri": "https://localhost:8080/",
          "height": 243
        },
        "id": "PfIg-eve0gzQ",
        "outputId": "f9b6937a-76b5-46fd-afea-9779c7526a62"
      },
      "source": [
        "from scipy.stats import zscore\n",
        "data=df_encoded.copy()\n",
        "data['z_score_price']=zscore(data['price'])\n",
        "data[(data['z_score_price']>3) | (data['z_score_price']<-3)]\n"
      ],
      "execution_count": null,
      "outputs": [
        {
          "output_type": "execute_result",
          "data": {
            "text/html": [
              "<div>\n",
              "<style scoped>\n",
              "    .dataframe tbody tr th:only-of-type {\n",
              "        vertical-align: middle;\n",
              "    }\n",
              "\n",
              "    .dataframe tbody tr th {\n",
              "        vertical-align: top;\n",
              "    }\n",
              "\n",
              "    .dataframe thead th {\n",
              "        text-align: right;\n",
              "    }\n",
              "</style>\n",
              "<table border=\"1\" class=\"dataframe\">\n",
              "  <thead>\n",
              "    <tr style=\"text-align: right;\">\n",
              "      <th></th>\n",
              "      <th>wheel_base</th>\n",
              "      <th>length</th>\n",
              "      <th>width</th>\n",
              "      <th>height</th>\n",
              "      <th>curb_weight</th>\n",
              "      <th>engine_size</th>\n",
              "      <th>compression_ratio</th>\n",
              "      <th>horsepower</th>\n",
              "      <th>peak_rpm</th>\n",
              "      <th>city_mpg</th>\n",
              "      <th>highway_mpg</th>\n",
              "      <th>price</th>\n",
              "      <th>make_alfa-romero</th>\n",
              "      <th>make_audi</th>\n",
              "      <th>make_bmw</th>\n",
              "      <th>make_chevrolet</th>\n",
              "      <th>make_dodge</th>\n",
              "      <th>make_honda</th>\n",
              "      <th>make_isuzu</th>\n",
              "      <th>make_jaguar</th>\n",
              "      <th>make_mazda</th>\n",
              "      <th>make_mercedes-benz</th>\n",
              "      <th>make_mercury</th>\n",
              "      <th>make_mitsubishi</th>\n",
              "      <th>make_nissan</th>\n",
              "      <th>make_peugot</th>\n",
              "      <th>make_plymouth</th>\n",
              "      <th>make_porsche</th>\n",
              "      <th>make_renault</th>\n",
              "      <th>make_saab</th>\n",
              "      <th>make_subaru</th>\n",
              "      <th>make_toyota</th>\n",
              "      <th>make_volkswagen</th>\n",
              "      <th>make_volvo</th>\n",
              "      <th>fuel_type_diesel</th>\n",
              "      <th>fuel_type_gas</th>\n",
              "      <th>aspiration_std</th>\n",
              "      <th>aspiration_turbo</th>\n",
              "      <th>num_of_doors_?</th>\n",
              "      <th>num_of_doors_four</th>\n",
              "      <th>num_of_doors_two</th>\n",
              "      <th>body_style_convertible</th>\n",
              "      <th>body_style_hardtop</th>\n",
              "      <th>body_style_hatchback</th>\n",
              "      <th>body_style_sedan</th>\n",
              "      <th>body_style_wagon</th>\n",
              "      <th>drive_wheels_4wd</th>\n",
              "      <th>drive_wheels_fwd</th>\n",
              "      <th>drive_wheels_rwd</th>\n",
              "      <th>engine_location_front</th>\n",
              "      <th>engine_location_rear</th>\n",
              "      <th>engine_type_dohc</th>\n",
              "      <th>engine_type_dohcv</th>\n",
              "      <th>engine_type_l</th>\n",
              "      <th>engine_type_ohc</th>\n",
              "      <th>engine_type_ohcf</th>\n",
              "      <th>engine_type_ohcv</th>\n",
              "      <th>engine_type_rotor</th>\n",
              "      <th>num_of_cylinders_eight</th>\n",
              "      <th>num_of_cylinders_five</th>\n",
              "      <th>num_of_cylinders_four</th>\n",
              "      <th>num_of_cylinders_six</th>\n",
              "      <th>num_of_cylinders_three</th>\n",
              "      <th>num_of_cylinders_twelve</th>\n",
              "      <th>num_of_cylinders_two</th>\n",
              "      <th>fuel_system_1bbl</th>\n",
              "      <th>fuel_system_2bbl</th>\n",
              "      <th>fuel_system_4bbl</th>\n",
              "      <th>fuel_system_idi</th>\n",
              "      <th>fuel_system_mfi</th>\n",
              "      <th>fuel_system_mpfi</th>\n",
              "      <th>fuel_system_spdi</th>\n",
              "      <th>fuel_system_spfi</th>\n",
              "      <th>z_score_price</th>\n",
              "    </tr>\n",
              "  </thead>\n",
              "  <tbody>\n",
              "    <tr>\n",
              "      <th>16</th>\n",
              "      <td>103.5</td>\n",
              "      <td>193.8</td>\n",
              "      <td>67.9</td>\n",
              "      <td>53.7</td>\n",
              "      <td>3380</td>\n",
              "      <td>209</td>\n",
              "      <td>8.0</td>\n",
              "      <td>182</td>\n",
              "      <td>5400</td>\n",
              "      <td>16</td>\n",
              "      <td>22</td>\n",
              "      <td>41315</td>\n",
              "      <td>0</td>\n",
              "      <td>0</td>\n",
              "      <td>1</td>\n",
              "      <td>0</td>\n",
              "      <td>0</td>\n",
              "      <td>0</td>\n",
              "      <td>0</td>\n",
              "      <td>0</td>\n",
              "      <td>0</td>\n",
              "      <td>0</td>\n",
              "      <td>0</td>\n",
              "      <td>0</td>\n",
              "      <td>0</td>\n",
              "      <td>0</td>\n",
              "      <td>0</td>\n",
              "      <td>0</td>\n",
              "      <td>0</td>\n",
              "      <td>0</td>\n",
              "      <td>0</td>\n",
              "      <td>0</td>\n",
              "      <td>0</td>\n",
              "      <td>0</td>\n",
              "      <td>0</td>\n",
              "      <td>1</td>\n",
              "      <td>1</td>\n",
              "      <td>0</td>\n",
              "      <td>0</td>\n",
              "      <td>0</td>\n",
              "      <td>1</td>\n",
              "      <td>0</td>\n",
              "      <td>0</td>\n",
              "      <td>0</td>\n",
              "      <td>1</td>\n",
              "      <td>0</td>\n",
              "      <td>0</td>\n",
              "      <td>0</td>\n",
              "      <td>1</td>\n",
              "      <td>1</td>\n",
              "      <td>0</td>\n",
              "      <td>0</td>\n",
              "      <td>0</td>\n",
              "      <td>0</td>\n",
              "      <td>1</td>\n",
              "      <td>0</td>\n",
              "      <td>0</td>\n",
              "      <td>0</td>\n",
              "      <td>0</td>\n",
              "      <td>0</td>\n",
              "      <td>0</td>\n",
              "      <td>1</td>\n",
              "      <td>0</td>\n",
              "      <td>0</td>\n",
              "      <td>0</td>\n",
              "      <td>0</td>\n",
              "      <td>0</td>\n",
              "      <td>0</td>\n",
              "      <td>0</td>\n",
              "      <td>0</td>\n",
              "      <td>1</td>\n",
              "      <td>0</td>\n",
              "      <td>0</td>\n",
              "      <td>3.564839</td>\n",
              "    </tr>\n",
              "    <tr>\n",
              "      <th>17</th>\n",
              "      <td>110.0</td>\n",
              "      <td>197.0</td>\n",
              "      <td>70.9</td>\n",
              "      <td>56.3</td>\n",
              "      <td>3505</td>\n",
              "      <td>209</td>\n",
              "      <td>8.0</td>\n",
              "      <td>182</td>\n",
              "      <td>5400</td>\n",
              "      <td>15</td>\n",
              "      <td>20</td>\n",
              "      <td>36880</td>\n",
              "      <td>0</td>\n",
              "      <td>0</td>\n",
              "      <td>1</td>\n",
              "      <td>0</td>\n",
              "      <td>0</td>\n",
              "      <td>0</td>\n",
              "      <td>0</td>\n",
              "      <td>0</td>\n",
              "      <td>0</td>\n",
              "      <td>0</td>\n",
              "      <td>0</td>\n",
              "      <td>0</td>\n",
              "      <td>0</td>\n",
              "      <td>0</td>\n",
              "      <td>0</td>\n",
              "      <td>0</td>\n",
              "      <td>0</td>\n",
              "      <td>0</td>\n",
              "      <td>0</td>\n",
              "      <td>0</td>\n",
              "      <td>0</td>\n",
              "      <td>0</td>\n",
              "      <td>0</td>\n",
              "      <td>1</td>\n",
              "      <td>1</td>\n",
              "      <td>0</td>\n",
              "      <td>0</td>\n",
              "      <td>1</td>\n",
              "      <td>0</td>\n",
              "      <td>0</td>\n",
              "      <td>0</td>\n",
              "      <td>0</td>\n",
              "      <td>1</td>\n",
              "      <td>0</td>\n",
              "      <td>0</td>\n",
              "      <td>0</td>\n",
              "      <td>1</td>\n",
              "      <td>1</td>\n",
              "      <td>0</td>\n",
              "      <td>0</td>\n",
              "      <td>0</td>\n",
              "      <td>0</td>\n",
              "      <td>1</td>\n",
              "      <td>0</td>\n",
              "      <td>0</td>\n",
              "      <td>0</td>\n",
              "      <td>0</td>\n",
              "      <td>0</td>\n",
              "      <td>0</td>\n",
              "      <td>1</td>\n",
              "      <td>0</td>\n",
              "      <td>0</td>\n",
              "      <td>0</td>\n",
              "      <td>0</td>\n",
              "      <td>0</td>\n",
              "      <td>0</td>\n",
              "      <td>0</td>\n",
              "      <td>0</td>\n",
              "      <td>1</td>\n",
              "      <td>0</td>\n",
              "      <td>0</td>\n",
              "      <td>3.002214</td>\n",
              "    </tr>\n",
              "    <tr>\n",
              "      <th>73</th>\n",
              "      <td>120.9</td>\n",
              "      <td>208.1</td>\n",
              "      <td>71.7</td>\n",
              "      <td>56.7</td>\n",
              "      <td>3900</td>\n",
              "      <td>308</td>\n",
              "      <td>8.0</td>\n",
              "      <td>184</td>\n",
              "      <td>4500</td>\n",
              "      <td>14</td>\n",
              "      <td>16</td>\n",
              "      <td>40960</td>\n",
              "      <td>0</td>\n",
              "      <td>0</td>\n",
              "      <td>0</td>\n",
              "      <td>0</td>\n",
              "      <td>0</td>\n",
              "      <td>0</td>\n",
              "      <td>0</td>\n",
              "      <td>0</td>\n",
              "      <td>0</td>\n",
              "      <td>1</td>\n",
              "      <td>0</td>\n",
              "      <td>0</td>\n",
              "      <td>0</td>\n",
              "      <td>0</td>\n",
              "      <td>0</td>\n",
              "      <td>0</td>\n",
              "      <td>0</td>\n",
              "      <td>0</td>\n",
              "      <td>0</td>\n",
              "      <td>0</td>\n",
              "      <td>0</td>\n",
              "      <td>0</td>\n",
              "      <td>0</td>\n",
              "      <td>1</td>\n",
              "      <td>1</td>\n",
              "      <td>0</td>\n",
              "      <td>0</td>\n",
              "      <td>1</td>\n",
              "      <td>0</td>\n",
              "      <td>0</td>\n",
              "      <td>0</td>\n",
              "      <td>0</td>\n",
              "      <td>1</td>\n",
              "      <td>0</td>\n",
              "      <td>0</td>\n",
              "      <td>0</td>\n",
              "      <td>1</td>\n",
              "      <td>1</td>\n",
              "      <td>0</td>\n",
              "      <td>0</td>\n",
              "      <td>0</td>\n",
              "      <td>0</td>\n",
              "      <td>0</td>\n",
              "      <td>0</td>\n",
              "      <td>1</td>\n",
              "      <td>0</td>\n",
              "      <td>1</td>\n",
              "      <td>0</td>\n",
              "      <td>0</td>\n",
              "      <td>0</td>\n",
              "      <td>0</td>\n",
              "      <td>0</td>\n",
              "      <td>0</td>\n",
              "      <td>0</td>\n",
              "      <td>0</td>\n",
              "      <td>0</td>\n",
              "      <td>0</td>\n",
              "      <td>0</td>\n",
              "      <td>1</td>\n",
              "      <td>0</td>\n",
              "      <td>0</td>\n",
              "      <td>3.519804</td>\n",
              "    </tr>\n",
              "    <tr>\n",
              "      <th>74</th>\n",
              "      <td>112.0</td>\n",
              "      <td>199.2</td>\n",
              "      <td>72.0</td>\n",
              "      <td>55.4</td>\n",
              "      <td>3715</td>\n",
              "      <td>304</td>\n",
              "      <td>8.0</td>\n",
              "      <td>184</td>\n",
              "      <td>4500</td>\n",
              "      <td>14</td>\n",
              "      <td>16</td>\n",
              "      <td>45400</td>\n",
              "      <td>0</td>\n",
              "      <td>0</td>\n",
              "      <td>0</td>\n",
              "      <td>0</td>\n",
              "      <td>0</td>\n",
              "      <td>0</td>\n",
              "      <td>0</td>\n",
              "      <td>0</td>\n",
              "      <td>0</td>\n",
              "      <td>1</td>\n",
              "      <td>0</td>\n",
              "      <td>0</td>\n",
              "      <td>0</td>\n",
              "      <td>0</td>\n",
              "      <td>0</td>\n",
              "      <td>0</td>\n",
              "      <td>0</td>\n",
              "      <td>0</td>\n",
              "      <td>0</td>\n",
              "      <td>0</td>\n",
              "      <td>0</td>\n",
              "      <td>0</td>\n",
              "      <td>0</td>\n",
              "      <td>1</td>\n",
              "      <td>1</td>\n",
              "      <td>0</td>\n",
              "      <td>0</td>\n",
              "      <td>0</td>\n",
              "      <td>1</td>\n",
              "      <td>0</td>\n",
              "      <td>1</td>\n",
              "      <td>0</td>\n",
              "      <td>0</td>\n",
              "      <td>0</td>\n",
              "      <td>0</td>\n",
              "      <td>0</td>\n",
              "      <td>1</td>\n",
              "      <td>1</td>\n",
              "      <td>0</td>\n",
              "      <td>0</td>\n",
              "      <td>0</td>\n",
              "      <td>0</td>\n",
              "      <td>0</td>\n",
              "      <td>0</td>\n",
              "      <td>1</td>\n",
              "      <td>0</td>\n",
              "      <td>1</td>\n",
              "      <td>0</td>\n",
              "      <td>0</td>\n",
              "      <td>0</td>\n",
              "      <td>0</td>\n",
              "      <td>0</td>\n",
              "      <td>0</td>\n",
              "      <td>0</td>\n",
              "      <td>0</td>\n",
              "      <td>0</td>\n",
              "      <td>0</td>\n",
              "      <td>0</td>\n",
              "      <td>1</td>\n",
              "      <td>0</td>\n",
              "      <td>0</td>\n",
              "      <td>4.083063</td>\n",
              "    </tr>\n",
              "    <tr>\n",
              "      <th>128</th>\n",
              "      <td>89.5</td>\n",
              "      <td>168.9</td>\n",
              "      <td>65.0</td>\n",
              "      <td>51.6</td>\n",
              "      <td>2800</td>\n",
              "      <td>194</td>\n",
              "      <td>9.5</td>\n",
              "      <td>207</td>\n",
              "      <td>5900</td>\n",
              "      <td>17</td>\n",
              "      <td>25</td>\n",
              "      <td>37028</td>\n",
              "      <td>0</td>\n",
              "      <td>0</td>\n",
              "      <td>0</td>\n",
              "      <td>0</td>\n",
              "      <td>0</td>\n",
              "      <td>0</td>\n",
              "      <td>0</td>\n",
              "      <td>0</td>\n",
              "      <td>0</td>\n",
              "      <td>0</td>\n",
              "      <td>0</td>\n",
              "      <td>0</td>\n",
              "      <td>0</td>\n",
              "      <td>0</td>\n",
              "      <td>0</td>\n",
              "      <td>1</td>\n",
              "      <td>0</td>\n",
              "      <td>0</td>\n",
              "      <td>0</td>\n",
              "      <td>0</td>\n",
              "      <td>0</td>\n",
              "      <td>0</td>\n",
              "      <td>0</td>\n",
              "      <td>1</td>\n",
              "      <td>1</td>\n",
              "      <td>0</td>\n",
              "      <td>0</td>\n",
              "      <td>0</td>\n",
              "      <td>1</td>\n",
              "      <td>1</td>\n",
              "      <td>0</td>\n",
              "      <td>0</td>\n",
              "      <td>0</td>\n",
              "      <td>0</td>\n",
              "      <td>0</td>\n",
              "      <td>0</td>\n",
              "      <td>1</td>\n",
              "      <td>0</td>\n",
              "      <td>1</td>\n",
              "      <td>0</td>\n",
              "      <td>0</td>\n",
              "      <td>0</td>\n",
              "      <td>0</td>\n",
              "      <td>1</td>\n",
              "      <td>0</td>\n",
              "      <td>0</td>\n",
              "      <td>0</td>\n",
              "      <td>0</td>\n",
              "      <td>0</td>\n",
              "      <td>1</td>\n",
              "      <td>0</td>\n",
              "      <td>0</td>\n",
              "      <td>0</td>\n",
              "      <td>0</td>\n",
              "      <td>0</td>\n",
              "      <td>0</td>\n",
              "      <td>0</td>\n",
              "      <td>0</td>\n",
              "      <td>1</td>\n",
              "      <td>0</td>\n",
              "      <td>0</td>\n",
              "      <td>3.020989</td>\n",
              "    </tr>\n",
              "  </tbody>\n",
              "</table>\n",
              "</div>"
            ],
            "text/plain": [
              "     wheel_base  length  ...  fuel_system_spfi  z_score_price\n",
              "16        103.5   193.8  ...                 0       3.564839\n",
              "17        110.0   197.0  ...                 0       3.002214\n",
              "73        120.9   208.1  ...                 0       3.519804\n",
              "74        112.0   199.2  ...                 0       4.083063\n",
              "128        89.5   168.9  ...                 0       3.020989\n",
              "\n",
              "[5 rows x 74 columns]"
            ]
          },
          "metadata": {},
          "execution_count": 73
        }
      ]
    },
    {
      "cell_type": "code",
      "metadata": {
        "colab": {
          "base_uri": "https://localhost:8080/",
          "height": 243
        },
        "id": "RWLL85dF0gv3",
        "outputId": "9d8c9405-8f8a-4ae7-c462-fd42f310b06c"
      },
      "source": [
        "#data.drop(index=[16,17,73,74,128],inplace=True)\n",
        "data.head()"
      ],
      "execution_count": null,
      "outputs": [
        {
          "output_type": "execute_result",
          "data": {
            "text/html": [
              "<div>\n",
              "<style scoped>\n",
              "    .dataframe tbody tr th:only-of-type {\n",
              "        vertical-align: middle;\n",
              "    }\n",
              "\n",
              "    .dataframe tbody tr th {\n",
              "        vertical-align: top;\n",
              "    }\n",
              "\n",
              "    .dataframe thead th {\n",
              "        text-align: right;\n",
              "    }\n",
              "</style>\n",
              "<table border=\"1\" class=\"dataframe\">\n",
              "  <thead>\n",
              "    <tr style=\"text-align: right;\">\n",
              "      <th></th>\n",
              "      <th>wheel_base</th>\n",
              "      <th>length</th>\n",
              "      <th>width</th>\n",
              "      <th>height</th>\n",
              "      <th>curb_weight</th>\n",
              "      <th>engine_size</th>\n",
              "      <th>compression_ratio</th>\n",
              "      <th>horsepower</th>\n",
              "      <th>peak_rpm</th>\n",
              "      <th>city_mpg</th>\n",
              "      <th>highway_mpg</th>\n",
              "      <th>price</th>\n",
              "      <th>make_alfa-romero</th>\n",
              "      <th>make_audi</th>\n",
              "      <th>make_bmw</th>\n",
              "      <th>make_chevrolet</th>\n",
              "      <th>make_dodge</th>\n",
              "      <th>make_honda</th>\n",
              "      <th>make_isuzu</th>\n",
              "      <th>make_jaguar</th>\n",
              "      <th>make_mazda</th>\n",
              "      <th>make_mercedes-benz</th>\n",
              "      <th>make_mercury</th>\n",
              "      <th>make_mitsubishi</th>\n",
              "      <th>make_nissan</th>\n",
              "      <th>make_peugot</th>\n",
              "      <th>make_plymouth</th>\n",
              "      <th>make_porsche</th>\n",
              "      <th>make_renault</th>\n",
              "      <th>make_saab</th>\n",
              "      <th>make_subaru</th>\n",
              "      <th>make_toyota</th>\n",
              "      <th>make_volkswagen</th>\n",
              "      <th>make_volvo</th>\n",
              "      <th>fuel_type_diesel</th>\n",
              "      <th>fuel_type_gas</th>\n",
              "      <th>aspiration_std</th>\n",
              "      <th>aspiration_turbo</th>\n",
              "      <th>num_of_doors_?</th>\n",
              "      <th>num_of_doors_four</th>\n",
              "      <th>num_of_doors_two</th>\n",
              "      <th>body_style_convertible</th>\n",
              "      <th>body_style_hardtop</th>\n",
              "      <th>body_style_hatchback</th>\n",
              "      <th>body_style_sedan</th>\n",
              "      <th>body_style_wagon</th>\n",
              "      <th>drive_wheels_4wd</th>\n",
              "      <th>drive_wheels_fwd</th>\n",
              "      <th>drive_wheels_rwd</th>\n",
              "      <th>engine_location_front</th>\n",
              "      <th>engine_location_rear</th>\n",
              "      <th>engine_type_dohc</th>\n",
              "      <th>engine_type_dohcv</th>\n",
              "      <th>engine_type_l</th>\n",
              "      <th>engine_type_ohc</th>\n",
              "      <th>engine_type_ohcf</th>\n",
              "      <th>engine_type_ohcv</th>\n",
              "      <th>engine_type_rotor</th>\n",
              "      <th>num_of_cylinders_eight</th>\n",
              "      <th>num_of_cylinders_five</th>\n",
              "      <th>num_of_cylinders_four</th>\n",
              "      <th>num_of_cylinders_six</th>\n",
              "      <th>num_of_cylinders_three</th>\n",
              "      <th>num_of_cylinders_twelve</th>\n",
              "      <th>num_of_cylinders_two</th>\n",
              "      <th>fuel_system_1bbl</th>\n",
              "      <th>fuel_system_2bbl</th>\n",
              "      <th>fuel_system_4bbl</th>\n",
              "      <th>fuel_system_idi</th>\n",
              "      <th>fuel_system_mfi</th>\n",
              "      <th>fuel_system_mpfi</th>\n",
              "      <th>fuel_system_spdi</th>\n",
              "      <th>fuel_system_spfi</th>\n",
              "      <th>z_score_price</th>\n",
              "    </tr>\n",
              "  </thead>\n",
              "  <tbody>\n",
              "    <tr>\n",
              "      <th>0</th>\n",
              "      <td>88.6</td>\n",
              "      <td>168.8</td>\n",
              "      <td>64.1</td>\n",
              "      <td>48.8</td>\n",
              "      <td>2548</td>\n",
              "      <td>130</td>\n",
              "      <td>9.0</td>\n",
              "      <td>111</td>\n",
              "      <td>5000</td>\n",
              "      <td>21</td>\n",
              "      <td>27</td>\n",
              "      <td>13495</td>\n",
              "      <td>1</td>\n",
              "      <td>0</td>\n",
              "      <td>0</td>\n",
              "      <td>0</td>\n",
              "      <td>0</td>\n",
              "      <td>0</td>\n",
              "      <td>0</td>\n",
              "      <td>0</td>\n",
              "      <td>0</td>\n",
              "      <td>0</td>\n",
              "      <td>0</td>\n",
              "      <td>0</td>\n",
              "      <td>0</td>\n",
              "      <td>0</td>\n",
              "      <td>0</td>\n",
              "      <td>0</td>\n",
              "      <td>0</td>\n",
              "      <td>0</td>\n",
              "      <td>0</td>\n",
              "      <td>0</td>\n",
              "      <td>0</td>\n",
              "      <td>0</td>\n",
              "      <td>0</td>\n",
              "      <td>1</td>\n",
              "      <td>1</td>\n",
              "      <td>0</td>\n",
              "      <td>0</td>\n",
              "      <td>0</td>\n",
              "      <td>1</td>\n",
              "      <td>1</td>\n",
              "      <td>0</td>\n",
              "      <td>0</td>\n",
              "      <td>0</td>\n",
              "      <td>0</td>\n",
              "      <td>0</td>\n",
              "      <td>0</td>\n",
              "      <td>1</td>\n",
              "      <td>1</td>\n",
              "      <td>0</td>\n",
              "      <td>1</td>\n",
              "      <td>0</td>\n",
              "      <td>0</td>\n",
              "      <td>0</td>\n",
              "      <td>0</td>\n",
              "      <td>0</td>\n",
              "      <td>0</td>\n",
              "      <td>0</td>\n",
              "      <td>0</td>\n",
              "      <td>1</td>\n",
              "      <td>0</td>\n",
              "      <td>0</td>\n",
              "      <td>0</td>\n",
              "      <td>0</td>\n",
              "      <td>0</td>\n",
              "      <td>0</td>\n",
              "      <td>0</td>\n",
              "      <td>0</td>\n",
              "      <td>0</td>\n",
              "      <td>1</td>\n",
              "      <td>0</td>\n",
              "      <td>0</td>\n",
              "      <td>0.035588</td>\n",
              "    </tr>\n",
              "    <tr>\n",
              "      <th>1</th>\n",
              "      <td>88.6</td>\n",
              "      <td>168.8</td>\n",
              "      <td>64.1</td>\n",
              "      <td>48.8</td>\n",
              "      <td>2548</td>\n",
              "      <td>130</td>\n",
              "      <td>9.0</td>\n",
              "      <td>111</td>\n",
              "      <td>5000</td>\n",
              "      <td>21</td>\n",
              "      <td>27</td>\n",
              "      <td>16500</td>\n",
              "      <td>1</td>\n",
              "      <td>0</td>\n",
              "      <td>0</td>\n",
              "      <td>0</td>\n",
              "      <td>0</td>\n",
              "      <td>0</td>\n",
              "      <td>0</td>\n",
              "      <td>0</td>\n",
              "      <td>0</td>\n",
              "      <td>0</td>\n",
              "      <td>0</td>\n",
              "      <td>0</td>\n",
              "      <td>0</td>\n",
              "      <td>0</td>\n",
              "      <td>0</td>\n",
              "      <td>0</td>\n",
              "      <td>0</td>\n",
              "      <td>0</td>\n",
              "      <td>0</td>\n",
              "      <td>0</td>\n",
              "      <td>0</td>\n",
              "      <td>0</td>\n",
              "      <td>0</td>\n",
              "      <td>1</td>\n",
              "      <td>1</td>\n",
              "      <td>0</td>\n",
              "      <td>0</td>\n",
              "      <td>0</td>\n",
              "      <td>1</td>\n",
              "      <td>1</td>\n",
              "      <td>0</td>\n",
              "      <td>0</td>\n",
              "      <td>0</td>\n",
              "      <td>0</td>\n",
              "      <td>0</td>\n",
              "      <td>0</td>\n",
              "      <td>1</td>\n",
              "      <td>1</td>\n",
              "      <td>0</td>\n",
              "      <td>1</td>\n",
              "      <td>0</td>\n",
              "      <td>0</td>\n",
              "      <td>0</td>\n",
              "      <td>0</td>\n",
              "      <td>0</td>\n",
              "      <td>0</td>\n",
              "      <td>0</td>\n",
              "      <td>0</td>\n",
              "      <td>1</td>\n",
              "      <td>0</td>\n",
              "      <td>0</td>\n",
              "      <td>0</td>\n",
              "      <td>0</td>\n",
              "      <td>0</td>\n",
              "      <td>0</td>\n",
              "      <td>0</td>\n",
              "      <td>0</td>\n",
              "      <td>0</td>\n",
              "      <td>1</td>\n",
              "      <td>0</td>\n",
              "      <td>0</td>\n",
              "      <td>0.416803</td>\n",
              "    </tr>\n",
              "    <tr>\n",
              "      <th>2</th>\n",
              "      <td>94.5</td>\n",
              "      <td>171.2</td>\n",
              "      <td>65.5</td>\n",
              "      <td>52.4</td>\n",
              "      <td>2823</td>\n",
              "      <td>152</td>\n",
              "      <td>9.0</td>\n",
              "      <td>154</td>\n",
              "      <td>5000</td>\n",
              "      <td>19</td>\n",
              "      <td>26</td>\n",
              "      <td>16500</td>\n",
              "      <td>1</td>\n",
              "      <td>0</td>\n",
              "      <td>0</td>\n",
              "      <td>0</td>\n",
              "      <td>0</td>\n",
              "      <td>0</td>\n",
              "      <td>0</td>\n",
              "      <td>0</td>\n",
              "      <td>0</td>\n",
              "      <td>0</td>\n",
              "      <td>0</td>\n",
              "      <td>0</td>\n",
              "      <td>0</td>\n",
              "      <td>0</td>\n",
              "      <td>0</td>\n",
              "      <td>0</td>\n",
              "      <td>0</td>\n",
              "      <td>0</td>\n",
              "      <td>0</td>\n",
              "      <td>0</td>\n",
              "      <td>0</td>\n",
              "      <td>0</td>\n",
              "      <td>0</td>\n",
              "      <td>1</td>\n",
              "      <td>1</td>\n",
              "      <td>0</td>\n",
              "      <td>0</td>\n",
              "      <td>0</td>\n",
              "      <td>1</td>\n",
              "      <td>0</td>\n",
              "      <td>0</td>\n",
              "      <td>1</td>\n",
              "      <td>0</td>\n",
              "      <td>0</td>\n",
              "      <td>0</td>\n",
              "      <td>0</td>\n",
              "      <td>1</td>\n",
              "      <td>1</td>\n",
              "      <td>0</td>\n",
              "      <td>0</td>\n",
              "      <td>0</td>\n",
              "      <td>0</td>\n",
              "      <td>0</td>\n",
              "      <td>0</td>\n",
              "      <td>1</td>\n",
              "      <td>0</td>\n",
              "      <td>0</td>\n",
              "      <td>0</td>\n",
              "      <td>0</td>\n",
              "      <td>1</td>\n",
              "      <td>0</td>\n",
              "      <td>0</td>\n",
              "      <td>0</td>\n",
              "      <td>0</td>\n",
              "      <td>0</td>\n",
              "      <td>0</td>\n",
              "      <td>0</td>\n",
              "      <td>0</td>\n",
              "      <td>1</td>\n",
              "      <td>0</td>\n",
              "      <td>0</td>\n",
              "      <td>0.416803</td>\n",
              "    </tr>\n",
              "    <tr>\n",
              "      <th>3</th>\n",
              "      <td>99.8</td>\n",
              "      <td>176.6</td>\n",
              "      <td>66.2</td>\n",
              "      <td>54.3</td>\n",
              "      <td>2337</td>\n",
              "      <td>109</td>\n",
              "      <td>10.0</td>\n",
              "      <td>102</td>\n",
              "      <td>5500</td>\n",
              "      <td>24</td>\n",
              "      <td>30</td>\n",
              "      <td>13950</td>\n",
              "      <td>0</td>\n",
              "      <td>1</td>\n",
              "      <td>0</td>\n",
              "      <td>0</td>\n",
              "      <td>0</td>\n",
              "      <td>0</td>\n",
              "      <td>0</td>\n",
              "      <td>0</td>\n",
              "      <td>0</td>\n",
              "      <td>0</td>\n",
              "      <td>0</td>\n",
              "      <td>0</td>\n",
              "      <td>0</td>\n",
              "      <td>0</td>\n",
              "      <td>0</td>\n",
              "      <td>0</td>\n",
              "      <td>0</td>\n",
              "      <td>0</td>\n",
              "      <td>0</td>\n",
              "      <td>0</td>\n",
              "      <td>0</td>\n",
              "      <td>0</td>\n",
              "      <td>0</td>\n",
              "      <td>1</td>\n",
              "      <td>1</td>\n",
              "      <td>0</td>\n",
              "      <td>0</td>\n",
              "      <td>1</td>\n",
              "      <td>0</td>\n",
              "      <td>0</td>\n",
              "      <td>0</td>\n",
              "      <td>0</td>\n",
              "      <td>1</td>\n",
              "      <td>0</td>\n",
              "      <td>0</td>\n",
              "      <td>1</td>\n",
              "      <td>0</td>\n",
              "      <td>1</td>\n",
              "      <td>0</td>\n",
              "      <td>0</td>\n",
              "      <td>0</td>\n",
              "      <td>0</td>\n",
              "      <td>1</td>\n",
              "      <td>0</td>\n",
              "      <td>0</td>\n",
              "      <td>0</td>\n",
              "      <td>0</td>\n",
              "      <td>0</td>\n",
              "      <td>1</td>\n",
              "      <td>0</td>\n",
              "      <td>0</td>\n",
              "      <td>0</td>\n",
              "      <td>0</td>\n",
              "      <td>0</td>\n",
              "      <td>0</td>\n",
              "      <td>0</td>\n",
              "      <td>0</td>\n",
              "      <td>0</td>\n",
              "      <td>1</td>\n",
              "      <td>0</td>\n",
              "      <td>0</td>\n",
              "      <td>0.093310</td>\n",
              "    </tr>\n",
              "    <tr>\n",
              "      <th>4</th>\n",
              "      <td>99.4</td>\n",
              "      <td>176.6</td>\n",
              "      <td>66.4</td>\n",
              "      <td>54.3</td>\n",
              "      <td>2824</td>\n",
              "      <td>136</td>\n",
              "      <td>8.0</td>\n",
              "      <td>115</td>\n",
              "      <td>5500</td>\n",
              "      <td>18</td>\n",
              "      <td>22</td>\n",
              "      <td>17450</td>\n",
              "      <td>0</td>\n",
              "      <td>1</td>\n",
              "      <td>0</td>\n",
              "      <td>0</td>\n",
              "      <td>0</td>\n",
              "      <td>0</td>\n",
              "      <td>0</td>\n",
              "      <td>0</td>\n",
              "      <td>0</td>\n",
              "      <td>0</td>\n",
              "      <td>0</td>\n",
              "      <td>0</td>\n",
              "      <td>0</td>\n",
              "      <td>0</td>\n",
              "      <td>0</td>\n",
              "      <td>0</td>\n",
              "      <td>0</td>\n",
              "      <td>0</td>\n",
              "      <td>0</td>\n",
              "      <td>0</td>\n",
              "      <td>0</td>\n",
              "      <td>0</td>\n",
              "      <td>0</td>\n",
              "      <td>1</td>\n",
              "      <td>1</td>\n",
              "      <td>0</td>\n",
              "      <td>0</td>\n",
              "      <td>1</td>\n",
              "      <td>0</td>\n",
              "      <td>0</td>\n",
              "      <td>0</td>\n",
              "      <td>0</td>\n",
              "      <td>1</td>\n",
              "      <td>0</td>\n",
              "      <td>1</td>\n",
              "      <td>0</td>\n",
              "      <td>0</td>\n",
              "      <td>1</td>\n",
              "      <td>0</td>\n",
              "      <td>0</td>\n",
              "      <td>0</td>\n",
              "      <td>0</td>\n",
              "      <td>1</td>\n",
              "      <td>0</td>\n",
              "      <td>0</td>\n",
              "      <td>0</td>\n",
              "      <td>0</td>\n",
              "      <td>1</td>\n",
              "      <td>0</td>\n",
              "      <td>0</td>\n",
              "      <td>0</td>\n",
              "      <td>0</td>\n",
              "      <td>0</td>\n",
              "      <td>0</td>\n",
              "      <td>0</td>\n",
              "      <td>0</td>\n",
              "      <td>0</td>\n",
              "      <td>0</td>\n",
              "      <td>1</td>\n",
              "      <td>0</td>\n",
              "      <td>0</td>\n",
              "      <td>0.537320</td>\n",
              "    </tr>\n",
              "  </tbody>\n",
              "</table>\n",
              "</div>"
            ],
            "text/plain": [
              "   wheel_base  length  width  ...  fuel_system_spdi  fuel_system_spfi  z_score_price\n",
              "0        88.6   168.8   64.1  ...                 0                 0       0.035588\n",
              "1        88.6   168.8   64.1  ...                 0                 0       0.416803\n",
              "2        94.5   171.2   65.5  ...                 0                 0       0.416803\n",
              "3        99.8   176.6   66.2  ...                 0                 0       0.093310\n",
              "4        99.4   176.6   66.4  ...                 0                 0       0.537320\n",
              "\n",
              "[5 rows x 74 columns]"
            ]
          },
          "metadata": {},
          "execution_count": 79
        }
      ]
    },
    {
      "cell_type": "markdown",
      "metadata": {
        "id": "TjE89DwF2W75"
      },
      "source": [
        "**Leverage Distance**"
      ]
    },
    {
      "cell_type": "code",
      "metadata": {
        "colab": {
          "base_uri": "https://localhost:8080/",
          "height": 411
        },
        "id": "XTfmwNnS0gtA",
        "outputId": "b2ad9604-cfa8-45c0-902a-6c48937e5469"
      },
      "source": [
        "from statsmodels.graphics.regressionplots import influence_plot\n",
        "fig,ax=plt.subplots(figsize=(8,6))\n",
        "influence_plot(mod_1,ax=ax)\n",
        "plt.show() #we could see that there is no influence now of predicted value on fit of the model"
      ],
      "execution_count": null,
      "outputs": [
        {
          "output_type": "display_data",
          "data": {
            "image/png": "[encoded data removed]",
            "text/plain": [
              "<Figure size 576x432 with 1 Axes>"
            ]
          },
          "metadata": {
            "needs_background": "light"
          }
        }
      ]
    },
    {
      "cell_type": "code",
      "metadata": {
        "colab": {
          "base_uri": "https://localhost:8080/",
          "height": 297
        },
        "id": "d_mOsBdK0gqI",
        "outputId": "ecfb79b6-b0e5-43c0-d122-735c344e9182"
      },
      "source": [
        "df_encoded_influence= mod_1.get_influence()\n",
        "(c,p)=df_encoded_influence.cooks_distance\n",
        "plt.stem(np.arange(len(X_train)),np.round(c,3),markerfmt=\",\")\n",
        "plt.xlabel('Row Index')\n",
        "plt.ylabel('Cooks Distance')\n"
      ],
      "execution_count": null,
      "outputs": [
        {
          "output_type": "execute_result",
          "data": {
            "text/plain": [
              "Text(0, 0.5, 'Cooks Distance')"
            ]
          },
          "metadata": {},
          "execution_count": 89
        },
        {
          "output_type": "display_data",
          "data": {
            "image/png": "[encoded data removed]",
            "text/plain": [
              "<Figure size 432x288 with 1 Axes>"
            ]
          },
          "metadata": {
            "needs_background": "light"
          }
        }
      ]
    },
    {
      "cell_type": "code",
      "metadata": {
        "id": "kN0M-VKr0gkW"
      },
      "source": [
        ""
      ],
      "execution_count": null,
      "outputs": []
    },
    {
      "cell_type": "markdown",
      "metadata": {
        "id": "ya3tpemd0f7c"
      },
      "source": [
        "**Building model_2 by using significant features**\n"
      ]
    },
    {
      "cell_type": "code",
      "metadata": {
        "id": "V-kx_3FqkWAm"
      },
      "source": [
        "df_sig_mod2=df_encoded[sig_Features]"
      ],
      "execution_count": null,
      "outputs": []
    },
    {
      "cell_type": "code",
      "metadata": {
        "colab": {
          "base_uri": "https://localhost:8080/"
        },
        "id": "OYgdmFNa8So9",
        "outputId": "eb72f625-025e-4224-e54f-527fc02a2c9d"
      },
      "source": [
        "'price' in df_sig_mod2.columns"
      ],
      "execution_count": null,
      "outputs": [
        {
          "output_type": "execute_result",
          "data": {
            "text/plain": [
              "True"
            ]
          },
          "metadata": {},
          "execution_count": 100
        }
      ]
    },
    {
      "cell_type": "code",
      "metadata": {
        "id": "Ip_YzeTu8urj"
      },
      "source": [
        "df_sig_mod2_ind=df_sig_mod2.drop('price',axis=1)"
      ],
      "execution_count": null,
      "outputs": []
    },
    {
      "cell_type": "code",
      "metadata": {
        "colab": {
          "base_uri": "https://localhost:8080/"
        },
        "id": "WsFNFCVK9JFl",
        "outputId": "90268c22-ae59-4bb5-f556-bcb7aad49d98"
      },
      "source": [
        "'price' in df_sig_mod2_ind.columns"
      ],
      "execution_count": null,
      "outputs": [
        {
          "output_type": "execute_result",
          "data": {
            "text/plain": [
              "False"
            ]
          },
          "metadata": {},
          "execution_count": 103
        }
      ]
    },
    {
      "cell_type": "code",
      "metadata": {
        "id": "mzZTQ8xt9fGW"
      },
      "source": [
        "X_1=sm.add_constant(df_sig_mod2_ind)\n",
        "Y_1=df_sig_mod2['price']"
      ],
      "execution_count": null,
      "outputs": []
    },
    {
      "cell_type": "code",
      "metadata": {
        "id": "jauXTcWo9p4u"
      },
      "source": [
        "X1_train,X1_test,y1_train,y1_test=train_test_split(X_1,Y_1,train_size=0.7) #creating train and test datasets"
      ],
      "execution_count": null,
      "outputs": []
    },
    {
      "cell_type": "code",
      "metadata": {
        "id": "GBo07-S-9uR4"
      },
      "source": [
        "sig_mod_2=sm.OLS(y1_train, X1_train).fit() "
      ],
      "execution_count": null,
      "outputs": []
    },
    {
      "cell_type": "code",
      "metadata": {
        "colab": {
          "base_uri": "https://localhost:8080/",
          "height": 685
        },
        "id": "m2azDP3C909a",
        "outputId": "ddec053c-845d-4119-ba33-98f926dc56f9"
      },
      "source": [
        "sig_mod_2.summary2() #there is decrease in accuracy"
      ],
      "execution_count": null,
      "outputs": [
        {
          "output_type": "execute_result",
          "data": {
            "text/html": [
              "<table class=\"simpletable\">\n",
              "<tr>\n",
              "        <td>Model:</td>               <td>OLS</td>         <td>Adj. R-squared:</td>      <td>0.904</td>  \n",
              "</tr>\n",
              "<tr>\n",
              "  <td>Dependent Variable:</td>       <td>price</td>             <td>AIC:</td>          <td>2669.4836</td>\n",
              "</tr>\n",
              "<tr>\n",
              "         <td>Date:</td>        <td>2021-08-29 12:54</td>        <td>BIC:</td>          <td>2725.7776</td>\n",
              "</tr>\n",
              "<tr>\n",
              "   <td>No. Observations:</td>         <td>143</td>         <td>Log-Likelihood:</td>     <td>-1315.7</td> \n",
              "</tr>\n",
              "<tr>\n",
              "       <td>Df Model:</td>             <td>18</td>           <td>F-statistic:</td>        <td>75.08</td>  \n",
              "</tr>\n",
              "<tr>\n",
              "     <td>Df Residuals:</td>           <td>124</td>       <td>Prob (F-statistic):</td>  <td>9.90e-58</td> \n",
              "</tr>\n",
              "<tr>\n",
              "      <td>R-squared:</td>            <td>0.916</td>            <td>Scale:</td>        <td>6.6270e+06</td>\n",
              "</tr>\n",
              "</table>\n",
              "<table class=\"simpletable\">\n",
              "<tr>\n",
              "            <td></td>               <th>Coef.</th>     <th>Std.Err.</th>     <th>t</th>     <th>P>|t|</th>   <th>[0.025</th>      <th>0.975]</th>   \n",
              "</tr>\n",
              "<tr>\n",
              "  <th>const</th>                 <td>-43604.6398</td> <td>12943.0853</td> <td>-3.3690</td> <td>0.0010</td> <td>-69222.6312</td> <td>-17986.6485</td>\n",
              "</tr>\n",
              "<tr>\n",
              "  <th>wheel_base</th>             <td>318.5007</td>     <td>88.8889</td>  <td>3.5831</td>  <td>0.0005</td>  <td>142.5647</td>    <td>494.4367</td>  \n",
              "</tr>\n",
              "<tr>\n",
              "  <th>curb_weight</th>             <td>2.2747</td>      <td>1.5943</td>   <td>1.4268</td>  <td>0.1562</td>   <td>-0.8809</td>     <td>5.4302</td>   \n",
              "</tr>\n",
              "<tr>\n",
              "  <th>drive_wheels_4wd</th>       <td>470.9122</td>    <td>1325.0988</td> <td>0.3554</td>  <td>0.7229</td> <td>-2151.8296</td>   <td>3093.6539</td> \n",
              "</tr>\n",
              "<tr>\n",
              "  <th>make_plymouth</th>         <td>-2046.9850</td>   <td>1382.4636</td> <td>-1.4807</td> <td>0.1412</td> <td>-4783.2677</td>   <td>689.2976</td>  \n",
              "</tr>\n",
              "<tr>\n",
              "  <th>aspiration_std</th>        <td>-2182.2210</td>   <td>766.0489</td>  <td>-2.8487</td> <td>0.0051</td> <td>-3698.4464</td>   <td>-665.9956</td> \n",
              "</tr>\n",
              "<tr>\n",
              "  <th>peak_rpm</th>                <td>1.5815</td>      <td>0.5770</td>   <td>2.7408</td>  <td>0.0070</td>   <td>0.4394</td>      <td>2.7236</td>   \n",
              "</tr>\n",
              "<tr>\n",
              "  <th>fuel_type_gas</th>          <td>-41.0602</td>    <td>1061.4408</td> <td>-0.0387</td> <td>0.9692</td> <td>-2141.9488</td>   <td>2059.8284</td> \n",
              "</tr>\n",
              "<tr>\n",
              "  <th>engine_size</th>             <td>87.7621</td>     <td>13.2283</td>  <td>6.6344</td>  <td>0.0000</td>   <td>61.5795</td>    <td>113.9447</td>  \n",
              "</tr>\n",
              "<tr>\n",
              "  <th>make_mitsubishi</th>       <td>-2121.3120</td>   <td>1005.6563</td> <td>-2.1094</td> <td>0.0369</td> <td>-4111.7874</td>   <td>-130.8366</td> \n",
              "</tr>\n",
              "<tr>\n",
              "  <th>make_alfa-romero</th>       <td>6286.6774</td>   <td>2027.2382</td> <td>3.1011</td>  <td>0.0024</td>  <td>2274.2052</td>  <td>10299.1496</td> \n",
              "</tr>\n",
              "<tr>\n",
              "  <th>width</th>                  <td>504.1686</td>    <td>239.1089</td>  <td>2.1085</td>  <td>0.0370</td>   <td>30.9050</td>    <td>977.4321</td>  \n",
              "</tr>\n",
              "<tr>\n",
              "  <th>engine_location_front</th> <td>-15606.8349</td>  <td>2819.6305</td> <td>-5.5351</td> <td>0.0000</td> <td>-21187.6736</td> <td>-10025.9963</td>\n",
              "</tr>\n",
              "<tr>\n",
              "  <th>make_dodge</th>            <td>-1658.8432</td>   <td>1081.0051</td> <td>-1.5345</td> <td>0.1274</td> <td>-3798.4552</td>   <td>480.7687</td>  \n",
              "</tr>\n",
              "<tr>\n",
              "  <th>num_of_cylinders_four</th> <td>-1464.9970</td>   <td>809.0574</td>  <td>-1.8107</td> <td>0.0726</td> <td>-3066.3484</td>   <td>136.3543</td>  \n",
              "</tr>\n",
              "<tr>\n",
              "  <th>engine_type_l</th>         <td>-3324.1022</td>   <td>1164.7937</td> <td>-2.8538</td> <td>0.0051</td> <td>-5629.5553</td>  <td>-1018.6492</td> \n",
              "</tr>\n",
              "<tr>\n",
              "  <th>make_toyota</th>            <td>-806.1505</td>   <td>668.0973</td>  <td>-1.2066</td> <td>0.2299</td> <td>-2128.5023</td>   <td>516.2013</td>  \n",
              "</tr>\n",
              "<tr>\n",
              "  <th>length</th>                 <td>-83.1649</td>     <td>51.7962</td>  <td>-1.6056</td> <td>0.1109</td>  <td>-185.6841</td>    <td>19.3543</td>  \n",
              "</tr>\n",
              "<tr>\n",
              "  <th>make_bmw</th>               <td>8346.7492</td>   <td>1207.3673</td> <td>6.9132</td>  <td>0.0000</td>  <td>5957.0310</td>  <td>10736.4674</td> \n",
              "</tr>\n",
              "</table>\n",
              "<table class=\"simpletable\">\n",
              "<tr>\n",
              "     <td>Omnibus:</td>    <td>22.106</td>  <td>Durbin-Watson:</td>    <td>1.951</td>\n",
              "</tr>\n",
              "<tr>\n",
              "  <td>Prob(Omnibus):</td>  <td>0.000</td> <td>Jarque-Bera (JB):</td> <td>48.292</td>\n",
              "</tr>\n",
              "<tr>\n",
              "       <td>Skew:</td>      <td>0.639</td>     <td>Prob(JB):</td>      <td>0.000</td>\n",
              "</tr>\n",
              "<tr>\n",
              "     <td>Kurtosis:</td>    <td>5.544</td>  <td>Condition No.:</td>   <td>345646</td>\n",
              "</tr>\n",
              "</table>"
            ],
            "text/plain": [
              "<class 'statsmodels.iolib.summary2.Summary'>\n",
              "\"\"\"\n",
              "                          Results: Ordinary least squares\n",
              "===================================================================================\n",
              "Model:                    OLS                   Adj. R-squared:          0.904     \n",
              "Dependent Variable:       price                 AIC:                     2669.4836 \n",
              "Date:                     2021-08-29 12:54      BIC:                     2725.7776 \n",
              "No. Observations:         143                   Log-Likelihood:          -1315.7   \n",
              "Df Model:                 18                    F-statistic:             75.08     \n",
              "Df Residuals:             124                   Prob (F-statistic):      9.90e-58  \n",
              "R-squared:                0.916                 Scale:                   6.6270e+06\n",
              "-----------------------------------------------------------------------------------\n",
              "                         Coef.     Std.Err.     t    P>|t|     [0.025      0.975]  \n",
              "-----------------------------------------------------------------------------------\n",
              "const                 -43604.6398 12943.0853 -3.3690 0.0010 -69222.6312 -17986.6485\n",
              "wheel_base               318.5007    88.8889  3.5831 0.0005    142.5647    494.4367\n",
              "curb_weight                2.2747     1.5943  1.4268 0.1562     -0.8809      5.4302\n",
              "drive_wheels_4wd         470.9122  1325.0988  0.3554 0.7229  -2151.8296   3093.6539\n",
              "make_plymouth          -2046.9850  1382.4636 -1.4807 0.1412  -4783.2677    689.2976\n",
              "aspiration_std         -2182.2210   766.0489 -2.8487 0.0051  -3698.4464   -665.9956\n",
              "peak_rpm                   1.5815     0.5770  2.7408 0.0070      0.4394      2.7236\n",
              "fuel_type_gas            -41.0602  1061.4408 -0.0387 0.9692  -2141.9488   2059.8284\n",
              "engine_size               87.7621    13.2283  6.6344 0.0000     61.5795    113.9447\n",
              "make_mitsubishi        -2121.3120  1005.6563 -2.1094 0.0369  -4111.7874   -130.8366\n",
              "make_alfa-romero        6286.6774  2027.2382  3.1011 0.0024   2274.2052  10299.1496\n",
              "width                    504.1686   239.1089  2.1085 0.0370     30.9050    977.4321\n",
              "engine_location_front -15606.8349  2819.6305 -5.5351 0.0000 -21187.6736 -10025.9963\n",
              "make_dodge             -1658.8432  1081.0051 -1.5345 0.1274  -3798.4552    480.7687\n",
              "num_of_cylinders_four  -1464.9970   809.0574 -1.8107 0.0726  -3066.3484    136.3543\n",
              "engine_type_l          -3324.1022  1164.7937 -2.8538 0.0051  -5629.5553  -1018.6492\n",
              "make_toyota             -806.1505   668.0973 -1.2066 0.2299  -2128.5023    516.2013\n",
              "length                   -83.1649    51.7962 -1.6056 0.1109   -185.6841     19.3543\n",
              "make_bmw                8346.7492  1207.3673  6.9132 0.0000   5957.0310  10736.4674\n",
              "-----------------------------------------------------------------------------------\n",
              "Omnibus:                    22.106             Durbin-Watson:                1.951 \n",
              "Prob(Omnibus):              0.000              Jarque-Bera (JB):             48.292\n",
              "Skew:                       0.639              Prob(JB):                     0.000 \n",
              "Kurtosis:                   5.544              Condition No.:                345646\n",
              "===================================================================================\n",
              "* The condition number is large (3e+05). This might indicate             strong\n",
              "multicollinearity or other numerical problems.\n",
              "\"\"\""
            ]
          },
          "metadata": {},
          "execution_count": 115
        }
      ]
    },
    {
      "cell_type": "code",
      "metadata": {
        "id": "yGQGQLRQ95Z2"
      },
      "source": [
        ""
      ],
      "execution_count": null,
      "outputs": []
    }
  ]
}